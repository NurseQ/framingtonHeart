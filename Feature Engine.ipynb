{
 "cells": [
  {
   "cell_type": "code",
   "execution_count": 1,
   "id": "810fdc6e",
   "metadata": {},
   "outputs": [],
   "source": [
    "# following the steps https://www.kaggle.com/solegalli/feature-selection-with-feature-engine"
   ]
  },
  {
   "cell_type": "code",
   "execution_count": 2,
   "id": "a4a335f5",
   "metadata": {},
   "outputs": [],
   "source": [
    "# import necessary libraries\n",
    "import numpy as np\n",
    "import matplotlib.pyplot as plt\n",
    "import pandas as pd\n",
    "\n",
    "from sklearn.ensemble import RandomForestClassifier\n",
    "from sklearn.linear_model import LogisticRegression\n",
    "from sklearn.metrics import roc_auc_score\n",
    "from sklearn.model_selection import train_test_split, cross_validate\n",
    "from sklearn.pipeline import Pipeline\n",
    "from sklearn.preprocessing import StandardScaler"
   ]
  },
  {
   "cell_type": "code",
   "execution_count": 3,
   "id": "9b9247ad",
   "metadata": {
    "scrolled": false
   },
   "outputs": [],
   "source": [
    "df = pd.read_csv(\"..\\\\train.csv\")"
   ]
  },
  {
   "cell_type": "code",
   "execution_count": 4,
   "id": "7fad48bd",
   "metadata": {},
   "outputs": [
    {
     "data": {
      "text/html": [
       "<div>\n",
       "<style scoped>\n",
       "    .dataframe tbody tr th:only-of-type {\n",
       "        vertical-align: middle;\n",
       "    }\n",
       "\n",
       "    .dataframe tbody tr th {\n",
       "        vertical-align: top;\n",
       "    }\n",
       "\n",
       "    .dataframe thead th {\n",
       "        text-align: right;\n",
       "    }\n",
       "</style>\n",
       "<table border=\"1\" class=\"dataframe\">\n",
       "  <thead>\n",
       "    <tr style=\"text-align: right;\">\n",
       "      <th></th>\n",
       "      <th>ID</th>\n",
       "      <th>var3</th>\n",
       "      <th>var15</th>\n",
       "      <th>imp_ent_var16_ult1</th>\n",
       "      <th>imp_op_var39_comer_ult1</th>\n",
       "      <th>imp_op_var39_comer_ult3</th>\n",
       "      <th>imp_op_var40_comer_ult1</th>\n",
       "      <th>imp_op_var40_comer_ult3</th>\n",
       "      <th>imp_op_var40_efect_ult1</th>\n",
       "      <th>imp_op_var40_efect_ult3</th>\n",
       "      <th>...</th>\n",
       "      <th>saldo_medio_var33_hace2</th>\n",
       "      <th>saldo_medio_var33_hace3</th>\n",
       "      <th>saldo_medio_var33_ult1</th>\n",
       "      <th>saldo_medio_var33_ult3</th>\n",
       "      <th>saldo_medio_var44_hace2</th>\n",
       "      <th>saldo_medio_var44_hace3</th>\n",
       "      <th>saldo_medio_var44_ult1</th>\n",
       "      <th>saldo_medio_var44_ult3</th>\n",
       "      <th>var38</th>\n",
       "      <th>TARGET</th>\n",
       "    </tr>\n",
       "  </thead>\n",
       "  <tbody>\n",
       "    <tr>\n",
       "      <th>0</th>\n",
       "      <td>1</td>\n",
       "      <td>2</td>\n",
       "      <td>23</td>\n",
       "      <td>0.0</td>\n",
       "      <td>0.0</td>\n",
       "      <td>0.0</td>\n",
       "      <td>0.0</td>\n",
       "      <td>0.0</td>\n",
       "      <td>0.0</td>\n",
       "      <td>0.0</td>\n",
       "      <td>...</td>\n",
       "      <td>0.0</td>\n",
       "      <td>0.0</td>\n",
       "      <td>0.0</td>\n",
       "      <td>0.0</td>\n",
       "      <td>0.0</td>\n",
       "      <td>0.0</td>\n",
       "      <td>0.0</td>\n",
       "      <td>0.0</td>\n",
       "      <td>39205.170000</td>\n",
       "      <td>0</td>\n",
       "    </tr>\n",
       "    <tr>\n",
       "      <th>1</th>\n",
       "      <td>3</td>\n",
       "      <td>2</td>\n",
       "      <td>34</td>\n",
       "      <td>0.0</td>\n",
       "      <td>0.0</td>\n",
       "      <td>0.0</td>\n",
       "      <td>0.0</td>\n",
       "      <td>0.0</td>\n",
       "      <td>0.0</td>\n",
       "      <td>0.0</td>\n",
       "      <td>...</td>\n",
       "      <td>0.0</td>\n",
       "      <td>0.0</td>\n",
       "      <td>0.0</td>\n",
       "      <td>0.0</td>\n",
       "      <td>0.0</td>\n",
       "      <td>0.0</td>\n",
       "      <td>0.0</td>\n",
       "      <td>0.0</td>\n",
       "      <td>49278.030000</td>\n",
       "      <td>0</td>\n",
       "    </tr>\n",
       "    <tr>\n",
       "      <th>2</th>\n",
       "      <td>4</td>\n",
       "      <td>2</td>\n",
       "      <td>23</td>\n",
       "      <td>0.0</td>\n",
       "      <td>0.0</td>\n",
       "      <td>0.0</td>\n",
       "      <td>0.0</td>\n",
       "      <td>0.0</td>\n",
       "      <td>0.0</td>\n",
       "      <td>0.0</td>\n",
       "      <td>...</td>\n",
       "      <td>0.0</td>\n",
       "      <td>0.0</td>\n",
       "      <td>0.0</td>\n",
       "      <td>0.0</td>\n",
       "      <td>0.0</td>\n",
       "      <td>0.0</td>\n",
       "      <td>0.0</td>\n",
       "      <td>0.0</td>\n",
       "      <td>67333.770000</td>\n",
       "      <td>0</td>\n",
       "    </tr>\n",
       "    <tr>\n",
       "      <th>3</th>\n",
       "      <td>8</td>\n",
       "      <td>2</td>\n",
       "      <td>37</td>\n",
       "      <td>0.0</td>\n",
       "      <td>195.0</td>\n",
       "      <td>195.0</td>\n",
       "      <td>0.0</td>\n",
       "      <td>0.0</td>\n",
       "      <td>0.0</td>\n",
       "      <td>0.0</td>\n",
       "      <td>...</td>\n",
       "      <td>0.0</td>\n",
       "      <td>0.0</td>\n",
       "      <td>0.0</td>\n",
       "      <td>0.0</td>\n",
       "      <td>0.0</td>\n",
       "      <td>0.0</td>\n",
       "      <td>0.0</td>\n",
       "      <td>0.0</td>\n",
       "      <td>64007.970000</td>\n",
       "      <td>0</td>\n",
       "    </tr>\n",
       "    <tr>\n",
       "      <th>4</th>\n",
       "      <td>10</td>\n",
       "      <td>2</td>\n",
       "      <td>39</td>\n",
       "      <td>0.0</td>\n",
       "      <td>0.0</td>\n",
       "      <td>0.0</td>\n",
       "      <td>0.0</td>\n",
       "      <td>0.0</td>\n",
       "      <td>0.0</td>\n",
       "      <td>0.0</td>\n",
       "      <td>...</td>\n",
       "      <td>0.0</td>\n",
       "      <td>0.0</td>\n",
       "      <td>0.0</td>\n",
       "      <td>0.0</td>\n",
       "      <td>0.0</td>\n",
       "      <td>0.0</td>\n",
       "      <td>0.0</td>\n",
       "      <td>0.0</td>\n",
       "      <td>117310.979016</td>\n",
       "      <td>0</td>\n",
       "    </tr>\n",
       "  </tbody>\n",
       "</table>\n",
       "<p>5 rows × 371 columns</p>\n",
       "</div>"
      ],
      "text/plain": [
       "   ID  var3  var15  imp_ent_var16_ult1  imp_op_var39_comer_ult1  \\\n",
       "0   1     2     23                 0.0                      0.0   \n",
       "1   3     2     34                 0.0                      0.0   \n",
       "2   4     2     23                 0.0                      0.0   \n",
       "3   8     2     37                 0.0                    195.0   \n",
       "4  10     2     39                 0.0                      0.0   \n",
       "\n",
       "   imp_op_var39_comer_ult3  imp_op_var40_comer_ult1  imp_op_var40_comer_ult3  \\\n",
       "0                      0.0                      0.0                      0.0   \n",
       "1                      0.0                      0.0                      0.0   \n",
       "2                      0.0                      0.0                      0.0   \n",
       "3                    195.0                      0.0                      0.0   \n",
       "4                      0.0                      0.0                      0.0   \n",
       "\n",
       "   imp_op_var40_efect_ult1  imp_op_var40_efect_ult3  ...  \\\n",
       "0                      0.0                      0.0  ...   \n",
       "1                      0.0                      0.0  ...   \n",
       "2                      0.0                      0.0  ...   \n",
       "3                      0.0                      0.0  ...   \n",
       "4                      0.0                      0.0  ...   \n",
       "\n",
       "   saldo_medio_var33_hace2  saldo_medio_var33_hace3  saldo_medio_var33_ult1  \\\n",
       "0                      0.0                      0.0                     0.0   \n",
       "1                      0.0                      0.0                     0.0   \n",
       "2                      0.0                      0.0                     0.0   \n",
       "3                      0.0                      0.0                     0.0   \n",
       "4                      0.0                      0.0                     0.0   \n",
       "\n",
       "   saldo_medio_var33_ult3  saldo_medio_var44_hace2  saldo_medio_var44_hace3  \\\n",
       "0                     0.0                      0.0                      0.0   \n",
       "1                     0.0                      0.0                      0.0   \n",
       "2                     0.0                      0.0                      0.0   \n",
       "3                     0.0                      0.0                      0.0   \n",
       "4                     0.0                      0.0                      0.0   \n",
       "\n",
       "   saldo_medio_var44_ult1  saldo_medio_var44_ult3          var38  TARGET  \n",
       "0                     0.0                     0.0   39205.170000       0  \n",
       "1                     0.0                     0.0   49278.030000       0  \n",
       "2                     0.0                     0.0   67333.770000       0  \n",
       "3                     0.0                     0.0   64007.970000       0  \n",
       "4                     0.0                     0.0  117310.979016       0  \n",
       "\n",
       "[5 rows x 371 columns]"
      ]
     },
     "execution_count": 4,
     "metadata": {},
     "output_type": "execute_result"
    }
   ],
   "source": [
    "df.head()"
   ]
  },
  {
   "cell_type": "code",
   "execution_count": 5,
   "id": "9d5b50da",
   "metadata": {
    "scrolled": true
   },
   "outputs": [
    {
     "data": {
      "text/plain": [
       "(76020, 371)"
      ]
     },
     "execution_count": 5,
     "metadata": {},
     "output_type": "execute_result"
    }
   ],
   "source": [
    "df.shape"
   ]
  },
  {
   "cell_type": "code",
   "execution_count": 6,
   "id": "0c135e56",
   "metadata": {},
   "outputs": [
    {
     "data": {
      "text/plain": [
       "0    0.960431\n",
       "1    0.039569\n",
       "Name: TARGET, dtype: float64"
      ]
     },
     "execution_count": 6,
     "metadata": {},
     "output_type": "execute_result"
    }
   ],
   "source": [
    "df.TARGET.value_counts()/len(df.TARGET)"
   ]
  },
  {
   "cell_type": "code",
   "execution_count": 7,
   "id": "b2e75dd5",
   "metadata": {},
   "outputs": [
    {
     "data": {
      "text/plain": [
       "ID                           int64\n",
       "var3                         int64\n",
       "var15                        int64\n",
       "imp_ent_var16_ult1         float64\n",
       "imp_op_var39_comer_ult1    float64\n",
       "                            ...   \n",
       "saldo_medio_var44_hace3    float64\n",
       "saldo_medio_var44_ult1     float64\n",
       "saldo_medio_var44_ult3     float64\n",
       "var38                      float64\n",
       "TARGET                       int64\n",
       "Length: 371, dtype: object"
      ]
     },
     "execution_count": 7,
     "metadata": {},
     "output_type": "execute_result"
    }
   ],
   "source": [
    "df.dtypes"
   ]
  },
  {
   "cell_type": "code",
   "execution_count": 8,
   "id": "ef5f2429",
   "metadata": {},
   "outputs": [],
   "source": [
    "from sklearn.model_selection import train_test_split"
   ]
  },
  {
   "cell_type": "code",
   "execution_count": 9,
   "id": "0328db23",
   "metadata": {},
   "outputs": [
    {
     "data": {
      "text/plain": [
       "((53214, 369), (22806, 369))"
      ]
     },
     "execution_count": 9,
     "metadata": {},
     "output_type": "execute_result"
    }
   ],
   "source": [
    "X_train, X_test, y_train, y_test = train_test_split(\n",
    "    df.drop(labels=['ID','TARGET'],axis=1), df.TARGET, test_size=0.3)\n",
    "\n",
    "X_train.shape, X_test.shape"
   ]
  },
  {
   "cell_type": "code",
   "execution_count": 10,
   "id": "04ea979f",
   "metadata": {
    "scrolled": true
   },
   "outputs": [
    {
     "data": {
      "text/plain": [
       "(0    0.959841\n",
       " 1    0.040159\n",
       " Name: TARGET, dtype: float64,\n",
       " 0    51077\n",
       " 1     2137\n",
       " Name: TARGET, dtype: int64)"
      ]
     },
     "execution_count": 10,
     "metadata": {},
     "output_type": "execute_result"
    }
   ],
   "source": [
    "y_train.value_counts(normalize=True), y_train.value_counts()"
   ]
  },
  {
   "cell_type": "markdown",
   "id": "e787fd86",
   "metadata": {},
   "source": [
    "## Feature Engineering"
   ]
  },
  {
   "cell_type": "code",
   "execution_count": 11,
   "id": "1e134503",
   "metadata": {},
   "outputs": [],
   "source": [
    "# import feature selection libraries\n",
    "from feature_engine.selection import (\n",
    "    DropDuplicateFeatures,\n",
    "    DropConstantFeatures,\n",
    "    DropDuplicateFeatures,\n",
    "    DropCorrelatedFeatures,\n",
    "    SmartCorrelatedSelection,\n",
    "    SelectByShuffling,\n",
    "    SelectBySingleFeaturePerformance,\n",
    "    RecursiveFeatureElimination,\n",
    ")"
   ]
  },
  {
   "cell_type": "code",
   "execution_count": 13,
   "id": "29596a21",
   "metadata": {
    "scrolled": true
   },
   "outputs": [
    {
     "name": "stdout",
     "output_type": "stream",
     "text": [
      "[]\n"
     ]
    }
   ],
   "source": [
    "# check for any null values, and none found \n",
    "nullCols = []\n",
    "for i in X_train.columns:\n",
    "    if X_train[i].isnull().sum()>0:\n",
    "        append.nullCols\n",
    "print(nullCols)  \n",
    "\n",
    "# [x for x in X_train.columns if X_train[x].isnull().sum() > 0]"
   ]
  },
  {
   "cell_type": "code",
   "execution_count": 14,
   "id": "464b982d",
   "metadata": {},
   "outputs": [
    {
     "data": {
      "text/plain": [
       "Index(['ind_var2_0', 'ind_var2', 'ind_var27_0', 'ind_var28_0', 'ind_var28',\n",
       "       'ind_var27', 'ind_var41', 'ind_var46_0', 'ind_var46', 'num_var27_0',\n",
       "       'num_var28_0', 'num_var28', 'num_var27', 'num_var41', 'num_var46_0',\n",
       "       'num_var46', 'saldo_var28', 'saldo_var27', 'saldo_var41', 'saldo_var46',\n",
       "       'imp_amort_var18_hace3', 'imp_amort_var34_hace3',\n",
       "       'imp_reemb_var13_hace3', 'imp_reemb_var33_hace3',\n",
       "       'imp_trasp_var17_out_hace3', 'imp_trasp_var33_out_hace3',\n",
       "       'num_var2_0_ult1', 'num_var2_ult1', 'num_reemb_var13_hace3',\n",
       "       'num_reemb_var33_hace3', 'num_trasp_var17_out_hace3',\n",
       "       'num_trasp_var33_out_hace3', 'saldo_var2_ult1',\n",
       "       'saldo_medio_var13_medio_hace3', 'saldo_medio_var29_hace3'],\n",
       "      dtype='object')"
      ]
     },
     "execution_count": 14,
     "metadata": {},
     "output_type": "execute_result"
    }
   ],
   "source": [
    "# we can see that these columns only have one value \n",
    "X_train.columns[X_train.nunique()==1]"
   ]
  },
  {
   "cell_type": "code",
   "execution_count": 15,
   "id": "9aeafa5e",
   "metadata": {},
   "outputs": [
    {
     "data": {
      "text/plain": [
       "0    53214\n",
       "Name: ind_var2_0, dtype: int64"
      ]
     },
     "execution_count": 15,
     "metadata": {},
     "output_type": "execute_result"
    }
   ],
   "source": [
    "X_train.ind_var2_0.value_counts()"
   ]
  },
  {
   "cell_type": "markdown",
   "id": "6cdd182d",
   "metadata": {},
   "source": [
    "### Check for constant Features"
   ]
  },
  {
   "cell_type": "code",
   "execution_count": 16,
   "id": "6535793e",
   "metadata": {},
   "outputs": [
    {
     "data": {
      "text/plain": [
       "DropConstantFeatures()"
      ]
     },
     "execution_count": 16,
     "metadata": {},
     "output_type": "execute_result"
    }
   ],
   "source": [
    "# tol=1, means to remove constant features\n",
    "constant = DropConstantFeatures(tol=1)\n",
    "# thenwe fit to find the features\n",
    "constant.fit(X_train)"
   ]
  },
  {
   "cell_type": "code",
   "execution_count": 17,
   "id": "e7455a2f",
   "metadata": {
    "scrolled": false
   },
   "outputs": [
    {
     "data": {
      "text/plain": [
       "['ind_var2_0',\n",
       " 'ind_var2',\n",
       " 'ind_var27_0',\n",
       " 'ind_var28_0',\n",
       " 'ind_var28',\n",
       " 'ind_var27',\n",
       " 'ind_var41',\n",
       " 'ind_var46_0',\n",
       " 'ind_var46',\n",
       " 'num_var27_0',\n",
       " 'num_var28_0',\n",
       " 'num_var28',\n",
       " 'num_var27',\n",
       " 'num_var41',\n",
       " 'num_var46_0',\n",
       " 'num_var46',\n",
       " 'saldo_var28',\n",
       " 'saldo_var27',\n",
       " 'saldo_var41',\n",
       " 'saldo_var46',\n",
       " 'imp_amort_var18_hace3',\n",
       " 'imp_amort_var34_hace3',\n",
       " 'imp_reemb_var13_hace3',\n",
       " 'imp_reemb_var33_hace3',\n",
       " 'imp_trasp_var17_out_hace3',\n",
       " 'imp_trasp_var33_out_hace3',\n",
       " 'num_var2_0_ult1',\n",
       " 'num_var2_ult1',\n",
       " 'num_reemb_var13_hace3',\n",
       " 'num_reemb_var33_hace3',\n",
       " 'num_trasp_var17_out_hace3',\n",
       " 'num_trasp_var33_out_hace3',\n",
       " 'saldo_var2_ult1',\n",
       " 'saldo_medio_var13_medio_hace3',\n",
       " 'saldo_medio_var29_hace3']"
      ]
     },
     "execution_count": 17,
     "metadata": {},
     "output_type": "execute_result"
    }
   ],
   "source": [
    "constant.features_to_drop_"
   ]
  },
  {
   "cell_type": "code",
   "execution_count": 18,
   "id": "bc626fa0",
   "metadata": {},
   "outputs": [
    {
     "data": {
      "text/plain": [
       "35"
      ]
     },
     "execution_count": 18,
     "metadata": {},
     "output_type": "execute_result"
    }
   ],
   "source": [
    "len(constant.features_to_drop_)"
   ]
  },
  {
   "cell_type": "code",
   "execution_count": 19,
   "id": "6c6e1b88",
   "metadata": {},
   "outputs": [
    {
     "data": {
      "text/plain": [
       "array([0], dtype=int64)"
      ]
     },
     "execution_count": 19,
     "metadata": {},
     "output_type": "execute_result"
    }
   ],
   "source": [
    "# check one feature to see if it really has a constant feature\n",
    "df.ind_var2_0.unique()"
   ]
  },
  {
   "cell_type": "code",
   "execution_count": 20,
   "id": "422cdaba",
   "metadata": {
    "scrolled": true
   },
   "outputs": [
    {
     "name": "stdout",
     "output_type": "stream",
     "text": [
      "The number of features before dropping constants:  369\n",
      "The number of feature after dropping constants:  334\n"
     ]
    }
   ],
   "source": [
    "print('The number of features before dropping constants: ', X_train.shape[1])\n",
    "\n",
    "X_train = constant.transform(X_train)\n",
    "X_test = constant.transform(X_test)\n",
    "\n",
    "print('The number of feature after dropping constants: ', X_train.shape[1])"
   ]
  },
  {
   "cell_type": "markdown",
   "id": "6050fdea",
   "metadata": {},
   "source": [
    "### Check for quasiconstant features"
   ]
  },
  {
   "cell_type": "code",
   "execution_count": 21,
   "id": "01cd52a2",
   "metadata": {},
   "outputs": [
    {
     "data": {
      "text/plain": [
       "DropConstantFeatures(tol=0.998)"
      ]
     },
     "execution_count": 21,
     "metadata": {},
     "output_type": "execute_result"
    }
   ],
   "source": [
    "quasi_cons = DropConstantFeatures(tol=0.998)\n",
    "quasi_cons.fit(X_train)"
   ]
  },
  {
   "cell_type": "code",
   "execution_count": 22,
   "id": "0cdb3f9a",
   "metadata": {},
   "outputs": [
    {
     "data": {
      "text/plain": [
       "['imp_op_var40_efect_ult1',\n",
       " 'imp_op_var40_efect_ult3',\n",
       " 'imp_sal_var16_ult1',\n",
       " 'ind_var6_0',\n",
       " 'ind_var6',\n",
       " 'ind_var13_medio_0',\n",
       " 'ind_var13_medio',\n",
       " 'ind_var17_0',\n",
       " 'ind_var17',\n",
       " 'ind_var18_0',\n",
       " 'ind_var18',\n",
       " 'ind_var29_0',\n",
       " 'ind_var29',\n",
       " 'ind_var32_cte',\n",
       " 'ind_var32_0',\n",
       " 'ind_var32',\n",
       " 'ind_var33_0',\n",
       " 'ind_var33',\n",
       " 'ind_var34_0',\n",
       " 'ind_var34',\n",
       " 'ind_var44_0',\n",
       " 'ind_var44',\n",
       " 'num_var6_0',\n",
       " 'num_var6',\n",
       " 'num_var13_medio_0',\n",
       " 'num_var13_medio',\n",
       " 'num_var17_0',\n",
       " 'num_var17',\n",
       " 'num_var18_0',\n",
       " 'num_var18',\n",
       " 'num_op_var40_hace2',\n",
       " 'num_op_var40_hace3',\n",
       " 'num_var29_0',\n",
       " 'num_var29',\n",
       " 'num_var32_0',\n",
       " 'num_var32',\n",
       " 'num_var33_0',\n",
       " 'num_var33',\n",
       " 'num_var34_0',\n",
       " 'num_var34',\n",
       " 'num_var44_0',\n",
       " 'num_var44',\n",
       " 'saldo_var6',\n",
       " 'saldo_var13_medio',\n",
       " 'saldo_var17',\n",
       " 'saldo_var18',\n",
       " 'saldo_var29',\n",
       " 'saldo_var32',\n",
       " 'saldo_var33',\n",
       " 'saldo_var34',\n",
       " 'saldo_var44',\n",
       " 'delta_imp_amort_var18_1y3',\n",
       " 'delta_imp_amort_var34_1y3',\n",
       " 'delta_imp_aport_var17_1y3',\n",
       " 'delta_imp_aport_var33_1y3',\n",
       " 'delta_imp_compra_var44_1y3',\n",
       " 'delta_imp_reemb_var13_1y3',\n",
       " 'delta_imp_reemb_var17_1y3',\n",
       " 'delta_imp_reemb_var33_1y3',\n",
       " 'delta_imp_trasp_var17_in_1y3',\n",
       " 'delta_imp_trasp_var17_out_1y3',\n",
       " 'delta_imp_trasp_var33_in_1y3',\n",
       " 'delta_imp_trasp_var33_out_1y3',\n",
       " 'delta_imp_venta_var44_1y3',\n",
       " 'delta_num_aport_var17_1y3',\n",
       " 'delta_num_aport_var33_1y3',\n",
       " 'delta_num_compra_var44_1y3',\n",
       " 'delta_num_reemb_var13_1y3',\n",
       " 'delta_num_reemb_var17_1y3',\n",
       " 'delta_num_reemb_var33_1y3',\n",
       " 'delta_num_trasp_var17_in_1y3',\n",
       " 'delta_num_trasp_var17_out_1y3',\n",
       " 'delta_num_trasp_var33_in_1y3',\n",
       " 'delta_num_trasp_var33_out_1y3',\n",
       " 'delta_num_venta_var44_1y3',\n",
       " 'imp_amort_var18_ult1',\n",
       " 'imp_amort_var34_ult1',\n",
       " 'imp_aport_var17_hace3',\n",
       " 'imp_aport_var17_ult1',\n",
       " 'imp_aport_var33_hace3',\n",
       " 'imp_aport_var33_ult1',\n",
       " 'imp_var7_emit_ult1',\n",
       " 'imp_compra_var44_hace3',\n",
       " 'imp_compra_var44_ult1',\n",
       " 'imp_reemb_var13_ult1',\n",
       " 'imp_reemb_var17_hace3',\n",
       " 'imp_reemb_var17_ult1',\n",
       " 'imp_reemb_var33_ult1',\n",
       " 'imp_trasp_var17_in_hace3',\n",
       " 'imp_trasp_var17_in_ult1',\n",
       " 'imp_trasp_var17_out_ult1',\n",
       " 'imp_trasp_var33_in_hace3',\n",
       " 'imp_trasp_var33_in_ult1',\n",
       " 'imp_trasp_var33_out_ult1',\n",
       " 'imp_venta_var44_hace3',\n",
       " 'imp_venta_var44_ult1',\n",
       " 'ind_var7_emit_ult1',\n",
       " 'num_aport_var17_hace3',\n",
       " 'num_aport_var17_ult1',\n",
       " 'num_aport_var33_hace3',\n",
       " 'num_aport_var33_ult1',\n",
       " 'num_var7_emit_ult1',\n",
       " 'num_compra_var44_hace3',\n",
       " 'num_compra_var44_ult1',\n",
       " 'num_meses_var13_medio_ult3',\n",
       " 'num_meses_var17_ult3',\n",
       " 'num_meses_var29_ult3',\n",
       " 'num_meses_var33_ult3',\n",
       " 'num_meses_var44_ult3',\n",
       " 'num_op_var40_efect_ult1',\n",
       " 'num_op_var40_efect_ult3',\n",
       " 'num_reemb_var13_ult1',\n",
       " 'num_reemb_var17_hace3',\n",
       " 'num_reemb_var17_ult1',\n",
       " 'num_reemb_var33_ult1',\n",
       " 'num_sal_var16_ult1',\n",
       " 'num_trasp_var17_in_hace3',\n",
       " 'num_trasp_var17_in_ult1',\n",
       " 'num_trasp_var17_out_ult1',\n",
       " 'num_trasp_var33_in_hace3',\n",
       " 'num_trasp_var33_in_ult1',\n",
       " 'num_trasp_var33_out_ult1',\n",
       " 'num_venta_var44_hace3',\n",
       " 'num_venta_var44_ult1',\n",
       " 'saldo_medio_var13_medio_hace2',\n",
       " 'saldo_medio_var13_medio_ult1',\n",
       " 'saldo_medio_var13_medio_ult3',\n",
       " 'saldo_medio_var17_hace2',\n",
       " 'saldo_medio_var17_hace3',\n",
       " 'saldo_medio_var17_ult1',\n",
       " 'saldo_medio_var17_ult3',\n",
       " 'saldo_medio_var29_hace2',\n",
       " 'saldo_medio_var29_ult1',\n",
       " 'saldo_medio_var29_ult3',\n",
       " 'saldo_medio_var33_hace2',\n",
       " 'saldo_medio_var33_hace3',\n",
       " 'saldo_medio_var33_ult1',\n",
       " 'saldo_medio_var33_ult3',\n",
       " 'saldo_medio_var44_hace2',\n",
       " 'saldo_medio_var44_hace3',\n",
       " 'saldo_medio_var44_ult1',\n",
       " 'saldo_medio_var44_ult3']"
      ]
     },
     "execution_count": 22,
     "metadata": {},
     "output_type": "execute_result"
    }
   ],
   "source": [
    "quasi_cons.features_to_drop_"
   ]
  },
  {
   "cell_type": "code",
   "execution_count": 23,
   "id": "8beaba47",
   "metadata": {},
   "outputs": [
    {
     "data": {
      "text/plain": [
       "142"
      ]
     },
     "execution_count": 23,
     "metadata": {},
     "output_type": "execute_result"
    }
   ],
   "source": [
    "len(quasi_cons.features_to_drop_)"
   ]
  },
  {
   "cell_type": "code",
   "execution_count": 24,
   "id": "63fcaf81",
   "metadata": {
    "scrolled": true
   },
   "outputs": [
    {
     "data": {
      "text/plain": [
       "0.00        0.998835\n",
       "1.26        0.000019\n",
       "60832.68    0.000019\n",
       "3459.72     0.000019\n",
       "3200.16     0.000019\n",
       "              ...   \n",
       "2.67        0.000019\n",
       "5153.22     0.000019\n",
       "1702.74     0.000019\n",
       "9529.20     0.000019\n",
       "27781.50    0.000019\n",
       "Name: saldo_medio_var44_hace2, Length: 63, dtype: float64"
      ]
     },
     "execution_count": 24,
     "metadata": {},
     "output_type": "execute_result"
    }
   ],
   "source": [
    "# percentage of observation for each value \n",
    "X_train.saldo_medio_var44_hace2.value_counts()/len(X_train)"
   ]
  },
  {
   "cell_type": "code",
   "execution_count": 25,
   "id": "54dbec47",
   "metadata": {},
   "outputs": [
    {
     "name": "stdout",
     "output_type": "stream",
     "text": [
      "The number of features before dropping quasi-constants:  334\n",
      "The number of feature after dropping quasi-constants:  192\n"
     ]
    }
   ],
   "source": [
    "print('The number of features before dropping quasi-constants: ', X_train.shape[1])\n",
    "\n",
    "X_train = quasi_cons.transform(X_train)\n",
    "X_test = quasi_cons.transform(X_test)\n",
    "\n",
    "print('The number of feature after dropping quasi-constants: ', X_train.shape[1])"
   ]
  },
  {
   "cell_type": "markdown",
   "id": "af96e7e3",
   "metadata": {},
   "source": [
    "### Check for duplicated features"
   ]
  },
  {
   "cell_type": "code",
   "execution_count": 26,
   "id": "a23b98a8",
   "metadata": {},
   "outputs": [
    {
     "data": {
      "text/plain": [
       "DropDuplicateFeatures()"
      ]
     },
     "execution_count": 26,
     "metadata": {},
     "output_type": "execute_result"
    }
   ],
   "source": [
    "dups = DropDuplicateFeatures()\n",
    "\n",
    "dups.fit(X_train)"
   ]
  },
  {
   "cell_type": "code",
   "execution_count": 27,
   "id": "12ac266c",
   "metadata": {
    "scrolled": false
   },
   "outputs": [
    {
     "data": {
      "text/plain": [
       "[{'ind_var26', 'ind_var26_0'},\n",
       " {'ind_var25', 'ind_var25_0'},\n",
       " {'ind_var37', 'ind_var37_0'},\n",
       " {'ind_var39', 'ind_var40'},\n",
       " {'num_var26', 'num_var26_0'},\n",
       " {'num_var25', 'num_var25_0'},\n",
       " {'num_var37', 'num_var37_0'},\n",
       " {'num_var39', 'num_var40'}]"
      ]
     },
     "execution_count": 27,
     "metadata": {},
     "output_type": "execute_result"
    }
   ],
   "source": [
    "# here we see the group of identical variables\n",
    "dups.duplicated_feature_sets_"
   ]
  },
  {
   "cell_type": "code",
   "execution_count": 28,
   "id": "d79fd0cd",
   "metadata": {},
   "outputs": [
    {
     "data": {
      "text/plain": [
       "True"
      ]
     },
     "execution_count": 28,
     "metadata": {},
     "output_type": "execute_result"
    }
   ],
   "source": [
    "# check if it is indeed the case\n",
    "X_train.ind_var26.equals(X_train.ind_var26_0)"
   ]
  },
  {
   "cell_type": "code",
   "execution_count": 29,
   "id": "13905255",
   "metadata": {},
   "outputs": [
    {
     "data": {
      "text/html": [
       "<div>\n",
       "<style scoped>\n",
       "    .dataframe tbody tr th:only-of-type {\n",
       "        vertical-align: middle;\n",
       "    }\n",
       "\n",
       "    .dataframe tbody tr th {\n",
       "        vertical-align: top;\n",
       "    }\n",
       "\n",
       "    .dataframe thead th {\n",
       "        text-align: right;\n",
       "    }\n",
       "</style>\n",
       "<table border=\"1\" class=\"dataframe\">\n",
       "  <thead>\n",
       "    <tr style=\"text-align: right;\">\n",
       "      <th></th>\n",
       "      <th>ind_var26</th>\n",
       "      <th>ind_var26_0</th>\n",
       "    </tr>\n",
       "  </thead>\n",
       "  <tbody>\n",
       "    <tr>\n",
       "      <th>46068</th>\n",
       "      <td>0</td>\n",
       "      <td>0</td>\n",
       "    </tr>\n",
       "    <tr>\n",
       "      <th>73025</th>\n",
       "      <td>0</td>\n",
       "      <td>0</td>\n",
       "    </tr>\n",
       "    <tr>\n",
       "      <th>28281</th>\n",
       "      <td>0</td>\n",
       "      <td>0</td>\n",
       "    </tr>\n",
       "    <tr>\n",
       "      <th>38706</th>\n",
       "      <td>0</td>\n",
       "      <td>0</td>\n",
       "    </tr>\n",
       "    <tr>\n",
       "      <th>20121</th>\n",
       "      <td>0</td>\n",
       "      <td>0</td>\n",
       "    </tr>\n",
       "  </tbody>\n",
       "</table>\n",
       "</div>"
      ],
      "text/plain": [
       "       ind_var26  ind_var26_0\n",
       "46068          0            0\n",
       "73025          0            0\n",
       "28281          0            0\n",
       "38706          0            0\n",
       "20121          0            0"
      ]
     },
     "execution_count": 29,
     "metadata": {},
     "output_type": "execute_result"
    }
   ],
   "source": [
    "# inspect actual variables\n",
    "X_train[['ind_var26', 'ind_var26_0']].head()"
   ]
  },
  {
   "cell_type": "code",
   "execution_count": 30,
   "id": "6ba78dd0",
   "metadata": {},
   "outputs": [
    {
     "name": "stdout",
     "output_type": "stream",
     "text": [
      "Number of features before dropping:  192\n",
      "N0. of features after dropping:  184\n"
     ]
    }
   ],
   "source": [
    "print('Number of features before dropping: ', X_train.shape[1])\n",
    "\n",
    "X_train = dups.transform(X_train)\n",
    "X_test = dups.transform(X_test)\n",
    "\n",
    "print('N0. of features after dropping: ', X_train.shape[1])"
   ]
  },
  {
   "cell_type": "markdown",
   "id": "c426d5b4",
   "metadata": {},
   "source": [
    "### Drop Correlated Features"
   ]
  },
  {
   "cell_type": "code",
   "execution_count": 31,
   "id": "acf605fe",
   "metadata": {},
   "outputs": [
    {
     "data": {
      "text/plain": [
       "DropCorrelatedFeatures()"
      ]
     },
     "execution_count": 31,
     "metadata": {},
     "output_type": "execute_result"
    }
   ],
   "source": [
    "# if the variables is set to none, it will examine all variables\n",
    "correlated = DropCorrelatedFeatures(variables=None, method='pearson', threshold=0.8)\n",
    "correlated.fit(X_train)"
   ]
  },
  {
   "cell_type": "code",
   "execution_count": 32,
   "id": "dcb25468",
   "metadata": {},
   "outputs": [
    {
     "data": {
      "text/plain": [
       "[{'imp_op_var39_comer_ult1',\n",
       "  'imp_op_var39_comer_ult3',\n",
       "  'imp_op_var41_comer_ult1',\n",
       "  'imp_op_var41_comer_ult3'},\n",
       " {'imp_op_var40_comer_ult1', 'imp_op_var40_comer_ult3'},\n",
       " {'imp_op_var40_ult1', 'saldo_var40'},\n",
       " {'imp_op_var39_efect_ult1',\n",
       "  'imp_op_var39_ult1',\n",
       "  'imp_op_var41_efect_ult1',\n",
       "  'imp_op_var41_ult1'},\n",
       " {'imp_op_var39_efect_ult3', 'imp_op_var41_efect_ult3'},\n",
       " {'ind_var1_0', 'ind_var40_0', 'num_var1_0', 'num_var40_0'},\n",
       " {'ind_var1', 'ind_var40', 'num_var1', 'num_var40'},\n",
       " {'ind_var5_0',\n",
       "  'ind_var8',\n",
       "  'ind_var8_0',\n",
       "  'num_var5_0',\n",
       "  'num_var8',\n",
       "  'num_var8_0'},\n",
       " {'ind_var30', 'ind_var5', 'num_meses_var5_ult3', 'num_var42', 'num_var5'},\n",
       " {'ind_var12', 'ind_var12_0', 'num_var12', 'num_var12_0'},\n",
       " {'ind_var13',\n",
       "  'ind_var13_0',\n",
       "  'ind_var13_corto',\n",
       "  'ind_var13_corto_0',\n",
       "  'num_meses_var13_corto_ult3',\n",
       "  'num_var13',\n",
       "  'num_var13_0',\n",
       "  'num_var13_corto',\n",
       "  'num_var13_corto_0'},\n",
       " {'ind_var13_largo',\n",
       "  'ind_var13_largo_0',\n",
       "  'num_var13_largo',\n",
       "  'num_var13_largo_0'},\n",
       " {'ind_var14', 'num_var14'},\n",
       " {'ind_var20', 'ind_var20_0', 'num_var20', 'num_var20_0'},\n",
       " {'ind_var24',\n",
       "  'ind_var24_0',\n",
       "  'num_meses_var12_ult3',\n",
       "  'num_var24',\n",
       "  'num_var24_0'},\n",
       " {'ind_var25_0',\n",
       "  'ind_var25_cte',\n",
       "  'ind_var26_0',\n",
       "  'ind_var26_cte',\n",
       "  'num_var25_0',\n",
       "  'num_var26_0'},\n",
       " {'ind_var31', 'ind_var31_0'},\n",
       " {'ind_var10_ult1',\n",
       "  'ind_var10cte_ult1',\n",
       "  'ind_var37_0',\n",
       "  'ind_var37_cte',\n",
       "  'ind_var9_cte_ult1',\n",
       "  'ind_var9_ult1'},\n",
       " {'ind_var39_0',\n",
       "  'ind_var41_0',\n",
       "  'num_meses_var39_vig_ult3',\n",
       "  'num_var39_0',\n",
       "  'num_var41_0'},\n",
       " {'num_var35', 'num_var4'},\n",
       " {'num_op_var40_ult1', 'num_op_var40_ult3'},\n",
       " {'num_op_var39_hace2',\n",
       "  'num_op_var39_ult3',\n",
       "  'num_op_var41_hace2',\n",
       "  'num_op_var41_ult3'},\n",
       " {'num_op_var39_hace3', 'num_op_var41_hace3'},\n",
       " {'num_op_var39_comer_ult1',\n",
       "  'num_op_var39_comer_ult3',\n",
       "  'num_op_var39_ult1',\n",
       "  'num_op_var41_comer_ult1',\n",
       "  'num_op_var41_comer_ult3',\n",
       "  'num_op_var41_ult1'},\n",
       " {'num_var30_0', 'num_var42_0'},\n",
       " {'num_var31', 'num_var31_0'},\n",
       " {'num_var37_0', 'num_var37_med_ult2'},\n",
       " {'saldo_medio_var5_ult1', 'saldo_var5'},\n",
       " {'saldo_medio_var8_ult1', 'saldo_medio_var8_ult3', 'saldo_var8'},\n",
       " {'saldo_medio_var12_hace2',\n",
       "  'saldo_medio_var12_ult1',\n",
       "  'saldo_medio_var12_ult3',\n",
       "  'saldo_var12',\n",
       "  'saldo_var24',\n",
       "  'saldo_var42'},\n",
       " {'saldo_medio_var13_corto_hace2',\n",
       "  'saldo_medio_var13_corto_ult1',\n",
       "  'saldo_medio_var13_corto_ult3',\n",
       "  'saldo_var13',\n",
       "  'saldo_var13_corto'},\n",
       " {'saldo_medio_var13_largo_ult1', 'saldo_var13_largo'},\n",
       " {'saldo_var25', 'saldo_var26'},\n",
       " {'delta_imp_aport_var13_1y3', 'delta_num_aport_var13_1y3'},\n",
       " {'ind_var7_recib_ult1', 'num_var7_recib_ult1'},\n",
       " {'num_med_var22_ult3', 'num_var22_ult3'},\n",
       " {'num_med_var45_ult3', 'num_var45_hace2', 'num_var45_ult1', 'num_var45_ult3'},\n",
       " {'num_op_var40_comer_ult1', 'num_op_var40_comer_ult3'},\n",
       " {'num_op_var39_efect_ult1',\n",
       "  'num_op_var39_efect_ult3',\n",
       "  'num_op_var41_efect_ult1',\n",
       "  'num_op_var41_efect_ult3'},\n",
       " {'saldo_medio_var13_largo_hace2', 'saldo_medio_var13_largo_ult3'}]"
      ]
     },
     "execution_count": 32,
     "metadata": {},
     "output_type": "execute_result"
    }
   ],
   "source": [
    "# Here we see features that are correlated, other items are correlated with multiple\n",
    "correlated.correlated_feature_sets_"
   ]
  },
  {
   "cell_type": "code",
   "execution_count": 33,
   "id": "8600d7c1",
   "metadata": {},
   "outputs": [],
   "source": [
    "import seaborn as sns"
   ]
  },
  {
   "cell_type": "code",
   "execution_count": 34,
   "id": "8c6656c8",
   "metadata": {},
   "outputs": [
    {
     "data": {
      "text/plain": [
       "<AxesSubplot:>"
      ]
     },
     "execution_count": 34,
     "metadata": {},
     "output_type": "execute_result"
    },
    {
     "data": {
      "image/png": "[encoded data removed]",
      "text/plain": [
       "<Figure size 360x360 with 2 Axes>"
      ]
     },
     "metadata": {
      "needs_background": "light"
     },
     "output_type": "display_data"
    }
   ],
   "source": [
    "# plot a correlation map with some of the features \n",
    "\n",
    "corrmat = X_train[['ind_var13',\n",
    "  'ind_var13_0',\n",
    "  'ind_var13_corto',\n",
    "  'ind_var13_corto_0',\n",
    "  'num_meses_var13_corto_ult3',\n",
    "  'num_var13',\n",
    "  'num_var13_0',\n",
    "  'num_var13_corto',\n",
    "  'num_var13_corto_0']].corr(method='pearson')\n",
    "\n",
    "cmap = sns.diverging_palette(220, 20, as_cmap=True)\n",
    "\n",
    "fig,ax=plt.subplots()\n",
    "fig.set_size_inches(5,5)\n",
    "\n",
    "sns.heatmap(corrmat, cmap=cmap)"
   ]
  },
  {
   "cell_type": "markdown",
   "id": "0ffccfdd",
   "metadata": {},
   "source": [
    "the plot shows correlation over 0.8"
   ]
  },
  {
   "cell_type": "code",
   "execution_count": 35,
   "id": "cdcd4d15",
   "metadata": {},
   "outputs": [
    {
     "data": {
      "text/plain": [
       "100"
      ]
     },
     "execution_count": 35,
     "metadata": {},
     "output_type": "execute_result"
    }
   ],
   "source": [
    "len(correlated.features_to_drop_)"
   ]
  },
  {
   "cell_type": "code",
   "execution_count": 36,
   "id": "5a684481",
   "metadata": {},
   "outputs": [
    {
     "name": "stdout",
     "output_type": "stream",
     "text": [
      "No. of features before removal:  184\n",
      "No. of features after removal:  84\n"
     ]
    }
   ],
   "source": [
    "print('No. of features before removal: ', X_train.shape[1])\n",
    "\n",
    "X_train = correlated.transform(X_train)\n",
    "X_test = correlated.transform(X_test)\n",
    "\n",
    "print('No. of features after removal: ', X_test.shape[1])"
   ]
  },
  {
   "cell_type": "markdown",
   "id": "19705a30",
   "metadata": {},
   "source": [
    "### Smart selection of correlated features\n",
    "\n"
   ]
  },
  {
   "cell_type": "code",
   "execution_count": 37,
   "id": "692be35a",
   "metadata": {},
   "outputs": [
    {
     "data": {
      "text/plain": [
       "SmartCorrelatedSelection(estimator=RandomForestClassifier(n_estimators=10,\n",
       "                                                          random_state=1),\n",
       "                         selection_method='model_performance', threshold=0.7)"
      ]
     },
     "execution_count": 37,
     "metadata": {},
     "output_type": "execute_result"
    }
   ],
   "source": [
    "smart_corr = SmartCorrelatedSelection(variables=None, # examines all variables\n",
    "                                     method='pearson', # correlation method\n",
    "                                     threshold=0.7, # correlation coefficient threshold\n",
    "                                     missing_values='ignore', #\n",
    "                                     selection_method='model_performance', # how features are selected\n",
    "                                     estimator=RandomForestClassifier(n_estimators=10,random_state=1)) # model for deriving importance\n",
    "\n",
    "# This method simply finds correlated features and select the best from each group\n",
    "# It builds a random forrest from each correlated feature and retains the feature with best performance\n",
    "\n",
    "smart_corr.fit(X_train, y_train)"
   ]
  },
  {
   "cell_type": "code",
   "execution_count": 38,
   "id": "0f6a7844",
   "metadata": {
    "scrolled": true
   },
   "outputs": [
    {
     "data": {
      "text/plain": [
       "[{'imp_op_var39_comer_ult1', 'num_op_var41_ult1'},\n",
       " {'imp_op_var41_efect_ult1', 'imp_op_var41_efect_ult3'},\n",
       " {'ind_var1_0', 'var21'},\n",
       " {'ind_var5_0', 'num_meses_var8_ult3'},\n",
       " {'ind_var5', 'num_var30'},\n",
       " {'ind_var12_0', 'ind_var24_0', 'num_var30_0'},\n",
       " {'ind_var13_largo_0', 'num_meses_var13_largo_ult3', 'saldo_var13_largo'},\n",
       " {'ind_var14_0', 'num_var14_0'},\n",
       " {'ind_var31_0', 'num_var31_0'},\n",
       " {'num_op_var40_comer_ult1', 'num_op_var40_ult1'},\n",
       " {'saldo_var12', 'saldo_var30'},\n",
       " {'delta_imp_aport_var13_1y3', 'imp_aport_var13_ult1', 'num_aport_var13_ult1'},\n",
       " {'imp_aport_var13_hace3', 'num_aport_var13_hace3'},\n",
       " {'imp_trans_var37_ult1', 'imp_var43_emit_ult1'},\n",
       " {'num_var22_hace2', 'num_var22_ult3'},\n",
       " {'num_med_var45_ult3', 'num_var45_hace3'}]"
      ]
     },
     "execution_count": 38,
     "metadata": {},
     "output_type": "execute_result"
    }
   ],
   "source": [
    "smart_corr.correlated_feature_sets_"
   ]
  },
  {
   "cell_type": "code",
   "execution_count": 39,
   "id": "d3e6e744",
   "metadata": {
    "scrolled": true
   },
   "outputs": [
    {
     "name": "stdout",
     "output_type": "stream",
     "text": [
      "num_var30_0 0.5356835120544865\n",
      "ind_var12_0 0.5246418925947347\n",
      "ind_var24_0 0.5159128000693042\n"
     ]
    }
   ],
   "source": [
    "# Here we examine the performance of RF based on each of the features that we select to understand what is happening\n",
    "\n",
    "group = smart_corr.correlated_feature_sets_[5] # select the 6th group\n",
    "\n",
    "for f in group:\n",
    "    model=cross_validate(RandomForestClassifier(n_estimators=10,\n",
    "                                random_state=1),\n",
    "                        X_train[f].to_frame(),\n",
    "                        y_train, cv=3,\n",
    "                        return_estimator=False,\n",
    "                        scoring='roc_auc')\n",
    "    print(f,model['test_score'].mean())"
   ]
  },
  {
   "cell_type": "markdown",
   "id": "a3e985dc",
   "metadata": {},
   "source": [
    "num_var30_0 returns the highest score so it will be retained"
   ]
  },
  {
   "cell_type": "code",
   "execution_count": 40,
   "id": "8bda20b1",
   "metadata": {},
   "outputs": [
    {
     "data": {
      "text/plain": [
       "False"
      ]
     },
     "execution_count": 40,
     "metadata": {},
     "output_type": "execute_result"
    }
   ],
   "source": [
    "# Check to see if it will be dropped\n",
    "\n",
    "'num_var30_0' in smart_corr.features_to_drop_"
   ]
  },
  {
   "cell_type": "code",
   "execution_count": 41,
   "id": "6359da69",
   "metadata": {},
   "outputs": [
    {
     "data": {
      "text/plain": [
       "True"
      ]
     },
     "execution_count": 41,
     "metadata": {},
     "output_type": "execute_result"
    }
   ],
   "source": [
    "# Check to see if it will be dropped\n",
    "\n",
    "'ind_var12_0' in smart_corr.features_to_drop_"
   ]
  },
  {
   "cell_type": "code",
   "execution_count": 42,
   "id": "b325cb1d",
   "metadata": {},
   "outputs": [
    {
     "name": "stdout",
     "output_type": "stream",
     "text": [
      "No. of features before:  84\n",
      "No. of features after:  65\n"
     ]
    }
   ],
   "source": [
    "print('No. of features before: ', X_train.shape[1])\n",
    "\n",
    "X_train = smart_corr.transform(X_train)\n",
    "X_test = smart_corr.transform(X_test)\n",
    "\n",
    "print('No. of features after: ', X_train.shape[1])"
   ]
  },
  {
   "cell_type": "markdown",
   "id": "8f2417ce",
   "metadata": {},
   "source": [
    "### Use pipeline to select features"
   ]
  },
  {
   "cell_type": "code",
   "execution_count": 43,
   "id": "cfa9538a",
   "metadata": {},
   "outputs": [
    {
     "data": {
      "text/plain": [
       "((53214, 369), (22806, 369))"
      ]
     },
     "execution_count": 43,
     "metadata": {},
     "output_type": "execute_result"
    }
   ],
   "source": [
    "data = pd.read_csv(\"..\\\\train.csv\")\n",
    "\n",
    "X_train, X_test, y_train, y_test = train_test_split(\n",
    "    data.drop(labels=['ID','TARGET'], axis=1),\n",
    "    data['TARGET'],\n",
    "    test_size=0.3,\n",
    "    random_state=0)\n",
    "\n",
    "X_train.shape, X_test.shape"
   ]
  },
  {
   "cell_type": "code",
   "execution_count": 44,
   "id": "18b42efe",
   "metadata": {},
   "outputs": [
    {
     "data": {
      "text/plain": [
       "Pipeline(steps=[('constant', DropConstantFeatures(tol=0.998)),\n",
       "                ('duplicated', DropDuplicateFeatures()),\n",
       "                ('correlation',\n",
       "                 SmartCorrelatedSelection(estimator=RandomForestClassifier(n_estimators=10,\n",
       "                                                                           random_state=1),\n",
       "                                          selection_method='model_performance'))])"
      ]
     },
     "execution_count": 44,
     "metadata": {},
     "output_type": "execute_result"
    }
   ],
   "source": [
    "pipe = Pipeline([\n",
    "    ('constant', DropConstantFeatures(tol=0.998)), # drops constand and quasi-constant altogether\n",
    "    ('duplicated', DropDuplicateFeatures()), # drops duplicates\n",
    "    ('correlation', SmartCorrelatedSelection( # drops correlated\n",
    "        threshold=0.8,\n",
    "        selection_method=\"model_performance\",\n",
    "        estimator=RandomForestClassifier(n_estimators=10, random_state=1),\n",
    "    )),\n",
    "])\n",
    "\n",
    "# find features to remove\n",
    "\n",
    "pipe.fit(X_train, y_train)"
   ]
  },
  {
   "cell_type": "code",
   "execution_count": 45,
   "id": "a220cfe4",
   "metadata": {},
   "outputs": [
    {
     "name": "stdout",
     "output_type": "stream",
     "text": [
      "No. of features before:  369\n",
      "No. of features after:  81\n"
     ]
    }
   ],
   "source": [
    "print('No. of features before: ', X_train.shape[1])\n",
    "\n",
    "X_train = pipe.transform(X_train)\n",
    "X_test = pipe.transform(X_test)\n",
    "\n",
    "print('No. of features after: ', X_train.shape[1])"
   ]
  },
  {
   "cell_type": "markdown",
   "id": "c153ebd1",
   "metadata": {},
   "source": [
    "### Selecting Features by Shuffling\n",
    "\n",
    "Trains a model using all features then shuffles the values of 1 feature to obtain a prediction. It determines if there is a performance drop. If there is a drop larger than a pre determined threshold, the feature will be dropped, otherwise it is retained."
   ]
  },
  {
   "cell_type": "code",
   "execution_count": 46,
   "id": "374ec40b",
   "metadata": {},
   "outputs": [
    {
     "data": {
      "text/plain": [
       "((53214, 369), (22806, 369))"
      ]
     },
     "execution_count": 46,
     "metadata": {},
     "output_type": "execute_result"
    }
   ],
   "source": [
    "# reload the data\n",
    "data = pd.read_csv(\"..\\\\train.csv\")\n",
    "\n",
    "X_train, X_test, y_train, y_test = train_test_split(\n",
    "    data.drop(labels=['ID','TARGET'], axis=1),\n",
    "    data['TARGET'],\n",
    "    test_size=0.3,\n",
    "    random_state=0)\n",
    "\n",
    "X_train.shape, X_test.shape"
   ]
  },
  {
   "cell_type": "code",
   "execution_count": 47,
   "id": "cf0d5a41",
   "metadata": {},
   "outputs": [],
   "source": [
    "# remove constant, quasi-constant and duplicates\n",
    "\n",
    "pipe = Pipeline([\n",
    "    ('constant', DropConstantFeatures(tol=0.998)),\n",
    "    ('duplicated', DropDuplicateFeatures()),\n",
    "])\n",
    "\n",
    "# fit to find the features to remove\n",
    "\n",
    "pipe.fit(X_train, y_train)\n",
    "\n",
    "# remove \n",
    "\n",
    "X_train = pipe.transform(X_train)\n",
    "X_test = pipe.transform(X_test)"
   ]
  },
  {
   "cell_type": "code",
   "execution_count": 48,
   "id": "a0fb7342",
   "metadata": {},
   "outputs": [
    {
     "data": {
      "text/plain": [
       "(53214, 184)"
      ]
     },
     "execution_count": 48,
     "metadata": {},
     "output_type": "execute_result"
    }
   ],
   "source": [
    "X_train.shape"
   ]
  },
  {
   "cell_type": "code",
   "execution_count": 49,
   "id": "04b56586",
   "metadata": {},
   "outputs": [
    {
     "data": {
      "text/plain": [
       "SelectByShuffling(estimator=RandomForestClassifier(max_depth=2, n_estimators=10,\n",
       "                                                   random_state=1))"
      ]
     },
     "execution_count": 49,
     "metadata": {},
     "output_type": "execute_result"
    }
   ],
   "source": [
    "shuffle = SelectByShuffling(\n",
    "    estimator = RandomForestClassifier(n_estimators=10, max_depth=2, random_state=1), # the model\n",
    "    scoring=\"roc_auc\", # the metric to determine model performance\n",
    "    cv=3, # the cross-validation fold\n",
    ")\n",
    "\n",
    "shuffle.fit(X_train, y_train)"
   ]
  },
  {
   "cell_type": "code",
   "execution_count": 50,
   "id": "f07f323d",
   "metadata": {},
   "outputs": [
    {
     "data": {
      "text/plain": [
       "0.7675761929904802"
      ]
     },
     "execution_count": 50,
     "metadata": {},
     "output_type": "execute_result"
    }
   ],
   "source": [
    "# this is the performace of the model (roc-auc) using all the features\n",
    "\n",
    "shuffle.initial_model_performance_"
   ]
  },
  {
   "cell_type": "code",
   "execution_count": 51,
   "id": "837e5baa",
   "metadata": {},
   "outputs": [
    {
     "data": {
      "text/plain": [
       "{'var3': -0.0034556030868433396,\n",
       " 'var15': 0.05038387649288856,\n",
       " 'imp_ent_var16_ult1': -0.0039048335433380377,\n",
       " 'imp_op_var39_comer_ult1': -0.0039048335433380377,\n",
       " 'imp_op_var39_comer_ult3': -0.0039048335433380377,\n",
       " 'imp_op_var40_comer_ult1': -0.0039048335433380377,\n",
       " 'imp_op_var40_comer_ult3': -0.0039048335433380377,\n",
       " 'imp_op_var40_ult1': -0.0039048335433380377,\n",
       " 'imp_op_var41_comer_ult1': -0.0039048335433380377,\n",
       " 'imp_op_var41_comer_ult3': -0.003944006997163685,\n",
       " 'imp_op_var41_efect_ult1': -0.002985913998263312,\n",
       " 'imp_op_var41_efect_ult3': -0.0017303020428988125,\n",
       " 'imp_op_var41_ult1': -0.0039163940717424905,\n",
       " 'imp_op_var39_efect_ult1': -0.0039048335433380377,\n",
       " 'imp_op_var39_efect_ult3': -0.0017299953191149964,\n",
       " 'imp_op_var39_ult1': -0.0039048335433380377,\n",
       " 'ind_var1_0': -0.0039048335433380377,\n",
       " 'ind_var1': -0.0039048335433380377,\n",
       " 'ind_var5_0': -0.0039048335433380377,\n",
       " 'ind_var5': 0.01980492429621039,\n",
       " 'ind_var8_0': -0.0039048335433380377,\n",
       " 'ind_var8': -0.0039048335433380377,\n",
       " 'ind_var12_0': -0.0039048335433380377,\n",
       " 'ind_var12': -0.0039048335433380377,\n",
       " 'ind_var13_0': -0.0039048335433380377,\n",
       " 'ind_var13_corto_0': -0.0039048335433380377,\n",
       " 'ind_var13_corto': -0.0039048335433380377,\n",
       " 'ind_var13_largo_0': -0.0039048335433380377,\n",
       " 'ind_var13_largo': -0.0039048335433380377,\n",
       " 'ind_var13': -0.0039048335433380377,\n",
       " 'ind_var14_0': -0.0039048335433380377,\n",
       " 'ind_var14': -0.0039048335433380377,\n",
       " 'ind_var19': -0.0039048335433380377,\n",
       " 'ind_var20_0': -0.0039048335433380377,\n",
       " 'ind_var20': -0.0039048335433380377,\n",
       " 'ind_var24_0': -0.0039048335433380377,\n",
       " 'ind_var24': -0.0039048335433380377,\n",
       " 'ind_var25_cte': -0.0036891911535008592,\n",
       " 'ind_var26_0': -0.0039048335433380377,\n",
       " 'ind_var26_cte': -0.0039048335433380377,\n",
       " 'ind_var25_0': -0.0039048335433380377,\n",
       " 'ind_var30_0': -0.0039048335433380377,\n",
       " 'ind_var30': -0.0039048335433380377,\n",
       " 'ind_var31_0': -0.0039048335433380377,\n",
       " 'ind_var31': -0.0039048335433380377,\n",
       " 'ind_var37_cte': -0.0039048335433380377,\n",
       " 'ind_var37_0': -0.0039048335433380377,\n",
       " 'ind_var39_0': -0.0039048335433380377,\n",
       " 'ind_var40_0': -0.0039048335433380377,\n",
       " 'ind_var40': -0.0038839825539249695,\n",
       " 'ind_var41_0': -0.0039048335433380377,\n",
       " 'num_var1_0': -0.0039048335433380377,\n",
       " 'num_var1': -0.0039048335433380377,\n",
       " 'num_var4': 0.008651739089601262,\n",
       " 'num_var5_0': -0.0039048335433380377,\n",
       " 'num_var5': 0.004547818455890806,\n",
       " 'num_var8_0': -0.0039048335433380377,\n",
       " 'num_var8': -0.0039048335433380377,\n",
       " 'num_var12_0': -0.004092075179151666,\n",
       " 'num_var12': -0.0039048335433380377,\n",
       " 'num_var13_0': -0.0039048335433380377,\n",
       " 'num_var13_corto_0': -0.0039048335433380377,\n",
       " 'num_var13_corto': -0.0039048335433380377,\n",
       " 'num_var13_largo_0': -0.0039048335433380377,\n",
       " 'num_var13_largo': -0.0039048335433380377,\n",
       " 'num_var13': -0.0039048335433380377,\n",
       " 'num_var14_0': -0.0039048335433380377,\n",
       " 'num_var14': -0.0039048335433380377,\n",
       " 'num_var20_0': -0.0039048335433380377,\n",
       " 'num_var20': -0.0039048335433380377,\n",
       " 'num_var24_0': -0.0039048335433380377,\n",
       " 'num_var24': -0.0039048335433380377,\n",
       " 'num_var26_0': -0.0039048335433380377,\n",
       " 'num_var25_0': -0.0039048335433380377,\n",
       " 'num_op_var40_ult1': -0.0039048335433380377,\n",
       " 'num_op_var40_ult3': -0.0039048335433380377,\n",
       " 'num_op_var41_hace2': -0.0039048335433380377,\n",
       " 'num_op_var41_hace3': -0.0039048335433380377,\n",
       " 'num_op_var41_ult1': -0.0039048335433380377,\n",
       " 'num_op_var41_ult3': -0.0039048335433380377,\n",
       " 'num_op_var39_hace2': -0.0039048335433380377,\n",
       " 'num_op_var39_hace3': -0.0039048335433380377,\n",
       " 'num_op_var39_ult1': -0.0039048335433380377,\n",
       " 'num_op_var39_ult3': -0.0039048335433380377,\n",
       " 'num_var30_0': 0.0033135837469899787,\n",
       " 'num_var30': 0.024080085548844332,\n",
       " 'num_var31_0': -0.0039048335433380377,\n",
       " 'num_var31': -0.0039048335433380377,\n",
       " 'num_var35': -0.003626457576332842,\n",
       " 'num_var37_med_ult2': -0.00390956829981981,\n",
       " 'num_var37_0': -0.0039048335433380377,\n",
       " 'num_var39_0': -0.0039048335433380377,\n",
       " 'num_var40_0': -0.0039048335433380377,\n",
       " 'num_var40': -0.0039048335433380377,\n",
       " 'num_var41_0': -0.0039048335433380377,\n",
       " 'num_var42_0': -0.0039048335433380377,\n",
       " 'num_var42': -0.0039048335433380377,\n",
       " 'saldo_var1': -0.0039048335433380377,\n",
       " 'saldo_var5': -0.0039048335433380377,\n",
       " 'saldo_var8': -0.0039048335433380377,\n",
       " 'saldo_var12': -0.0039048335433380377,\n",
       " 'saldo_var13_corto': -0.0039048335433380377,\n",
       " 'saldo_var13_largo': -0.0039048335433380377,\n",
       " 'saldo_var13': -0.0039048335433380377,\n",
       " 'saldo_var14': -0.0039048335433380377,\n",
       " 'saldo_var20': -0.0039048335433380377,\n",
       " 'saldo_var24': -0.0039048335433380377,\n",
       " 'saldo_var26': -0.0039048335433380377,\n",
       " 'saldo_var25': -0.0039048335433380377,\n",
       " 'saldo_var30': 0.0034297059462435886,\n",
       " 'saldo_var31': -0.0039048335433380377,\n",
       " 'saldo_var37': -0.004013376395484158,\n",
       " 'saldo_var40': -0.0039048335433380377,\n",
       " 'saldo_var42': 0.004388672407290128,\n",
       " 'var36': 0.006946725410654886,\n",
       " 'delta_imp_aport_var13_1y3': -0.0039048335433380377,\n",
       " 'delta_num_aport_var13_1y3': -0.0039048335433380377,\n",
       " 'imp_aport_var13_hace3': -0.0039048335433380377,\n",
       " 'imp_aport_var13_ult1': -0.0039048335433380377,\n",
       " 'imp_var7_recib_ult1': -0.0039048335433380377,\n",
       " 'imp_var43_emit_ult1': -0.0039048335433380377,\n",
       " 'imp_trans_var37_ult1': -0.003784256842836342,\n",
       " 'ind_var7_recib_ult1': -0.0039048335433380377,\n",
       " 'ind_var10_ult1': -0.0039048335433380377,\n",
       " 'ind_var10cte_ult1': -0.0039048335433380377,\n",
       " 'ind_var9_cte_ult1': -0.0039048335433380377,\n",
       " 'ind_var9_ult1': -0.0039048335433380377,\n",
       " 'ind_var43_emit_ult1': -0.0039048335433380377,\n",
       " 'ind_var43_recib_ult1': -0.0039048335433380377,\n",
       " 'var21': -0.0039048335433380377,\n",
       " 'num_aport_var13_hace3': -0.0039048335433380377,\n",
       " 'num_aport_var13_ult1': -0.0039048335433380377,\n",
       " 'num_var7_recib_ult1': -0.0039048335433380377,\n",
       " 'num_ent_var16_ult1': -0.0039048335433380377,\n",
       " 'num_var22_hace2': -0.0039048335433380377,\n",
       " 'num_var22_hace3': -0.0039048335433380377,\n",
       " 'num_var22_ult1': -0.0039048335433380377,\n",
       " 'num_var22_ult3': -0.0032922002726323285,\n",
       " 'num_med_var22_ult3': -0.0037771881830444,\n",
       " 'num_med_var45_ult3': -0.003750936052481779,\n",
       " 'num_meses_var5_ult3': -0.0039048335433380377,\n",
       " 'num_meses_var8_ult3': -0.0039048335433380377,\n",
       " 'num_meses_var12_ult3': -0.0006279398774052813,\n",
       " 'num_meses_var13_corto_ult3': -0.0039048335433380377,\n",
       " 'num_meses_var13_largo_ult3': -0.0039048335433380377,\n",
       " 'num_meses_var39_vig_ult3': -0.0039048335433380377,\n",
       " 'num_op_var39_comer_ult1': -0.0037741007045493102,\n",
       " 'num_op_var39_comer_ult3': -0.0039048335433380377,\n",
       " 'num_op_var40_comer_ult1': -0.0039048335433380377,\n",
       " 'num_op_var40_comer_ult3': -0.0039048335433380377,\n",
       " 'num_op_var41_comer_ult1': -0.0039048335433380377,\n",
       " 'num_op_var41_comer_ult3': -0.0039048335433380377,\n",
       " 'num_op_var41_efect_ult1': -0.0039048335433380377,\n",
       " 'num_op_var41_efect_ult3': -0.0039048335433380377,\n",
       " 'num_op_var39_efect_ult1': -0.0039048335433380377,\n",
       " 'num_op_var39_efect_ult3': -0.0039048335433380377,\n",
       " 'num_var43_emit_ult1': -0.0039048335433380377,\n",
       " 'num_var43_recib_ult1': -0.0039048335433380377,\n",
       " 'num_trasp_var11_ult1': -0.0039048335433380377,\n",
       " 'num_var45_hace2': -0.0039048335433380377,\n",
       " 'num_var45_hace3': -0.0038885802967367766,\n",
       " 'num_var45_ult1': -0.0034628009754378297,\n",
       " 'num_var45_ult3': -0.0039048335433380377,\n",
       " 'saldo_medio_var5_hace2': -0.0039048335433380377,\n",
       " 'saldo_medio_var5_hace3': -0.0029959704902449147,\n",
       " 'saldo_medio_var5_ult1': 0.006196821569339539,\n",
       " 'saldo_medio_var5_ult3': -0.0039048335433380377,\n",
       " 'saldo_medio_var8_hace2': -0.0039048335433380377,\n",
       " 'saldo_medio_var8_hace3': -0.0039048335433380377,\n",
       " 'saldo_medio_var8_ult1': -0.0039538159303552645,\n",
       " 'saldo_medio_var8_ult3': -0.0039048335433380377,\n",
       " 'saldo_medio_var12_hace2': -0.0039048335433380377,\n",
       " 'saldo_medio_var12_hace3': -0.0039048335433380377,\n",
       " 'saldo_medio_var12_ult1': -0.0039048335433380377,\n",
       " 'saldo_medio_var12_ult3': -0.0039048335433380377,\n",
       " 'saldo_medio_var13_corto_hace2': -0.0039048335433380377,\n",
       " 'saldo_medio_var13_corto_hace3': -0.0039048335433380377,\n",
       " 'saldo_medio_var13_corto_ult1': -0.0039048335433380377,\n",
       " 'saldo_medio_var13_corto_ult3': -0.0039048335433380377,\n",
       " 'saldo_medio_var13_largo_hace2': -0.0039048335433380377,\n",
       " 'saldo_medio_var13_largo_hace3': -0.0039048335433380377,\n",
       " 'saldo_medio_var13_largo_ult1': -0.0039048335433380377,\n",
       " 'saldo_medio_var13_largo_ult3': -0.0039048335433380377,\n",
       " 'var38': 0.008729920958059134}"
      ]
     },
     "execution_count": 51,
     "metadata": {},
     "output_type": "execute_result"
    }
   ],
   "source": [
    "# performance drift caused by shuffling each feature\n",
    "\n",
    "shuffle.performance_drifts_"
   ]
  },
  {
   "cell_type": "code",
   "execution_count": 52,
   "id": "e7f3430e",
   "metadata": {},
   "outputs": [
    {
     "data": {
      "image/png": "[encoded data removed]",
      "text/plain": [
       "<Figure size 1440x360 with 1 Axes>"
      ]
     },
     "metadata": {
      "needs_background": "light"
     },
     "output_type": "display_data"
    }
   ],
   "source": [
    "# plot the drift\n",
    "pd.Series(shuffle.performance_drifts_).plot.bar(figsize=(20,5))\n",
    "plt.ylabel('Performance drift after shuffling')\n",
    "plt.show()"
   ]
  },
  {
   "cell_type": "code",
   "execution_count": 53,
   "id": "6ec13dd1",
   "metadata": {},
   "outputs": [
    {
     "data": {
      "text/plain": [
       "170"
      ]
     },
     "execution_count": 53,
     "metadata": {},
     "output_type": "execute_result"
    }
   ],
   "source": [
    "len(shuffle.features_to_drop_)"
   ]
  },
  {
   "cell_type": "code",
   "execution_count": 54,
   "id": "e194c752",
   "metadata": {},
   "outputs": [
    {
     "name": "stdout",
     "output_type": "stream",
     "text": [
      "No. of features before drop:  184\n",
      "No. of festures after drop:  14\n"
     ]
    }
   ],
   "source": [
    "print('No. of features before drop: ', X_train.shape[1])\n",
    "\n",
    "X_train = shuffle.transform(X_train)\n",
    "X_test = shuffle.transform(X_test)\n",
    "\n",
    "print('No. of festures after drop: ', X_train.shape[1])"
   ]
  },
  {
   "cell_type": "code",
   "execution_count": 55,
   "id": "b12025e2",
   "metadata": {},
   "outputs": [
    {
     "name": "stdout",
     "output_type": "stream",
     "text": [
      "Train roc-auc: 0.7891714842541399\n",
      "Test roc-auc: 0.7860603535718012\n"
     ]
    }
   ],
   "source": [
    "# Compare performance using RF\n",
    "\n",
    "rf = RandomForestClassifier(n_estimators=10, max_depth=3)\n",
    "\n",
    "rf.fit(X_train, y_train)\n",
    "\n",
    "pred = rf.predict_proba(X_train)\n",
    "print('Train roc-auc: {}'.format(roc_auc_score(y_train, pred[:,1])))\n",
    "\n",
    "pred = rf.predict_proba(X_test)\n",
    "print('Test roc-auc: {}'.format(roc_auc_score(y_test,pred[:,1])))"
   ]
  },
  {
   "cell_type": "markdown",
   "id": "7b878ab4",
   "metadata": {},
   "source": [
    "### Recursive Feature Selection"
   ]
  },
  {
   "cell_type": "code",
   "execution_count": 56,
   "id": "dde1d572",
   "metadata": {},
   "outputs": [
    {
     "data": {
      "text/plain": [
       "((53214, 369), (22806, 369))"
      ]
     },
     "execution_count": 56,
     "metadata": {},
     "output_type": "execute_result"
    }
   ],
   "source": [
    "data = pd.read_csv(\"..\\\\train.csv\")\n",
    "\n",
    "X_train, X_test, y_train, y_test = train_test_split(\n",
    "    data.drop(labels=['ID','TARGET'], axis=1),\n",
    "    data['TARGET'],\n",
    "    test_size=0.3,\n",
    "    random_state=0)\n",
    "\n",
    "X_train.shape, X_test.shape"
   ]
  },
  {
   "cell_type": "code",
   "execution_count": 57,
   "id": "2cfc36d1",
   "metadata": {},
   "outputs": [],
   "source": [
    "# Again remove constant, quasi-constant and duplicated features\n",
    "\n",
    "pipe = Pipeline([('constant', DropConstantFeatures(tol=0.998)),\n",
    "                ('duplicated', DropDuplicateFeatures())\n",
    "                ])\n",
    "\n",
    "# find the features\n",
    "pipe.fit(X_train, y_train)\n",
    "\n",
    "# remove the features\n",
    "X_train = pipe.transform(X_train)\n",
    "X_test = pipe.transform(X_test)"
   ]
  },
  {
   "cell_type": "code",
   "execution_count": 58,
   "id": "66b8aafc",
   "metadata": {},
   "outputs": [
    {
     "data": {
      "text/plain": [
       "RecursiveFeatureElimination(estimator=RandomForestClassifier(max_depth=2,\n",
       "                                                             n_estimators=10,\n",
       "                                                             random_state=1),\n",
       "                            threshold=0.04)"
      ]
     },
     "execution_count": 58,
     "metadata": {},
     "output_type": "execute_result"
    }
   ],
   "source": [
    "rfe = RecursiveFeatureElimination(estimator=RandomForestClassifier(n_estimators= 10, max_depth=2, random_state=1),\n",
    "                                 scoring='roc_auc',\n",
    "                                 cv=3,\n",
    "                                 threshold=0.04,)\n",
    "\n",
    "rfe.fit(X_train, y_train)"
   ]
  },
  {
   "cell_type": "code",
   "execution_count": 59,
   "id": "3352eb32",
   "metadata": {},
   "outputs": [
    {
     "data": {
      "text/plain": [
       "num_var39_0          0.000000\n",
       "saldo_var5           0.000000\n",
       "saldo_var8           0.000000\n",
       "saldo_var12          0.000000\n",
       "saldo_var13_corto    0.000000\n",
       "                       ...   \n",
       "num_var5             0.079403\n",
       "num_var4             0.091691\n",
       "var36                0.118260\n",
       "ind_var5             0.143499\n",
       "num_var30            0.146509\n",
       "Length: 184, dtype: float64"
      ]
     },
     "execution_count": 59,
     "metadata": {},
     "output_type": "execute_result"
    }
   ],
   "source": [
    "# feature importance derived from the model using all features\n",
    "rfe.feature_importances_ "
   ]
  },
  {
   "cell_type": "code",
   "execution_count": 60,
   "id": "0838b655",
   "metadata": {},
   "outputs": [
    {
     "data": {
      "text/plain": [
       "<function matplotlib.pyplot.show(close=None, block=None)>"
      ]
     },
     "execution_count": 60,
     "metadata": {},
     "output_type": "execute_result"
    },
    {
     "data": {
      "image/png": "[encoded data removed]",
      "text/plain": [
       "<Figure size 1440x360 with 1 Axes>"
      ]
     },
     "metadata": {
      "needs_background": "light"
     },
     "output_type": "display_data"
    }
   ],
   "source": [
    "pd.Series(rfe.feature_importances_).plot.bar(figsize=(20,5))\n",
    "plt.ylabel('Feature importances derived from Random Forest model')\n",
    "plt.show"
   ]
  },
  {
   "cell_type": "markdown",
   "id": "984d03f8",
   "metadata": {},
   "source": [
    "The model removes features from left to right, one by one."
   ]
  },
  {
   "cell_type": "code",
   "execution_count": 61,
   "id": "01cccf53",
   "metadata": {},
   "outputs": [
    {
     "data": {
      "text/plain": [
       "0.7675761929904802"
      ]
     },
     "execution_count": 61,
     "metadata": {},
     "output_type": "execute_result"
    }
   ],
   "source": [
    "# performance of the Random Forest model using all features\n",
    "\n",
    "rfe.initial_model_performance_"
   ]
  },
  {
   "cell_type": "code",
   "execution_count": 62,
   "id": "98dce8b5",
   "metadata": {},
   "outputs": [
    {
     "data": {
      "text/plain": [
       "{'num_var39_0': -0.0022983311361324255,\n",
       " 'saldo_var5': 0.052403174619189086,\n",
       " 'saldo_var8': 0.05355174464488299,\n",
       " 'saldo_var12': 0.05355174464488299,\n",
       " 'saldo_var13_corto': 0.05355174464488299,\n",
       " 'saldo_var13_largo': 0.05355174464488299,\n",
       " 'saldo_var13': 0.0537197156194088,\n",
       " 'saldo_var14': 0.0537197156194088,\n",
       " 'saldo_var20': 0.0537197156194088,\n",
       " 'saldo_var24': 0.03767350601539843,\n",
       " 'saldo_var26': -0.034401428068570605,\n",
       " 'saldo_var25': -0.008948661725206475,\n",
       " 'saldo_medio_var5_ult3': 0.010073648272955094,\n",
       " 'saldo_var31': 0.03910136439458156,\n",
       " 'saldo_var40': -0.03324164783351491,\n",
       " 'saldo_medio_var5_hace2': 0.030502881584316355,\n",
       " 'saldo_var1': -0.044342641730677035,\n",
       " 'num_var45_ult3': 0.03302274047020115,\n",
       " 'num_var42': -0.01746734185757648,\n",
       " 'num_var41_0': 0.0021444429871171344,\n",
       " 'num_op_var41_ult1': -0.011778524938231616,\n",
       " 'num_op_var41_ult3': 0.015511650770589691,\n",
       " 'num_op_var39_hace2': 0.002816130706557174,\n",
       " 'num_op_var39_hace3': -0.02225965030872923,\n",
       " 'num_op_var39_ult1': 0.05914800727318392,\n",
       " 'num_op_var39_ult3': 0.05886214693445613,\n",
       " 'saldo_medio_var8_ult3': 0.004601300496387961,\n",
       " 'saldo_medio_var8_hace3': 0.008519366757693714,\n",
       " 'num_var31_0': -0.010965420427691996,\n",
       " 'num_var31': -0.007811343947159655,\n",
       " 'saldo_medio_var8_hace2': 0.029163737999470918,\n",
       " 'num_var37_0': -0.0032883047248788433,\n",
       " 'saldo_medio_var13_largo_ult3': 0.01660580924259336,\n",
       " 'num_var40_0': -0.014111859953096606,\n",
       " 'num_var40': 0.0006020863320643777,\n",
       " 'num_var42_0': -0.021001472460999704,\n",
       " 'num_op_var39_efect_ult1': 0.001785506096111944,\n",
       " 'delta_imp_aport_var13_1y3': 0.04543850975960817,\n",
       " 'imp_aport_var13_hace3': 0.04543850975960817,\n",
       " 'num_trasp_var11_ult1': 0.04505593333961111,\n",
       " 'num_meses_var5_ult3': 0.04836005847245195,\n",
       " 'num_meses_var8_ult3': 0.047872120097214865,\n",
       " 'num_var43_recib_ult1': 0.04505593333961111,\n",
       " 'num_meses_var13_corto_ult3': 0.04637737880642656,\n",
       " 'num_meses_var13_largo_ult3': 0.04637737880642656,\n",
       " 'num_meses_var39_vig_ult3': 0.04637737880642656,\n",
       " 'num_var43_emit_ult1': 0.04505593333961111,\n",
       " 'num_op_var39_comer_ult3': 0.04442430810587816,\n",
       " 'num_op_var40_comer_ult1': 0.04442430810587816,\n",
       " 'num_op_var40_comer_ult3': 0.04442430810587816,\n",
       " 'num_op_var41_comer_ult1': 0.0446657760155329,\n",
       " 'num_op_var41_comer_ult3': 0.0446919518543929,\n",
       " 'num_op_var41_efect_ult1': 0.04505593333961111,\n",
       " 'num_op_var41_efect_ult3': 0.04505593333961111,\n",
       " 'num_var45_hace2': 0.04505593333961111,\n",
       " 'delta_num_aport_var13_1y3': 0.04543850975960817,\n",
       " 'num_var22_ult1': 0.045639606902798335,\n",
       " 'num_var22_hace2': 0.045894106680836266,\n",
       " 'imp_aport_var13_ult1': 0.04543850975960817,\n",
       " 'imp_var7_recib_ult1': 0.04543850975960817,\n",
       " 'imp_var43_emit_ult1': 0.04543850975960817,\n",
       " 'ind_var7_recib_ult1': 0.04566498401424124,\n",
       " 'ind_var10_ult1': 0.04566498401424124,\n",
       " 'ind_var10cte_ult1': 0.04566498401424124,\n",
       " 'ind_var9_cte_ult1': 0.04567077128482444,\n",
       " 'ind_var9_ult1': 0.04567077128482444,\n",
       " 'ind_var43_emit_ult1': 0.04567077128482444,\n",
       " 'ind_var43_recib_ult1': 0.04567077128482444,\n",
       " 'var21': 0.04567077128482444,\n",
       " 'num_aport_var13_hace3': 0.04567077128482444,\n",
       " 'num_aport_var13_ult1': 0.04567077128482444,\n",
       " 'num_var7_recib_ult1': 0.04567077128482444,\n",
       " 'num_ent_var16_ult1': 0.04567077128482444,\n",
       " 'num_var22_hace3': 0.045894106680836266,\n",
       " 'num_op_var41_hace2': 0.04472687165655498,\n",
       " 'num_op_var41_hace3': 0.0448302578123948,\n",
       " 'num_op_var40_ult1': 0.04472687165655498,\n",
       " 'ind_var8': 0.04577281221554108,\n",
       " 'ind_var12_0': 0.04464362183928139,\n",
       " 'ind_var12': 0.021771655882445118,\n",
       " 'ind_var13_0': -0.02590928810686466,\n",
       " 'ind_var13_corto_0': 0.0025588564017021698,\n",
       " 'ind_var13_corto': 0.004475059526211744,\n",
       " 'ind_var13_largo_0': 0.03419898570025692,\n",
       " 'ind_var13_largo': 0.004528504199344474,\n",
       " 'ind_var13': 0.004088405392559058,\n",
       " 'ind_var14_0': -0.056686007080368195,\n",
       " 'ind_var14': 0.06488413127603554,\n",
       " 'ind_var19': 0.06488413127603554,\n",
       " 'ind_var20_0': 0.06488413127603554,\n",
       " 'ind_var20': 0.06488413127603554,\n",
       " 'ind_var24_0': 0.06488413127603554,\n",
       " 'ind_var8_0': 0.06449956504387666,\n",
       " 'saldo_medio_var13_corto_hace2': 0.010634845366372048,\n",
       " 'ind_var5_0': 0.02909618247530399,\n",
       " 'ind_var1': -0.03674685609678452,\n",
       " 'saldo_medio_var13_largo_ult1': 0.03538297998753426,\n",
       " 'imp_ent_var16_ult1': -0.031631525462869625,\n",
       " 'imp_op_var39_comer_ult1': 0.0124124202393604,\n",
       " 'imp_op_var39_comer_ult3': 0.010838955253328453,\n",
       " 'imp_op_var40_comer_ult1': -0.018470725659272436,\n",
       " 'imp_op_var40_comer_ult3': 0.03770020032644106,\n",
       " 'imp_op_var40_ult1': -0.03539264879310866,\n",
       " 'ind_var24': 0.017290977238790806,\n",
       " 'imp_op_var41_comer_ult1': 0.008917819636699464,\n",
       " 'saldo_medio_var13_largo_hace2': -0.0002169595894372378,\n",
       " 'saldo_medio_var13_corto_ult3': 0.016855544681652623,\n",
       " 'saldo_medio_var13_corto_ult1': -0.024206877687647732,\n",
       " 'imp_op_var39_efect_ult1': -0.023945890000941716,\n",
       " 'saldo_medio_var13_corto_hace3': 0.00654466035307677,\n",
       " 'imp_op_var39_ult1': -0.004590398567783538,\n",
       " 'ind_var1_0': 0.002111134652550639,\n",
       " 'saldo_medio_var13_largo_hace3': 0.04389947412907891,\n",
       " 'num_op_var40_ult3': 0.046915216626085776,\n",
       " 'saldo_medio_var12_ult3': 0.043920241041921715,\n",
       " 'ind_var26_cte': 0.046811424100156485,\n",
       " 'saldo_medio_var12_hace2': 0.04391868562537271,\n",
       " 'num_var12': 0.04561400558716855,\n",
       " 'num_var13_0': 0.04561400558716855,\n",
       " 'num_var13_corto_0': 0.04561400558716855,\n",
       " 'num_var13_corto': 0.04561400558716855,\n",
       " 'num_var13_largo_0': 0.04561400558716855,\n",
       " 'num_var13_largo': 0.04561400558716855,\n",
       " 'ind_var26_0': 0.046811424100156485,\n",
       " 'num_var13': 0.04561400558716855,\n",
       " 'num_var14': 0.04561400558716855,\n",
       " 'num_var20_0': 0.047126949455408074,\n",
       " 'num_var20': 0.047126949455408074,\n",
       " 'num_var24_0': 0.047126949455408074,\n",
       " 'num_var24': 0.047126949455408074,\n",
       " 'num_var26_0': 0.047126949455408074,\n",
       " 'num_var25_0': 0.046915216626085776,\n",
       " 'num_var14_0': 0.04561400558716855,\n",
       " 'num_var8_0': 0.04561400558716855,\n",
       " 'num_var8': 0.04561400558716855,\n",
       " 'num_var5_0': 0.041769296133374656,\n",
       " 'ind_var25_0': 0.046851794866620944,\n",
       " 'ind_var30_0': 0.046851794866620944,\n",
       " 'ind_var30': 0.04756797310446559,\n",
       " 'ind_var31_0': 0.048957394478299276,\n",
       " 'ind_var31': 0.048957394478299276,\n",
       " 'ind_var37_cte': 0.048957394478299276,\n",
       " 'saldo_medio_var12_hace3': 0.04391868562537271,\n",
       " 'ind_var39_0': 0.048957394478299276,\n",
       " 'ind_var37_0': 0.048957394478299276,\n",
       " 'ind_var41_0': 0.04887152427458741,\n",
       " 'num_var1_0': 0.04483262596912252,\n",
       " 'num_var1': 0.04483262596912252,\n",
       " 'saldo_medio_var12_ult1': 0.04391868562537271,\n",
       " 'ind_var40_0': 0.048957394478299276,\n",
       " 'num_op_var39_efect_ult3': 0.031958639372049014,\n",
       " 'ind_var40': 0.028218521171601396,\n",
       " 'saldo_medio_var5_hace3': -0.06468454751110952,\n",
       " 'num_med_var45_ult3': 0.006989173179798414,\n",
       " 'imp_trans_var37_ult1': 0.04501451161601899,\n",
       " 'num_var37_med_ult2': 9.668805574625239e-05,\n",
       " 'var3': -0.005346555214765458,\n",
       " 'num_var35': 0.006518246297268049,\n",
       " 'saldo_var37': 0.010379630937487505,\n",
       " 'imp_op_var41_comer_ult3': -0.021592993170740704,\n",
       " 'num_op_var39_comer_ult1': 0.007626445556497385,\n",
       " 'num_var45_ult1': 0.01303615628825483,\n",
       " 'saldo_medio_var8_ult1': 0.03641345045760069,\n",
       " 'num_var45_hace3': -0.0493312549605176,\n",
       " 'imp_op_var41_efect_ult1': -0.00778530823591661,\n",
       " 'imp_op_var41_ult1': 0.00906016127007181,\n",
       " 'num_var12_0': 0.04161452518037223,\n",
       " 'num_med_var22_ult3': 0.042830104232526645,\n",
       " 'num_var22_ult3': 0.04278093345171308,\n",
       " 'num_meses_var12_ult3': 0.03654795895718144,\n",
       " 'imp_op_var41_efect_ult3': -0.001221254220643786,\n",
       " 'var38': -0.008214911484186849,\n",
       " 'saldo_var42': -0.015272789234611617,\n",
       " 'saldo_var30': 0.030909587979965014,\n",
       " 'ind_var25_cte': -0.042539269363394694,\n",
       " 'num_var30_0': 0.006907913174686531,\n",
       " 'imp_op_var39_efect_ult3': 0.012811027258745056,\n",
       " 'saldo_medio_var5_ult1': -0.017548657913735388,\n",
       " 'var15': 0.056719091210747585,\n",
       " 'num_var5': -0.006789995784961089,\n",
       " 'num_var4': 0.01817350097080417,\n",
       " 'var36': -0.010473740645080443,\n",
       " 'ind_var5': 0.019891871925600157,\n",
       " 'num_var30': -0.02612574323688066}"
      ]
     },
     "execution_count": 62,
     "metadata": {},
     "output_type": "execute_result"
    }
   ],
   "source": [
    "# drop in performance when removing each feature\n",
    "rfe.performance_drifts_"
   ]
  },
  {
   "cell_type": "code",
   "execution_count": 63,
   "id": "adcae1ec",
   "metadata": {
    "scrolled": true
   },
   "outputs": [
    {
     "data": {
      "image/png": "[encoded data removed]",
      "text/plain": [
       "<Figure size 1440x360 with 1 Axes>"
      ]
     },
     "metadata": {
      "needs_background": "light"
     },
     "output_type": "display_data"
    }
   ],
   "source": [
    "# plot performance drifts\n",
    "pd.Series(rfe.performance_drifts_).sort_values().plot.bar(figsize=(20,5))\n",
    "plt.ylabel('change in performance')\n",
    "plt.show()"
   ]
  },
  {
   "cell_type": "code",
   "execution_count": 64,
   "id": "11aae41c",
   "metadata": {
    "scrolled": true
   },
   "outputs": [
    {
     "data": {
      "text/plain": [
       "83"
      ]
     },
     "execution_count": 64,
     "metadata": {},
     "output_type": "execute_result"
    }
   ],
   "source": [
    "len(rfe.features_to_drop_)"
   ]
  },
  {
   "cell_type": "code",
   "execution_count": 65,
   "id": "1d6fd5da",
   "metadata": {},
   "outputs": [
    {
     "name": "stdout",
     "output_type": "stream",
     "text": [
      "No. of feats before drop:  184\n",
      "No. of feasts after drop:  101\n"
     ]
    }
   ],
   "source": [
    "# remove the variables\n",
    "\n",
    "print('No. of feats before drop: ', X_train.shape[1])\n",
    "\n",
    "X_train = rfe.transform(X_train)\n",
    "X_test = rfe.transform(X_test)\n",
    "\n",
    "print('No. of feasts after drop: ', X_train.shape[1])"
   ]
  },
  {
   "cell_type": "markdown",
   "id": "ad5cabd2",
   "metadata": {},
   "source": [
    "### Select features with Univariate Model Performance"
   ]
  },
  {
   "cell_type": "markdown",
   "id": "42d8011c",
   "metadata": {},
   "source": [
    "This selection procedure builds 1 model per feature, and selects those features that return models with a performance above a certain threshold."
   ]
  },
  {
   "cell_type": "code",
   "execution_count": 66,
   "id": "ea7f295f",
   "metadata": {},
   "outputs": [],
   "source": [
    "data = pd.read_csv(\"..\\\\train.csv\")\n",
    "\n",
    "X_train, X_test, y_train, y_test = train_test_split(\n",
    "    data.drop(labels=['ID','TARGET'], axis=1),\n",
    "    data['TARGET'],\n",
    "    test_size=0.3,\n",
    "    random_state=0)\n",
    "\n",
    "# Again remove constant, quasi-constant and duplicated features\n",
    "\n",
    "pipe = Pipeline([('constant', DropConstantFeatures(tol=0.998)),\n",
    "                ('duplicated', DropDuplicateFeatures())\n",
    "                ])\n",
    "\n",
    "# find the features\n",
    "pipe.fit(X_train, y_train)\n",
    "\n",
    "# remove the features\n",
    "X_train = pipe.transform(X_train)\n",
    "X_test = pipe.transform(X_test)\n"
   ]
  },
  {
   "cell_type": "code",
   "execution_count": 67,
   "id": "aa192e8a",
   "metadata": {},
   "outputs": [
    {
     "data": {
      "text/plain": [
       "SelectBySingleFeaturePerformance(estimator=RandomForestClassifier(max_depth=2,\n",
       "                                                                  n_estimators=10,\n",
       "                                                                  random_state=1))"
      ]
     },
     "execution_count": 67,
     "metadata": {},
     "output_type": "execute_result"
    }
   ],
   "source": [
    "sel = SelectBySingleFeaturePerformance(\n",
    "    estimator = RandomForestClassifier(n_estimators=10, max_depth=2, random_state=1), # the model\n",
    "    scoring=\"roc_auc\", # the metric to determine model performance\n",
    "    cv=3, # the cross-validation fold,\n",
    "    threshold=None, # the performance threshold\n",
    ")\n",
    "\n",
    "sel.fit(X_train, y_train)"
   ]
  },
  {
   "cell_type": "code",
   "execution_count": 68,
   "id": "7093749a",
   "metadata": {},
   "outputs": [],
   "source": [
    "# when we leave the threshold to None, the selector selects features which\n",
    "# performance is bigger than the mean performance of all features\n",
    "\n",
    "sel.threshold"
   ]
  },
  {
   "cell_type": "code",
   "execution_count": 69,
   "id": "953b90b6",
   "metadata": {},
   "outputs": [
    {
     "data": {
      "text/plain": [
       "{'var3': 0.5029632787171933,\n",
       " 'var15': 0.7046767732309168,\n",
       " 'imp_ent_var16_ult1': 0.5006955094143339,\n",
       " 'imp_op_var39_comer_ult1': 0.5075504823753088,\n",
       " 'imp_op_var39_comer_ult3': 0.5109389082825512,\n",
       " 'imp_op_var40_comer_ult1': 0.5001164460497465,\n",
       " 'imp_op_var40_comer_ult3': 0.5000491427552901,\n",
       " 'imp_op_var40_ult1': 0.5007062151642744,\n",
       " 'imp_op_var41_comer_ult1': 0.5072222194196698,\n",
       " 'imp_op_var41_comer_ult3': 0.512288911757716,\n",
       " 'imp_op_var41_efect_ult1': 0.5179918115025716,\n",
       " 'imp_op_var41_efect_ult3': 0.5168066681688348,\n",
       " 'imp_op_var41_ult1': 0.5236644997331971,\n",
       " 'imp_op_var39_efect_ult1': 0.5179100750635618,\n",
       " 'imp_op_var39_efect_ult3': 0.5167694782992768,\n",
       " 'imp_op_var39_ult1': 0.5228100155373502,\n",
       " 'ind_var1_0': 0.5012573651075508,\n",
       " 'ind_var1': 0.5020403141549071,\n",
       " 'ind_var5_0': 0.5179815121227204,\n",
       " 'ind_var5': 0.6644335369107354,\n",
       " 'ind_var8_0': 0.522325944684343,\n",
       " 'ind_var8': 0.5108950623511844,\n",
       " 'ind_var12_0': 0.5231394976032572,\n",
       " 'ind_var12': 0.5175438655492329,\n",
       " 'ind_var13_0': 0.5218595719493657,\n",
       " 'ind_var13_corto_0': 0.5170473653765958,\n",
       " 'ind_var13_corto': 0.5169714442336926,\n",
       " 'ind_var13_largo_0': 0.5050135699584325,\n",
       " 'ind_var13_largo': 0.504905979974082,\n",
       " 'ind_var13': 0.521803212621799,\n",
       " 'ind_var14_0': 0.507211807937725,\n",
       " 'ind_var14': 0.5011103712372932,\n",
       " 'ind_var19': 0.5014941527547968,\n",
       " 'ind_var20_0': 0.501858372456964,\n",
       " 'ind_var20': 0.50143779342723,\n",
       " 'ind_var24_0': 0.5146970048562627,\n",
       " 'ind_var24': 0.5152304426687473,\n",
       " 'ind_var25_cte': 0.5099197741367018,\n",
       " 'ind_var26_0': 0.5077293272529158,\n",
       " 'ind_var26_cte': 0.5100101284241585,\n",
       " 'ind_var25_0': 0.507590068427118,\n",
       " 'ind_var30_0': 0.5017582372618391,\n",
       " 'ind_var30': 0.670893700310747,\n",
       " 'ind_var31_0': 0.5016449020451906,\n",
       " 'ind_var31': 0.5012732275537978,\n",
       " 'ind_var37_cte': 0.49270419956863104,\n",
       " 'ind_var37_0': 0.4938347491827757,\n",
       " 'ind_var39_0': 0.5298969557555457,\n",
       " 'ind_var40_0': 0.501267146015219,\n",
       " 'ind_var40': 0.5020500950625754,\n",
       " 'ind_var41_0': 0.5293826033244997,\n",
       " 'num_var1_0': 0.5012573651075508,\n",
       " 'num_var1': 0.5020403141549071,\n",
       " 'num_var4': 0.6871900377111443,\n",
       " 'num_var5_0': 0.5188045656940689,\n",
       " 'num_var5': 0.6645625103694437,\n",
       " 'num_var8_0': 0.522325944684343,\n",
       " 'num_var8': 0.5108950623511844,\n",
       " 'num_var12_0': 0.5231422581173126,\n",
       " 'num_var12': 0.5175474528162288,\n",
       " 'num_var13_0': 0.5218639439310168,\n",
       " 'num_var13_corto_0': 0.5170494672908511,\n",
       " 'num_var13_corto': 0.5169715983740714,\n",
       " 'num_var13_largo_0': 0.5050135699584325,\n",
       " 'num_var13_largo': 0.504905979974082,\n",
       " 'num_var13': 0.5217911336212117,\n",
       " 'num_var14_0': 0.5072123404226697,\n",
       " 'num_var14': 0.5011104413011017,\n",
       " 'num_var20_0': 0.501858372456964,\n",
       " 'num_var20': 0.50143779342723,\n",
       " 'num_var24_0': 0.5146983220558627,\n",
       " 'num_var24': 0.5152308490388368,\n",
       " 'num_var26_0': 0.5077323399966818,\n",
       " 'num_var25_0': 0.5075887232019946,\n",
       " 'num_op_var40_ult1': 0.49889432303787706,\n",
       " 'num_op_var40_ult3': 0.49746490924214504,\n",
       " 'num_op_var41_hace2': 0.5105836707606352,\n",
       " 'num_op_var41_hace3': 0.4990362863266835,\n",
       " 'num_op_var41_ult1': 0.5191944707884365,\n",
       " 'num_op_var41_ult3': 0.5182855610261378,\n",
       " 'num_op_var39_hace2': 0.5101156585325387,\n",
       " 'num_op_var39_hace3': 0.4990752137786925,\n",
       " 'num_op_var39_ult1': 0.5200805958002072,\n",
       " 'num_op_var39_ult3': 0.5191226974229971,\n",
       " 'num_var30_0': 0.5346452361094295,\n",
       " 'num_var30': 0.6770218313222219,\n",
       " 'num_var31_0': 0.5016453924918501,\n",
       " 'num_var31': 0.501273591885602,\n",
       " 'num_var35': 0.6889014162978508,\n",
       " 'num_var37_med_ult2': 0.4998697653927386,\n",
       " 'num_var37_0': 0.4927034288667375,\n",
       " 'num_var39_0': 0.5323184870925649,\n",
       " 'num_var40_0': 0.501267146015219,\n",
       " 'num_var40': 0.5020500950625754,\n",
       " 'num_var41_0': 0.5296668241701082,\n",
       " 'num_var42_0': 0.5228811583285129,\n",
       " 'num_var42': 0.6681307760603737,\n",
       " 'saldo_var1': 0.5025692959091704,\n",
       " 'saldo_var5': 0.6866988203496689,\n",
       " 'saldo_var8': 0.5092962622919944,\n",
       " 'saldo_var12': 0.51812218623745,\n",
       " 'saldo_var13_corto': 0.5167222693051016,\n",
       " 'saldo_var13_largo': 0.5046907859926192,\n",
       " 'saldo_var13': 0.5217778915614028,\n",
       " 'saldo_var14': 0.5014736660971879,\n",
       " 'saldo_var20': 0.50143779342723,\n",
       " 'saldo_var24': 0.5150169162059269,\n",
       " 'saldo_var26': 0.5065662259933367,\n",
       " 'saldo_var25': 0.5065568234302343,\n",
       " 'saldo_var30': 0.7007272623323514,\n",
       " 'saldo_var31': 0.5011170553246252,\n",
       " 'saldo_var37': 0.4950855002668029,\n",
       " 'saldo_var40': 0.5025791468806472,\n",
       " 'saldo_var42': 0.6885158691723726,\n",
       " 'var36': 0.6453892128639395,\n",
       " 'delta_imp_aport_var13_1y3': 0.5120077456941585,\n",
       " 'delta_num_aport_var13_1y3': 0.5118510970310881,\n",
       " 'imp_aport_var13_hace3': 0.5105633802816901,\n",
       " 'imp_aport_var13_ult1': 0.5009342728609799,\n",
       " 'imp_var7_recib_ult1': 0.49994207124312257,\n",
       " 'imp_var43_emit_ult1': 0.5006130302989539,\n",
       " 'imp_trans_var37_ult1': 0.5210760904170647,\n",
       " 'ind_var7_recib_ult1': 0.5001852206841815,\n",
       " 'ind_var10_ult1': 0.4937030852738206,\n",
       " 'ind_var10cte_ult1': 0.4917411585078763,\n",
       " 'ind_var9_cte_ult1': 0.4904811309756021,\n",
       " 'ind_var9_ult1': 0.49264271157028133,\n",
       " 'ind_var43_emit_ult1': 0.5025155149297568,\n",
       " 'ind_var43_recib_ult1': 0.5218691847038935,\n",
       " 'var21': 0.5002109621274287,\n",
       " 'num_aport_var13_hace3': 0.510842458443754,\n",
       " 'num_aport_var13_ult1': 0.5014180634587532,\n",
       " 'num_var7_recib_ult1': 0.4998964316782581,\n",
       " 'num_ent_var16_ult1': 0.5024553020927219,\n",
       " 'num_var22_hace2': 0.508719426956518,\n",
       " 'num_var22_hace3': 0.511586774307097,\n",
       " 'num_var22_ult1': 0.5122547906829708,\n",
       " 'num_var22_ult3': 0.5132522190609432,\n",
       " 'num_med_var22_ult3': 0.5094303504087242,\n",
       " 'num_med_var45_ult3': 0.5377145914327096,\n",
       " 'num_meses_var5_ult3': 0.6903136364349741,\n",
       " 'num_meses_var8_ult3': 0.5120447674105763,\n",
       " 'num_meses_var12_ult3': 0.5169478887812708,\n",
       " 'num_meses_var13_corto_ult3': 0.5170857463308985,\n",
       " 'num_meses_var13_largo_ult3': 0.5037754303599374,\n",
       " 'num_meses_var39_vig_ult3': 0.555171437731771,\n",
       " 'num_op_var39_comer_ult1': 0.5131141653326518,\n",
       " 'num_op_var39_comer_ult3': 0.5067270784849178,\n",
       " 'num_op_var40_comer_ult1': 0.5009542830846908,\n",
       " 'num_op_var40_comer_ult3': 0.5007865223015906,\n",
       " 'num_op_var41_comer_ult1': 0.5115397334660622,\n",
       " 'num_op_var41_comer_ult3': 0.5057141660052643,\n",
       " 'num_op_var41_efect_ult1': 0.5083141078242778,\n",
       " 'num_op_var41_efect_ult3': 0.5047609058521777,\n",
       " 'num_op_var39_efect_ult1': 0.509886297648995,\n",
       " 'num_op_var39_efect_ult3': 0.504828447363583,\n",
       " 'num_var43_emit_ult1': 0.5017217480303663,\n",
       " 'num_var43_recib_ult1': 0.5215239663065946,\n",
       " 'num_trasp_var11_ult1': 0.5029315398119376,\n",
       " 'num_var45_hace2': 0.546661459524418,\n",
       " 'num_var45_hace3': 0.5208812709911169,\n",
       " 'num_var45_ult1': 0.5412510201290519,\n",
       " 'num_var45_ult3': 0.5431205467443311,\n",
       " 'saldo_medio_var5_hace2': 0.690937638726341,\n",
       " 'saldo_medio_var5_hace3': 0.6699916007506356,\n",
       " 'saldo_medio_var5_ult1': 0.6839453967517297,\n",
       " 'saldo_medio_var5_ult3': 0.6842517857863513,\n",
       " 'saldo_medio_var8_hace2': 0.5063679594280103,\n",
       " 'saldo_medio_var8_hace3': 0.5010725928317438,\n",
       " 'saldo_medio_var8_ult1': 0.510374614368798,\n",
       " 'saldo_medio_var8_ult3': 0.5096991291909369,\n",
       " 'saldo_medio_var12_hace2': 0.5146959819246585,\n",
       " 'saldo_medio_var12_hace3': 0.5064201849908748,\n",
       " 'saldo_medio_var12_ult1': 0.5175186565909304,\n",
       " 'saldo_medio_var12_ult3': 0.5170556609315237,\n",
       " 'saldo_medio_var13_corto_hace2': 0.5160813816358835,\n",
       " 'saldo_medio_var13_corto_hace3': 0.5079958639932559,\n",
       " 'saldo_medio_var13_corto_ult1': 0.5169288594508791,\n",
       " 'saldo_medio_var13_corto_ult3': 0.5168700338772526,\n",
       " 'saldo_medio_var13_largo_hace2': 0.5033939749608763,\n",
       " 'saldo_medio_var13_largo_hace3': 0.5020931142410016,\n",
       " 'saldo_medio_var13_largo_ult1': 0.503716744913928,\n",
       " 'saldo_medio_var13_largo_ult3': 0.503716744913928,\n",
       " 'var38': 0.5793346376411925}"
      ]
     },
     "execution_count": 69,
     "metadata": {},
     "output_type": "execute_result"
    }
   ],
   "source": [
    "# the univariate performance of the features\n",
    "\n",
    "sel.feature_performance_"
   ]
  },
  {
   "cell_type": "code",
   "execution_count": 70,
   "id": "bcaaf649",
   "metadata": {},
   "outputs": [
    {
     "data": {
      "image/png": "[encoded data removed]",
      "text/plain": [
       "<Figure size 1440x360 with 1 Axes>"
      ]
     },
     "metadata": {
      "needs_background": "light"
     },
     "output_type": "display_data"
    }
   ],
   "source": [
    "pd.Series(sel.feature_performance_).plot.bar(figsize=(20,5))\n",
    "plt.ylabel('roc-auc')\n",
    "plt.show()\n"
   ]
  },
  {
   "cell_type": "code",
   "execution_count": 71,
   "id": "b49eebb4",
   "metadata": {},
   "outputs": [
    {
     "data": {
      "text/plain": [
       "156"
      ]
     },
     "execution_count": 71,
     "metadata": {},
     "output_type": "execute_result"
    }
   ],
   "source": [
    "# the features that will be dropped\n",
    "\n",
    "len(sel.features_to_drop_)"
   ]
  },
  {
   "cell_type": "code",
   "execution_count": 72,
   "id": "8d1c98e4",
   "metadata": {},
   "outputs": [
    {
     "name": "stdout",
     "output_type": "stream",
     "text": [
      "Number of variables before removing non important:  184\n",
      "Number of variables after removing non important:  28\n"
     ]
    }
   ],
   "source": [
    "# remove variables\n",
    "\n",
    "print('Number of variables before removing non important: ', X_train.shape[1])\n",
    "\n",
    "X_train = sel.transform(X_train)\n",
    "X_test = sel.transform(X_test)\n",
    "\n",
    "print('Number of variables after removing non important: ', X_train.shape[1])"
   ]
  },
  {
   "cell_type": "code",
   "execution_count": 73,
   "id": "eb2fd359",
   "metadata": {},
   "outputs": [
    {
     "name": "stdout",
     "output_type": "stream",
     "text": [
      "Train roc-auc: 0.7868611114847848\n",
      "Test roc-auc: 0.7752216620601393\n"
     ]
    }
   ],
   "source": [
    "# Compare performance using RF\n",
    "\n",
    "rf = RandomForestClassifier(n_estimators=10, max_depth=3)\n",
    "\n",
    "rf.fit(X_train, y_train)\n",
    "\n",
    "pred = rf.predict_proba(X_train)\n",
    "print('Train roc-auc: {}'.format(roc_auc_score(y_train, pred[:,1])))\n",
    "\n",
    "pred = rf.predict_proba(X_test)\n",
    "print('Test roc-auc: {}'.format(roc_auc_score(y_test,pred[:,1])))"
   ]
  },
  {
   "cell_type": "markdown",
   "id": "1dd20cf6",
   "metadata": {},
   "source": [
    "### Feature Selection with pipeline\n"
   ]
  },
  {
   "cell_type": "code",
   "execution_count": 74,
   "id": "f6350f4e",
   "metadata": {},
   "outputs": [],
   "source": [
    "data = pd.read_csv(\"..\\\\train.csv\")\n",
    "\n",
    "X_train, X_test, y_train, y_test = train_test_split(\n",
    "    data.drop(labels=['ID','TARGET'], axis=1),\n",
    "    data['TARGET'],\n",
    "    test_size=0.3,\n",
    "    random_state=0)\n"
   ]
  },
  {
   "cell_type": "code",
   "execution_count": 75,
   "id": "d7f7ea97",
   "metadata": {},
   "outputs": [
    {
     "data": {
      "text/plain": [
       "Pipeline(steps=[('constant', DropConstantFeatures(tol=0.998)),\n",
       "                ('duplicated', DropDuplicateFeatures()),\n",
       "                ('shuffle',\n",
       "                 SelectByShuffling(estimator=RandomForestClassifier(max_depth=2,\n",
       "                                                                    n_estimators=10,\n",
       "                                                                    random_state=1))),\n",
       "                ('random_forest',\n",
       "                 RandomForestClassifier(max_depth=2, n_estimators=10,\n",
       "                                        random_state=1))])"
      ]
     },
     "execution_count": 75,
     "metadata": {},
     "output_type": "execute_result"
    }
   ],
   "source": [
    "pipe = Pipeline([('constant', DropConstantFeatures(tol=0.998)),\n",
    "                 ('duplicated', DropDuplicateFeatures()),\n",
    "                ('shuffle', SelectByShuffling(estimator=RandomForestClassifier(\n",
    "                n_estimators=10, max_depth=2, random_state=1),\n",
    "                                             scoring='roc_auc', cv=3)),\n",
    "                 ('random_forest', RandomForestClassifier(n_estimators=10,\n",
    "                                                         max_depth=2, random_state=1)),\n",
    "                 \n",
    "                ])\n",
    "\n",
    "pipe.fit(X_train, y_train)"
   ]
  },
  {
   "cell_type": "code",
   "execution_count": 76,
   "id": "aa6dff76",
   "metadata": {},
   "outputs": [
    {
     "name": "stdout",
     "output_type": "stream",
     "text": [
      "Train roc-auc: 0.7715536827032449\n",
      "Test roc-auc: 0.7684207953826243\n"
     ]
    }
   ],
   "source": [
    "# the pipeline takes in the raw data, removes all unwanted features and then\n",
    "# makes the prediction with the model trained on the final subset of variables\n",
    "\n",
    "# obtain predictions and determine model performance\n",
    "\n",
    "\n",
    "pred = pipe.predict_proba(X_train)\n",
    "print('Train roc-auc: {}'.format(roc_auc_score(y_train, pred[:,1])))\n",
    "\n",
    "pred = pipe.predict_proba(X_test)\n",
    "print('Test roc-auc: {}'.format(roc_auc_score(y_test,pred[:,1])))"
   ]
  },
  {
   "cell_type": "code",
   "execution_count": null,
   "id": "7c933ce0",
   "metadata": {},
   "outputs": [],
   "source": []
  },
  {
   "cell_type": "code",
   "execution_count": null,
   "id": "38f4c009",
   "metadata": {},
   "outputs": [],
   "source": []
  },
  {
   "cell_type": "code",
   "execution_count": null,
   "id": "5a350339",
   "metadata": {},
   "outputs": [],
   "source": []
  },
  {
   "cell_type": "code",
   "execution_count": null,
   "id": "2dd3771a",
   "metadata": {},
   "outputs": [],
   "source": []
  },
  {
   "cell_type": "code",
   "execution_count": null,
   "id": "fb51324b",
   "metadata": {},
   "outputs": [],
   "source": []
  },
  {
   "cell_type": "code",
   "execution_count": null,
   "id": "309df739",
   "metadata": {},
   "outputs": [],
   "source": []
  },
  {
   "cell_type": "code",
   "execution_count": null,
   "id": "cf3dd3fe",
   "metadata": {},
   "outputs": [],
   "source": []
  }
 ],
 "metadata": {
  "kernelspec": {
   "display_name": "Python 3",
   "language": "python",
   "name": "python3"
  },
  "language_info": {
   "codemirror_mode": {
    "name": "ipython",
    "version": 3
   },
   "file_extension": ".py",
   "mimetype": "text/x-python",
   "name": "python",
   "nbconvert_exporter": "python",
   "pygments_lexer": "ipython3",
   "version": "3.8.8"
  }
 },
 "nbformat": 4,
 "nbformat_minor": 5
}
