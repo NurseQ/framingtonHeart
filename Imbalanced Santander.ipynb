{
 "cells": [
  {
   "cell_type": "code",
   "execution_count": 1,
   "id": "80f0807e",
   "metadata": {},
   "outputs": [],
   "source": [
    "import numpy as np\n",
    "import pandas as pd\n",
    "import matplotlib.pyplot as plt\n",
    "\n",
    "# this classifier usually outperforms most off the shelf classifier\n",
    "from sklearn.ensemble import GradientBoostingClassifier\n",
    "# metric for optimization\n",
    "from sklearn.metrics import roc_auc_score\n",
    "\n",
    "from sklearn.model_selection import train_test_split\n",
    "\n",
    "from sklearn.pipeline import Pipeline\n",
    "\n",
    "# some methods we need to work with imbalanced data are sensitive to the magnitude of features\n",
    "# such as KNN\n",
    "from sklearn.preprocessing import MinMaxScaler\n",
    "\n",
    "# reduce no. of features\n",
    "from feature_engine.selection import (DropDuplicateFeatures,\n",
    "                                     DropConstantFeatures)\n",
    "\n",
    "# over sampling\n",
    "from imblearn.over_sampling import (RandomOverSampler, SMOTENC)\n",
    "\n",
    "# under sampling\n",
    "\n",
    "from imblearn.under_sampling import (InstanceHardnessThreshold,\n",
    "                                    RandomUnderSampler)\n",
    "\n",
    "# ensemble methods with boosting which tend to work better\n",
    "\n",
    "from imblearn.ensemble import (RUSBoostClassifier,\n",
    "                              EasyEnsembleClassifier)\n"
   ]
  },
  {
   "cell_type": "code",
   "execution_count": 2,
   "id": "6660049b",
   "metadata": {},
   "outputs": [],
   "source": [
    "# load Santander Customer Satisfaction dataset\n",
    "data = pd.read_csv(\"..\\\\train.csv\")"
   ]
  },
  {
   "cell_type": "markdown",
   "id": "ba7f54a8",
   "metadata": {},
   "source": [
    "### Variable Exploration"
   ]
  },
  {
   "cell_type": "code",
   "execution_count": 3,
   "id": "16a1d52d",
   "metadata": {},
   "outputs": [
    {
     "name": "stdout",
     "output_type": "stream",
     "text": [
      "[]\n"
     ]
    }
   ],
   "source": [
    "# Check for missing values\n",
    "nullCol=[]\n",
    "\n",
    "for i in data.columns:\n",
    "    if data[i].isnull().sum()>0:\n",
    "        append.nullCol\n",
    "\n",
    "print(nullCol)"
   ]
  },
  {
   "cell_type": "code",
   "execution_count": 4,
   "id": "aefeedca",
   "metadata": {},
   "outputs": [
    {
     "data": {
      "text/plain": [
       "[]"
      ]
     },
     "execution_count": 4,
     "metadata": {},
     "output_type": "execute_result"
    }
   ],
   "source": [
    "#put in a list any column with strings\n",
    "list(data.select_dtypes(include='object').columns.values)"
   ]
  },
  {
   "cell_type": "code",
   "execution_count": 5,
   "id": "877edd77",
   "metadata": {},
   "outputs": [
    {
     "name": "stdout",
     "output_type": "stream",
     "text": [
      "140 variables with less than or equal to 2 values\n",
      "239 variables with less than or equal to 10 values\n",
      "254 variables with less than or equal to 20 values\n"
     ]
    }
   ],
   "source": [
    "# check the dataset if how many are binary of have <10 or <20 unique variables\n",
    "\n",
    "for unique in [2,10,20]:\n",
    "    vars_ = [x for x in data.columns if data[x].nunique()<=unique]\n",
    "    vars_ = len(vars_)\n",
    "    print(f'{vars_} variables with less than or equal to {unique} values')"
   ]
  },
  {
   "cell_type": "code",
   "execution_count": 6,
   "id": "ecbceed7",
   "metadata": {},
   "outputs": [
    {
     "data": {
      "text/plain": [
       "((50933, 369), (25087, 369))"
      ]
     },
     "execution_count": 6,
     "metadata": {},
     "output_type": "execute_result"
    }
   ],
   "source": [
    "X_train, X_test, y_train, y_test = train_test_split(\n",
    "    data.drop(['ID', 'TARGET'],axis=1), data['TARGET'], test_size=0.33,)\n",
    "\n",
    "X_train.shape, X_test.shape"
   ]
  },
  {
   "cell_type": "code",
   "execution_count": 7,
   "id": "7461463c",
   "metadata": {},
   "outputs": [
    {
     "data": {
      "text/plain": [
       "(0    0.960929\n",
       " 1    0.039071\n",
       " Name: TARGET, dtype: float64,\n",
       " 0    48943\n",
       " 1     1990\n",
       " Name: TARGET, dtype: int64)"
      ]
     },
     "execution_count": 7,
     "metadata": {},
     "output_type": "execute_result"
    }
   ],
   "source": [
    "# Check the imbalance, 0 is satisfied, 1 is not satisfied\n",
    "\n",
    "y_train.value_counts(normalize=True), y_train.value_counts()"
   ]
  },
  {
   "cell_type": "markdown",
   "id": "b662072a",
   "metadata": {},
   "source": [
    "### Drop constant, quasi-constant and duplicated features"
   ]
  },
  {
   "cell_type": "code",
   "execution_count": 8,
   "id": "70931419",
   "metadata": {},
   "outputs": [
    {
     "data": {
      "text/plain": [
       "Pipeline(steps=[('constant', DropConstantFeatures()),\n",
       "                ('duplicated', DropDuplicateFeatures())])"
      ]
     },
     "execution_count": 8,
     "metadata": {},
     "output_type": "execute_result"
    }
   ],
   "source": [
    "pipe = Pipeline([('constant', DropConstantFeatures(tol=1)),\n",
    "                ('duplicated',DropDuplicateFeatures())])\n",
    "\n",
    "pipe.fit(X_train, y_train)"
   ]
  },
  {
   "cell_type": "code",
   "execution_count": 9,
   "id": "8acecf88",
   "metadata": {},
   "outputs": [
    {
     "data": {
      "text/plain": [
       "49"
      ]
     },
     "execution_count": 9,
     "metadata": {},
     "output_type": "execute_result"
    }
   ],
   "source": [
    "# see how many constant features in the dataset\n",
    "len(pipe.named_steps['constant'].features_to_drop_)"
   ]
  },
  {
   "cell_type": "code",
   "execution_count": 10,
   "id": "d6778b50",
   "metadata": {},
   "outputs": [
    {
     "data": {
      "text/plain": [
       "25"
      ]
     },
     "execution_count": 10,
     "metadata": {},
     "output_type": "execute_result"
    }
   ],
   "source": [
    "# see number of duplicated features are in the dataset\n",
    "len(pipe.named_steps['duplicated'].features_to_drop_)"
   ]
  },
  {
   "cell_type": "code",
   "execution_count": 11,
   "id": "d9493b78",
   "metadata": {
    "scrolled": true
   },
   "outputs": [
    {
     "name": "stdout",
     "output_type": "stream",
     "text": [
      "No. of features before drop:  369\n",
      "No. of features after drop:  295\n"
     ]
    }
   ],
   "source": [
    "# go ahead and remove all duplicated and constant features\n",
    "print('No. of features before drop: ', X_train.shape[1])\n",
    "\n",
    "X_train = pipe.transform(X_train)\n",
    "X_test = pipe.transform(X_test)\n",
    "\n",
    "print('No. of features after drop: ', X_train.shape[1])"
   ]
  },
  {
   "cell_type": "code",
   "execution_count": null,
   "id": "f24ae832",
   "metadata": {},
   "outputs": [],
   "source": []
  },
  {
   "cell_type": "code",
   "execution_count": null,
   "id": "2853eb07",
   "metadata": {},
   "outputs": [],
   "source": []
  },
  {
   "cell_type": "code",
   "execution_count": null,
   "id": "5c0e5f09",
   "metadata": {},
   "outputs": [],
   "source": []
  },
  {
   "cell_type": "code",
   "execution_count": null,
   "id": "c6affa9a",
   "metadata": {},
   "outputs": [],
   "source": []
  }
 ],
 "metadata": {
  "kernelspec": {
   "display_name": "Python 3",
   "language": "python",
   "name": "python3"
  },
  "language_info": {
   "codemirror_mode": {
    "name": "ipython",
    "version": 3
   },
   "file_extension": ".py",
   "mimetype": "text/x-python",
   "name": "python",
   "nbconvert_exporter": "python",
   "pygments_lexer": "ipython3",
   "version": "3.8.8"
  }
 },
 "nbformat": 4,
 "nbformat_minor": 5
}
