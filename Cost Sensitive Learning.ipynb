{
 "cells": [
  {
   "cell_type": "code",
   "execution_count": 1,
   "id": "cd796173",
   "metadata": {},
   "outputs": [],
   "source": [
    "import pandas as pd\n",
    "import numpy as np"
   ]
  },
  {
   "cell_type": "code",
   "execution_count": 2,
   "id": "93dcd6b5",
   "metadata": {},
   "outputs": [
    {
     "data": {
      "text/html": [
       "<div>\n",
       "<style scoped>\n",
       "    .dataframe tbody tr th:only-of-type {\n",
       "        vertical-align: middle;\n",
       "    }\n",
       "\n",
       "    .dataframe tbody tr th {\n",
       "        vertical-align: top;\n",
       "    }\n",
       "\n",
       "    .dataframe thead th {\n",
       "        text-align: right;\n",
       "    }\n",
       "</style>\n",
       "<table border=\"1\" class=\"dataframe\">\n",
       "  <thead>\n",
       "    <tr style=\"text-align: right;\">\n",
       "      <th></th>\n",
       "      <th>age</th>\n",
       "      <th>education</th>\n",
       "      <th>cigsPerDay</th>\n",
       "      <th>BPMeds</th>\n",
       "      <th>prevalentStroke</th>\n",
       "      <th>prevalentHyp</th>\n",
       "      <th>totChol</th>\n",
       "      <th>sysBP</th>\n",
       "      <th>diaBP</th>\n",
       "      <th>BMI</th>\n",
       "      <th>heartRate</th>\n",
       "      <th>glucose</th>\n",
       "      <th>TenYearCHD</th>\n",
       "      <th>Sex_male</th>\n",
       "      <th>currentSmoker_Yes</th>\n",
       "      <th>diabetes_Yes</th>\n",
       "    </tr>\n",
       "  </thead>\n",
       "  <tbody>\n",
       "    <tr>\n",
       "      <th>0</th>\n",
       "      <td>39</td>\n",
       "      <td>4.0</td>\n",
       "      <td>0.0</td>\n",
       "      <td>0.0</td>\n",
       "      <td>0</td>\n",
       "      <td>0</td>\n",
       "      <td>195.0</td>\n",
       "      <td>106.0</td>\n",
       "      <td>70.0</td>\n",
       "      <td>26.97</td>\n",
       "      <td>80.0</td>\n",
       "      <td>77.0</td>\n",
       "      <td>0</td>\n",
       "      <td>1</td>\n",
       "      <td>0</td>\n",
       "      <td>0</td>\n",
       "    </tr>\n",
       "    <tr>\n",
       "      <th>1</th>\n",
       "      <td>46</td>\n",
       "      <td>2.0</td>\n",
       "      <td>0.0</td>\n",
       "      <td>0.0</td>\n",
       "      <td>0</td>\n",
       "      <td>0</td>\n",
       "      <td>250.0</td>\n",
       "      <td>121.0</td>\n",
       "      <td>81.0</td>\n",
       "      <td>28.73</td>\n",
       "      <td>95.0</td>\n",
       "      <td>76.0</td>\n",
       "      <td>0</td>\n",
       "      <td>0</td>\n",
       "      <td>0</td>\n",
       "      <td>0</td>\n",
       "    </tr>\n",
       "    <tr>\n",
       "      <th>2</th>\n",
       "      <td>48</td>\n",
       "      <td>1.0</td>\n",
       "      <td>20.0</td>\n",
       "      <td>0.0</td>\n",
       "      <td>0</td>\n",
       "      <td>0</td>\n",
       "      <td>245.0</td>\n",
       "      <td>127.5</td>\n",
       "      <td>80.0</td>\n",
       "      <td>25.34</td>\n",
       "      <td>75.0</td>\n",
       "      <td>70.0</td>\n",
       "      <td>0</td>\n",
       "      <td>1</td>\n",
       "      <td>1</td>\n",
       "      <td>0</td>\n",
       "    </tr>\n",
       "    <tr>\n",
       "      <th>3</th>\n",
       "      <td>61</td>\n",
       "      <td>3.0</td>\n",
       "      <td>30.0</td>\n",
       "      <td>0.0</td>\n",
       "      <td>0</td>\n",
       "      <td>1</td>\n",
       "      <td>225.0</td>\n",
       "      <td>150.0</td>\n",
       "      <td>95.0</td>\n",
       "      <td>28.58</td>\n",
       "      <td>65.0</td>\n",
       "      <td>103.0</td>\n",
       "      <td>1</td>\n",
       "      <td>0</td>\n",
       "      <td>1</td>\n",
       "      <td>0</td>\n",
       "    </tr>\n",
       "    <tr>\n",
       "      <th>4</th>\n",
       "      <td>46</td>\n",
       "      <td>3.0</td>\n",
       "      <td>23.0</td>\n",
       "      <td>0.0</td>\n",
       "      <td>0</td>\n",
       "      <td>0</td>\n",
       "      <td>285.0</td>\n",
       "      <td>130.0</td>\n",
       "      <td>84.0</td>\n",
       "      <td>23.10</td>\n",
       "      <td>85.0</td>\n",
       "      <td>85.0</td>\n",
       "      <td>0</td>\n",
       "      <td>0</td>\n",
       "      <td>1</td>\n",
       "      <td>0</td>\n",
       "    </tr>\n",
       "  </tbody>\n",
       "</table>\n",
       "</div>"
      ],
      "text/plain": [
       "   age  education  cigsPerDay  BPMeds  prevalentStroke  prevalentHyp  totChol  \\\n",
       "0   39        4.0         0.0     0.0                0             0    195.0   \n",
       "1   46        2.0         0.0     0.0                0             0    250.0   \n",
       "2   48        1.0        20.0     0.0                0             0    245.0   \n",
       "3   61        3.0        30.0     0.0                0             1    225.0   \n",
       "4   46        3.0        23.0     0.0                0             0    285.0   \n",
       "\n",
       "   sysBP  diaBP    BMI  heartRate  glucose  TenYearCHD  Sex_male  \\\n",
       "0  106.0   70.0  26.97       80.0     77.0           0         1   \n",
       "1  121.0   81.0  28.73       95.0     76.0           0         0   \n",
       "2  127.5   80.0  25.34       75.0     70.0           0         1   \n",
       "3  150.0   95.0  28.58       65.0    103.0           1         0   \n",
       "4  130.0   84.0  23.10       85.0     85.0           0         0   \n",
       "\n",
       "   currentSmoker_Yes  diabetes_Yes  \n",
       "0                  0             0  \n",
       "1                  0             0  \n",
       "2                  1             0  \n",
       "3                  1             0  \n",
       "4                  1             0  "
      ]
     },
     "execution_count": 2,
     "metadata": {},
     "output_type": "execute_result"
    }
   ],
   "source": [
    "df = pd.read_csv('framingham_clean.csv')\n",
    "df.head()"
   ]
  },
  {
   "cell_type": "code",
   "execution_count": 3,
   "id": "724f409d",
   "metadata": {},
   "outputs": [
    {
     "data": {
      "text/plain": [
       "0    84.646739\n",
       "1    15.353261\n",
       "Name: TenYearCHD, dtype: float64"
      ]
     },
     "execution_count": 3,
     "metadata": {},
     "output_type": "execute_result"
    }
   ],
   "source": [
    "df.TenYearCHD.value_counts()/len(df)*100"
   ]
  },
  {
   "cell_type": "code",
   "execution_count": 4,
   "id": "491b0ee9",
   "metadata": {},
   "outputs": [
    {
     "data": {
      "text/plain": [
       "<AxesSubplot:>"
      ]
     },
     "execution_count": 4,
     "metadata": {},
     "output_type": "execute_result"
    },
    {
     "data": {
      "image/png": "[encoded data removed]",
      "text/plain": [
       "<Figure size 432x288 with 1 Axes>"
      ]
     },
     "metadata": {
      "needs_background": "light"
     },
     "output_type": "display_data"
    }
   ],
   "source": [
    "df.age.hist()"
   ]
  },
  {
   "cell_type": "code",
   "execution_count": 5,
   "id": "d61746ca",
   "metadata": {},
   "outputs": [
    {
     "name": "stdout",
     "output_type": "stream",
     "text": [
      "The mean age is : 49.566847826086956\n",
      "The oldest age is : 70\n",
      "The youngest age is : 32\n"
     ]
    }
   ],
   "source": [
    "a = df.age.mean()\n",
    "b = df.age.max()\n",
    "c = df.age.min()\n",
    "\n",
    "print('The mean age is :', a)\n",
    "print('The oldest age is :', b)\n",
    "print('The youngest age is :', c)"
   ]
  },
  {
   "cell_type": "markdown",
   "id": "939fde07",
   "metadata": {},
   "source": [
    "## Estimating the Cost with cross validation"
   ]
  },
  {
   "cell_type": "markdown",
   "id": "ffe62ced",
   "metadata": {},
   "source": [
    "### Random Forest"
   ]
  },
  {
   "cell_type": "code",
   "execution_count": 6,
   "id": "1990b476",
   "metadata": {},
   "outputs": [],
   "source": [
    "from sklearn.model_selection import train_test_split"
   ]
  },
  {
   "cell_type": "code",
   "execution_count": 7,
   "id": "da86e4ad",
   "metadata": {},
   "outputs": [],
   "source": [
    "X = df.drop('TenYearCHD', axis=1)\n",
    "y = df.TenYearCHD"
   ]
  },
  {
   "cell_type": "code",
   "execution_count": 8,
   "id": "8903ce55",
   "metadata": {},
   "outputs": [],
   "source": [
    "from sklearn.ensemble import RandomForestClassifier\n",
    "from sklearn.metrics import roc_auc_score\n",
    "from sklearn.model_selection import GridSearchCV"
   ]
  },
  {
   "cell_type": "code",
   "execution_count": 9,
   "id": "807d00bc",
   "metadata": {},
   "outputs": [],
   "source": [
    "rf = RandomForestClassifier(n_estimators=50,\n",
    "                            random_state=39,\n",
    "                            max_depth=2,\n",
    "                            n_jobs=4,\n",
    "                            class_weight=None)"
   ]
  },
  {
   "cell_type": "code",
   "execution_count": 10,
   "id": "666137fe",
   "metadata": {},
   "outputs": [],
   "source": [
    "# set up parameter search grid\n",
    "# including class weight\n",
    "\n",
    "param_grid = {\n",
    "  'n_estimators': [10, 50, 100],\n",
    "  'max_depth': [None, 2, 3],\n",
    "  'class_weight': [None, {0:1, 1:10}, {0:1, 1:100}],\n",
    "}"
   ]
  },
  {
   "cell_type": "code",
   "execution_count": 11,
   "id": "d4e86689",
   "metadata": {},
   "outputs": [],
   "source": [
    "X_train, X_test, y_train, y_test = train_test_split(\n",
    "X, y, test_size=0.3, random_state=101)"
   ]
  },
  {
   "cell_type": "code",
   "execution_count": 12,
   "id": "d8f203ea",
   "metadata": {},
   "outputs": [],
   "source": [
    "search = GridSearchCV(estimator=rf,\n",
    "                      scoring='roc_auc',\n",
    "                      param_grid=param_grid,\n",
    "                      cv=2,\n",
    "                     ).fit(X_train, y_train)"
   ]
  },
  {
   "cell_type": "code",
   "execution_count": 13,
   "id": "945e5eb6",
   "metadata": {},
   "outputs": [
    {
     "data": {
      "text/plain": [
       "0.7122716338104416"
      ]
     },
     "execution_count": 13,
     "metadata": {},
     "output_type": "execute_result"
    }
   ],
   "source": [
    "search.best_score_"
   ]
  },
  {
   "cell_type": "code",
   "execution_count": 14,
   "id": "29028ee4",
   "metadata": {},
   "outputs": [
    {
     "data": {
      "text/plain": [
       "{'class_weight': None, 'max_depth': 3, 'n_estimators': 100}"
      ]
     },
     "execution_count": 14,
     "metadata": {},
     "output_type": "execute_result"
    }
   ],
   "source": [
    "search.best_params_"
   ]
  },
  {
   "cell_type": "code",
   "execution_count": 15,
   "id": "956df916",
   "metadata": {},
   "outputs": [
    {
     "data": {
      "text/plain": [
       "RandomForestClassifier(max_depth=3, n_jobs=4, random_state=39)"
      ]
     },
     "execution_count": 15,
     "metadata": {},
     "output_type": "execute_result"
    }
   ],
   "source": [
    "search.best_estimator_"
   ]
  },
  {
   "cell_type": "code",
   "execution_count": 16,
   "id": "e359317c",
   "metadata": {},
   "outputs": [
    {
     "data": {
      "text/plain": [
       "0.7063635184224182"
      ]
     },
     "execution_count": 16,
     "metadata": {},
     "output_type": "execute_result"
    }
   ],
   "source": [
    "search.score(X_test, y_test)"
   ]
  },
  {
   "cell_type": "markdown",
   "id": "414b2ecf",
   "metadata": {},
   "source": [
    "### Logistic Regression"
   ]
  },
  {
   "cell_type": "code",
   "execution_count": 17,
   "id": "b260e53f",
   "metadata": {},
   "outputs": [],
   "source": [
    "from sklearn.linear_model import LogisticRegression"
   ]
  },
  {
   "cell_type": "code",
   "execution_count": 18,
   "id": "2bc6223b",
   "metadata": {},
   "outputs": [],
   "source": [
    "from sklearn.preprocessing import StandardScaler\n",
    "stdsc = StandardScaler()\n",
    "X_train_std = stdsc.fit_transform(X_train)\n",
    "X_test_std = stdsc.fit_transform(X_test)"
   ]
  },
  {
   "cell_type": "code",
   "execution_count": 19,
   "id": "8a86c2af",
   "metadata": {},
   "outputs": [],
   "source": [
    "def run_logit(X_train, X_test, y_train, y_test, class_weight):\n",
    "    logit = LogisticRegression(\n",
    "        penalty='l2',\n",
    "        solver='newton-cg',\n",
    "        max_iter=100,\n",
    "        n_jobs = 4,\n",
    "        class_weight = class_weight)\n",
    "    \n",
    "    logit.fit(X_train, y_train)\n",
    "    \n",
    "    print('Train set')\n",
    "    pred = logit.predict_proba(X_train)\n",
    "    \n",
    "    print(\n",
    "        'Logistic Regression roc-auc: {}'.format(roc_auc_score(y_train, pred[:, 1])))\n",
    "\n",
    "    print('Test set')\n",
    "    pred = logit.predict_proba(X_test)\n",
    "    print(\n",
    "        'Logistic Regression roc-auc: {}'.format(roc_auc_score(y_test, pred[:, 1])))"
   ]
  },
  {
   "cell_type": "markdown",
   "id": "6ca44673",
   "metadata": {},
   "source": [
    "#### Evaluate the performance of the algorithm with different costs"
   ]
  },
  {
   "cell_type": "code",
   "execution_count": 20,
   "id": "00534dbd",
   "metadata": {},
   "outputs": [
    {
     "name": "stdout",
     "output_type": "stream",
     "text": [
      "Train set\n",
      "Logistic Regression roc-auc: 0.7341107002608421\n",
      "Test set\n",
      "Logistic Regression roc-auc: 0.7413142189932537\n"
     ]
    }
   ],
   "source": [
    "run_logit(X_train_std,\n",
    "          X_test_std,\n",
    "          y_train,\n",
    "          y_test,\n",
    "          class_weight=None)"
   ]
  },
  {
   "cell_type": "code",
   "execution_count": 21,
   "id": "98ea049d",
   "metadata": {},
   "outputs": [
    {
     "name": "stdout",
     "output_type": "stream",
     "text": [
      "Train set\n",
      "Logistic Regression roc-auc: 0.7346793934703472\n",
      "Test set\n",
      "Logistic Regression roc-auc: 0.7422742605085626\n"
     ]
    }
   ],
   "source": [
    "run_logit(X_train_std,\n",
    "          X_test_std,\n",
    "          y_train,\n",
    "          y_test,\n",
    "          class_weight='balanced')"
   ]
  },
  {
   "cell_type": "code",
   "execution_count": 22,
   "id": "9d0adf16",
   "metadata": {},
   "outputs": [
    {
     "name": "stdout",
     "output_type": "stream",
     "text": [
      "Train set\n",
      "Logistic Regression roc-auc: 0.7344271505145183\n",
      "Test set\n",
      "Logistic Regression roc-auc: 0.742008303061754\n"
     ]
    }
   ],
   "source": [
    "run_logit(X_train_std,\n",
    "          X_test_std,\n",
    "          y_train,\n",
    "          y_test,\n",
    "          class_weight={0:1, 1:10})"
   ]
  },
  {
   "cell_type": "markdown",
   "id": "fbdc71f5",
   "metadata": {},
   "source": [
    "## Smote NC"
   ]
  },
  {
   "cell_type": "code",
   "execution_count": 23,
   "id": "26f0fde0",
   "metadata": {},
   "outputs": [],
   "source": [
    "from imblearn.over_sampling import SMOTENC"
   ]
  },
  {
   "cell_type": "code",
   "execution_count": 24,
   "id": "556ccdc7",
   "metadata": {
    "scrolled": true
   },
   "outputs": [
    {
     "data": {
      "text/html": [
       "<div>\n",
       "<style scoped>\n",
       "    .dataframe tbody tr th:only-of-type {\n",
       "        vertical-align: middle;\n",
       "    }\n",
       "\n",
       "    .dataframe tbody tr th {\n",
       "        vertical-align: top;\n",
       "    }\n",
       "\n",
       "    .dataframe thead th {\n",
       "        text-align: right;\n",
       "    }\n",
       "</style>\n",
       "<table border=\"1\" class=\"dataframe\">\n",
       "  <thead>\n",
       "    <tr style=\"text-align: right;\">\n",
       "      <th></th>\n",
       "      <th>age</th>\n",
       "      <th>education</th>\n",
       "      <th>cigsPerDay</th>\n",
       "      <th>BPMeds</th>\n",
       "      <th>prevalentStroke</th>\n",
       "      <th>prevalentHyp</th>\n",
       "      <th>totChol</th>\n",
       "      <th>sysBP</th>\n",
       "      <th>diaBP</th>\n",
       "      <th>BMI</th>\n",
       "      <th>heartRate</th>\n",
       "      <th>glucose</th>\n",
       "      <th>Sex_male</th>\n",
       "      <th>currentSmoker_Yes</th>\n",
       "      <th>diabetes_Yes</th>\n",
       "    </tr>\n",
       "  </thead>\n",
       "  <tbody>\n",
       "    <tr>\n",
       "      <th>0</th>\n",
       "      <td>39</td>\n",
       "      <td>4.0</td>\n",
       "      <td>0.0</td>\n",
       "      <td>0.0</td>\n",
       "      <td>0</td>\n",
       "      <td>0</td>\n",
       "      <td>195.0</td>\n",
       "      <td>106.0</td>\n",
       "      <td>70.0</td>\n",
       "      <td>26.97</td>\n",
       "      <td>80.0</td>\n",
       "      <td>77.0</td>\n",
       "      <td>1</td>\n",
       "      <td>0</td>\n",
       "      <td>0</td>\n",
       "    </tr>\n",
       "    <tr>\n",
       "      <th>1</th>\n",
       "      <td>46</td>\n",
       "      <td>2.0</td>\n",
       "      <td>0.0</td>\n",
       "      <td>0.0</td>\n",
       "      <td>0</td>\n",
       "      <td>0</td>\n",
       "      <td>250.0</td>\n",
       "      <td>121.0</td>\n",
       "      <td>81.0</td>\n",
       "      <td>28.73</td>\n",
       "      <td>95.0</td>\n",
       "      <td>76.0</td>\n",
       "      <td>0</td>\n",
       "      <td>0</td>\n",
       "      <td>0</td>\n",
       "    </tr>\n",
       "    <tr>\n",
       "      <th>2</th>\n",
       "      <td>48</td>\n",
       "      <td>1.0</td>\n",
       "      <td>20.0</td>\n",
       "      <td>0.0</td>\n",
       "      <td>0</td>\n",
       "      <td>0</td>\n",
       "      <td>245.0</td>\n",
       "      <td>127.5</td>\n",
       "      <td>80.0</td>\n",
       "      <td>25.34</td>\n",
       "      <td>75.0</td>\n",
       "      <td>70.0</td>\n",
       "      <td>1</td>\n",
       "      <td>1</td>\n",
       "      <td>0</td>\n",
       "    </tr>\n",
       "    <tr>\n",
       "      <th>3</th>\n",
       "      <td>61</td>\n",
       "      <td>3.0</td>\n",
       "      <td>30.0</td>\n",
       "      <td>0.0</td>\n",
       "      <td>0</td>\n",
       "      <td>1</td>\n",
       "      <td>225.0</td>\n",
       "      <td>150.0</td>\n",
       "      <td>95.0</td>\n",
       "      <td>28.58</td>\n",
       "      <td>65.0</td>\n",
       "      <td>103.0</td>\n",
       "      <td>0</td>\n",
       "      <td>1</td>\n",
       "      <td>0</td>\n",
       "    </tr>\n",
       "    <tr>\n",
       "      <th>4</th>\n",
       "      <td>46</td>\n",
       "      <td>3.0</td>\n",
       "      <td>23.0</td>\n",
       "      <td>0.0</td>\n",
       "      <td>0</td>\n",
       "      <td>0</td>\n",
       "      <td>285.0</td>\n",
       "      <td>130.0</td>\n",
       "      <td>84.0</td>\n",
       "      <td>23.10</td>\n",
       "      <td>85.0</td>\n",
       "      <td>85.0</td>\n",
       "      <td>0</td>\n",
       "      <td>1</td>\n",
       "      <td>0</td>\n",
       "    </tr>\n",
       "  </tbody>\n",
       "</table>\n",
       "</div>"
      ],
      "text/plain": [
       "   age  education  cigsPerDay  BPMeds  prevalentStroke  prevalentHyp  totChol  \\\n",
       "0   39        4.0         0.0     0.0                0             0    195.0   \n",
       "1   46        2.0         0.0     0.0                0             0    250.0   \n",
       "2   48        1.0        20.0     0.0                0             0    245.0   \n",
       "3   61        3.0        30.0     0.0                0             1    225.0   \n",
       "4   46        3.0        23.0     0.0                0             0    285.0   \n",
       "\n",
       "   sysBP  diaBP    BMI  heartRate  glucose  Sex_male  currentSmoker_Yes  \\\n",
       "0  106.0   70.0  26.97       80.0     77.0         1                  0   \n",
       "1  121.0   81.0  28.73       95.0     76.0         0                  0   \n",
       "2  127.5   80.0  25.34       75.0     70.0         1                  1   \n",
       "3  150.0   95.0  28.58       65.0    103.0         0                  1   \n",
       "4  130.0   84.0  23.10       85.0     85.0         0                  1   \n",
       "\n",
       "   diabetes_Yes  \n",
       "0             0  \n",
       "1             0  \n",
       "2             0  \n",
       "3             0  \n",
       "4             0  "
      ]
     },
     "execution_count": 24,
     "metadata": {},
     "output_type": "execute_result"
    }
   ],
   "source": [
    "X.head()"
   ]
  },
  {
   "cell_type": "markdown",
   "id": "1bb3e182",
   "metadata": {},
   "source": [
    "### Resample X and y"
   ]
  },
  {
   "cell_type": "code",
   "execution_count": 25,
   "id": "1a52d864",
   "metadata": {},
   "outputs": [],
   "source": [
    "smnc = SMOTENC(\n",
    "    sampling_strategy='auto', # samples only the minority class\n",
    "    random_state=0,  # for reproducibility\n",
    "    k_neighbors=5,\n",
    "    n_jobs=4,\n",
    "    categorical_features=[1,3,4,5,12,13,14,] # indeces of the columns of categorical variables\n",
    ")  \n",
    "\n",
    "X_res, y_res = smnc.fit_resample(X, y)"
   ]
  },
  {
   "cell_type": "code",
   "execution_count": 26,
   "id": "40f3ec7c",
   "metadata": {},
   "outputs": [],
   "source": [
    "X_train, X_test, y_train, y_test = train_test_split(\n",
    "X_res, y_res, test_size=0.3, random_state=101)"
   ]
  },
  {
   "cell_type": "code",
   "execution_count": 27,
   "id": "e23e14a7",
   "metadata": {},
   "outputs": [],
   "source": [
    "from sklearn.preprocessing import StandardScaler\n",
    "scaler=StandardScaler()"
   ]
  },
  {
   "cell_type": "markdown",
   "id": "2a9b575b",
   "metadata": {},
   "source": [
    "### Scale numerical feats"
   ]
  },
  {
   "cell_type": "code",
   "execution_count": 28,
   "id": "0205a681",
   "metadata": {},
   "outputs": [],
   "source": [
    "# select numerical features for scaling\n",
    "from sklearn.compose import ColumnTransformer\n",
    "ct = ColumnTransformer([('X_train',scaler,['cigsPerDay','totChol', 'sysBP', 'diaBP', 'BMI', 'heartRate','glucose'])],remainder='passthrough')\n",
    "\n",
    "scaled_X_train = ct.fit_transform(X_train)\n",
    "scaled_X_test = ct.transform(X_test)"
   ]
  },
  {
   "cell_type": "code",
   "execution_count": 29,
   "id": "8c567d48",
   "metadata": {},
   "outputs": [
    {
     "name": "stdout",
     "output_type": "stream",
     "text": [
      "Train set\n",
      "Logistic Regression roc-auc: 0.7556855469735979\n",
      "Test set\n",
      "Logistic Regression roc-auc: 0.7769633507853404\n"
     ]
    }
   ],
   "source": [
    "run_logit(scaled_X_train,\n",
    "          scaled_X_test,\n",
    "          y_train,\n",
    "          y_test,\n",
    "          class_weight=None)"
   ]
  },
  {
   "cell_type": "code",
   "execution_count": 30,
   "id": "94c35b89",
   "metadata": {},
   "outputs": [
    {
     "name": "stdout",
     "output_type": "stream",
     "text": [
      "Train set\n",
      "Logistic Regression roc-auc: 0.7556960640786174\n",
      "Test set\n",
      "Logistic Regression roc-auc: 0.7769633507853404\n"
     ]
    }
   ],
   "source": [
    "run_logit(scaled_X_train,\n",
    "          scaled_X_test,\n",
    "          y_train,\n",
    "          y_test,\n",
    "          class_weight='balanced')"
   ]
  },
  {
   "cell_type": "code",
   "execution_count": 31,
   "id": "51ad70c4",
   "metadata": {},
   "outputs": [
    {
     "name": "stdout",
     "output_type": "stream",
     "text": [
      "Train set\n",
      "Logistic Regression roc-auc: 0.7530615292712066\n",
      "Test set\n",
      "Logistic Regression roc-auc: 0.7751165694776999\n"
     ]
    }
   ],
   "source": [
    "run_logit(scaled_X_train,\n",
    "          scaled_X_test,\n",
    "          y_train,\n",
    "          y_test,\n",
    "          class_weight={0:1, 1:10})"
   ]
  },
  {
   "cell_type": "markdown",
   "id": "21207804",
   "metadata": {},
   "source": [
    "## Calibration"
   ]
  },
  {
   "cell_type": "code",
   "execution_count": 35,
   "id": "08855ed9",
   "metadata": {},
   "outputs": [],
   "source": [
    "from sklearn.calibration import calibration_curve, CalibratedClassifierCV\n",
    "from sklearn.metrics import brier_score_loss"
   ]
  },
  {
   "cell_type": "code",
   "execution_count": 36,
   "id": "b559c71c",
   "metadata": {},
   "outputs": [
    {
     "name": "stdout",
     "output_type": "stream",
     "text": [
      "roc-auc of logit_cs 0.7767410954666789\n",
      "Brier Score of logit_cs 0.1925343536513906\n",
      "\n"
     ]
    }
   ],
   "source": [
    "logit_cs = LogisticRegression(\n",
    "    penalty='l2',\n",
    "    solver='newton-cg',\n",
    "    random_state=0,\n",
    "    max_iter=10,\n",
    "    n_jobs=4,\n",
    "    class_weight='balanced',\n",
    ").fit(scaled_X_train, y_train)\n",
    "\n",
    "probs = logit_cs.predict_proba(scaled_X_test)[:, 1]\n",
    "print('roc-auc of logit_cs', roc_auc_score(y_test, probs))\n",
    "print('Brier Score of logit_cs', brier_score_loss(y_test, probs))\n",
    "print()"
   ]
  },
  {
   "cell_type": "code",
   "execution_count": 37,
   "id": "4a0c98b5",
   "metadata": {},
   "outputs": [],
   "source": [
    "def plot_calibration_curve(y_true, probs, bins, model):\n",
    "\n",
    "    fraction_of_positives, mean_predicted_value = calibration_curve(\n",
    "        y_true, probs, n_bins=bins, strategy='uniform')\n",
    "    \n",
    "    max_val = max(mean_predicted_value)\n",
    "    \n",
    "    plt.figure(figsize=(8,10))\n",
    "    plt.subplot(2, 1, 1)\n",
    "    plt.plot(mean_predicted_value, fraction_of_positives, label=type(model).__name__)\n",
    "    plt.plot(np.linspace(0, max_val, bins), np.linspace(0, max_val, bins),\n",
    "         linestyle='--', color='red', label='Perfect calibration')\n",
    "    \n",
    "    plt.xlabel('Probability Predictions')\n",
    "    plt.ylabel('Fraction of positive examples')\n",
    "    plt.title('Calibration Curve')\n",
    "    plt.legend(loc='upper left')\n",
    "\n",
    "\n",
    "    plt.subplot(2, 1, 2)\n",
    "    plt.hist(probs, range=(0, 1), bins=bins, density=False, stacked=True, alpha=0.3)\n",
    "    plt.xlabel('Probability Predictions')\n",
    "    plt.ylabel('Fraction of examples')\n",
    "    plt.title('Density')\n",
    "    plt.show()"
   ]
  },
  {
   "cell_type": "code",
   "execution_count": 39,
   "id": "a1667b2a",
   "metadata": {},
   "outputs": [],
   "source": [
    "import matplotlib.pyplot as plt"
   ]
  },
  {
   "cell_type": "code",
   "execution_count": 40,
   "id": "65d403d5",
   "metadata": {},
   "outputs": [
    {
     "data": {
      "image/png": "[encoded data removed]",
      "text/plain": [
       "<Figure size 576x720 with 2 Axes>"
      ]
     },
     "metadata": {
      "needs_background": "light"
     },
     "output_type": "display_data"
    }
   ],
   "source": [
    "# Logistic Regression\n",
    "\n",
    "model = logit_cs\n",
    "probs = logit_cs.predict_proba(scaled_X_test)[:, 1]\n",
    "\n",
    "plot_calibration_curve(y_test, probs, bins=8, model=model)"
   ]
  },
  {
   "cell_type": "markdown",
   "id": "4c46e509",
   "metadata": {},
   "source": [
    "## Isotonic Recalibration"
   ]
  },
  {
   "cell_type": "code",
   "execution_count": 42,
   "id": "d571c00b",
   "metadata": {},
   "outputs": [
    {
     "data": {
      "image/png": "[encoded data removed]",
      "text/plain": [
       "<Figure size 576x720 with 2 Axes>"
      ]
     },
     "metadata": {
      "needs_background": "light"
     },
     "output_type": "display_data"
    }
   ],
   "source": [
    "# Logistic Regression with cost sensitive learning\n",
    "clf_isotonic = CalibratedClassifierCV(logit_cs, cv=5, method='isotonic')\n",
    "clf_isotonic.fit(scaled_X_test, y_test)\n",
    "prob_isotonic = clf_isotonic.predict_proba(scaled_X_test)[:, 1]\n",
    "\n",
    "plot_calibration_curve(y_test, prob_isotonic, bins=8, model=model)"
   ]
  },
  {
   "cell_type": "code",
   "execution_count": null,
   "id": "58c4ca95",
   "metadata": {},
   "outputs": [],
   "source": []
  },
  {
   "cell_type": "code",
   "execution_count": null,
   "id": "956112f4",
   "metadata": {},
   "outputs": [],
   "source": []
  },
  {
   "cell_type": "code",
   "execution_count": null,
   "id": "6d798e59",
   "metadata": {},
   "outputs": [],
   "source": []
  },
  {
   "cell_type": "code",
   "execution_count": null,
   "id": "abd6c9fc",
   "metadata": {},
   "outputs": [],
   "source": []
  },
  {
   "cell_type": "code",
   "execution_count": null,
   "id": "12afa3b2",
   "metadata": {},
   "outputs": [],
   "source": []
  },
  {
   "cell_type": "code",
   "execution_count": null,
   "id": "5e59c240",
   "metadata": {},
   "outputs": [],
   "source": []
  }
 ],
 "metadata": {
  "kernelspec": {
   "display_name": "Python 3",
   "language": "python",
   "name": "python3"
  },
  "language_info": {
   "codemirror_mode": {
    "name": "ipython",
    "version": 3
   },
   "file_extension": ".py",
   "mimetype": "text/x-python",
   "name": "python",
   "nbconvert_exporter": "python",
   "pygments_lexer": "ipython3",
   "version": "3.8.8"
  }
 },
 "nbformat": 4,
 "nbformat_minor": 5
}
