{
 "cells": [
  {
   "cell_type": "code",
   "execution_count": 1,
   "id": "0df2a071",
   "metadata": {},
   "outputs": [],
   "source": [
    "import numpy as np\n",
    "import pandas as pd\n",
    "import matplotlib.pyplot as plt\n",
    "from scipy import stats\n",
    "\n",
    "from sklearn.ensemble import GradientBoostingClassifier\n",
    "from sklearn.metrics import roc_auc_score\n",
    "\n",
    "from sklearn.model_selection import  (RandomizedSearchCV,\n",
    "                                     train_test_split)"
   ]
  },
  {
   "cell_type": "code",
   "execution_count": 2,
   "id": "ac9903dc",
   "metadata": {},
   "outputs": [],
   "source": [
    "df = pd.read_csv('framingham_clean1.csv')"
   ]
  },
  {
   "cell_type": "code",
   "execution_count": 3,
   "id": "cb7d467f",
   "metadata": {},
   "outputs": [],
   "source": [
    "from sklearn.model_selection import train_test_split\n",
    "X = df.drop(['TenYearCHD', 'diabetes','prevalentStroke','BPMeds'], axis=1).values\n",
    "y = df.TenYearCHD"
   ]
  },
  {
   "cell_type": "code",
   "execution_count": 4,
   "id": "ab6a278f",
   "metadata": {},
   "outputs": [],
   "source": [
    "X_train, X_test, y_train, y_test = train_test_split(X, y, test_size=0.30,)"
   ]
  },
  {
   "cell_type": "code",
   "execution_count": 5,
   "id": "1e275da9",
   "metadata": {},
   "outputs": [],
   "source": [
    "# setup the model\n",
    "gbm = GradientBoostingClassifier()\n",
    "\n",
    "# determine the hyperparameter space\n",
    "param_grid = dict(n_estimators = stats.randint(10,120),\n",
    "                 min_samples_split=stats.uniform(0,1),\n",
    "                 max_depth=stats.randint(1,5), \n",
    "                 loss=('deviance', 'exponential'))"
   ]
  },
  {
   "cell_type": "code",
   "execution_count": 7,
   "id": "2340fe8d",
   "metadata": {},
   "outputs": [
    {
     "data": {
      "text/plain": [
       "RandomizedSearchCV(cv=5, estimator=GradientBoostingClassifier(), n_iter=60,\n",
       "                   n_jobs=4,\n",
       "                   param_distributions={'loss': ('deviance', 'exponential'),\n",
       "                                        'max_depth': <scipy.stats._distn_infrastructure.rv_frozen object at 0x000001CDD33FB280>,\n",
       "                                        'min_samples_split': <scipy.stats._distn_infrastructure.rv_frozen object at 0x000001CDD3405700>,\n",
       "                                        'n_estimators': <scipy.stats._distn_infrastructure.rv_frozen object at 0x000001CDD3405760>},\n",
       "                   scoring='roc_auc')"
      ]
     },
     "execution_count": 7,
     "metadata": {},
     "output_type": "execute_result"
    }
   ],
   "source": [
    "# setup the search\n",
    "\n",
    "search = RandomizedSearchCV(gbm,\n",
    "                           param_grid,\n",
    "                           scoring='roc_auc',\n",
    "                           cv=5,\n",
    "                           n_iter=60,\n",
    "                           n_jobs=4,\n",
    "                           refit=True)\n",
    "\n",
    "# find the best hyperparameters\n",
    "search.fit(X_train,y_train)"
   ]
  },
  {
   "cell_type": "code",
   "execution_count": 8,
   "id": "ad3f3ac6",
   "metadata": {},
   "outputs": [
    {
     "data": {
      "text/plain": [
       "{'loss': 'deviance',\n",
       " 'max_depth': 1,\n",
       " 'min_samples_split': 0.7492343112736621,\n",
       " 'n_estimators': 119}"
      ]
     },
     "execution_count": 8,
     "metadata": {},
     "output_type": "execute_result"
    }
   ],
   "source": [
    "search.best_params_"
   ]
  },
  {
   "cell_type": "code",
   "execution_count": 9,
   "id": "5334ae13",
   "metadata": {},
   "outputs": [
    {
     "name": "stdout",
     "output_type": "stream",
     "text": [
      "(60, 17)\n"
     ]
    },
    {
     "data": {
      "text/html": [
       "<div>\n",
       "<style scoped>\n",
       "    .dataframe tbody tr th:only-of-type {\n",
       "        vertical-align: middle;\n",
       "    }\n",
       "\n",
       "    .dataframe tbody tr th {\n",
       "        vertical-align: top;\n",
       "    }\n",
       "\n",
       "    .dataframe thead th {\n",
       "        text-align: right;\n",
       "    }\n",
       "</style>\n",
       "<table border=\"1\" class=\"dataframe\">\n",
       "  <thead>\n",
       "    <tr style=\"text-align: right;\">\n",
       "      <th></th>\n",
       "      <th>mean_fit_time</th>\n",
       "      <th>std_fit_time</th>\n",
       "      <th>mean_score_time</th>\n",
       "      <th>std_score_time</th>\n",
       "      <th>param_loss</th>\n",
       "      <th>param_max_depth</th>\n",
       "      <th>param_min_samples_split</th>\n",
       "      <th>param_n_estimators</th>\n",
       "      <th>params</th>\n",
       "      <th>split0_test_score</th>\n",
       "      <th>split1_test_score</th>\n",
       "      <th>split2_test_score</th>\n",
       "      <th>split3_test_score</th>\n",
       "      <th>split4_test_score</th>\n",
       "      <th>mean_test_score</th>\n",
       "      <th>std_test_score</th>\n",
       "      <th>rank_test_score</th>\n",
       "    </tr>\n",
       "  </thead>\n",
       "  <tbody>\n",
       "    <tr>\n",
       "      <th>0</th>\n",
       "      <td>0.031116</td>\n",
       "      <td>0.002919</td>\n",
       "      <td>0.002791</td>\n",
       "      <td>0.000745</td>\n",
       "      <td>deviance</td>\n",
       "      <td>4</td>\n",
       "      <td>0.94612</td>\n",
       "      <td>10</td>\n",
       "      <td>{'loss': 'deviance', 'max_depth': 4, 'min_samp...</td>\n",
       "      <td>0.677414</td>\n",
       "      <td>0.727188</td>\n",
       "      <td>0.651570</td>\n",
       "      <td>0.687268</td>\n",
       "      <td>0.707217</td>\n",
       "      <td>0.690132</td>\n",
       "      <td>0.025776</td>\n",
       "      <td>59</td>\n",
       "    </tr>\n",
       "    <tr>\n",
       "      <th>1</th>\n",
       "      <td>0.082579</td>\n",
       "      <td>0.008704</td>\n",
       "      <td>0.001595</td>\n",
       "      <td>0.000488</td>\n",
       "      <td>exponential</td>\n",
       "      <td>4</td>\n",
       "      <td>0.877253</td>\n",
       "      <td>29</td>\n",
       "      <td>{'loss': 'exponential', 'max_depth': 4, 'min_s...</td>\n",
       "      <td>0.698649</td>\n",
       "      <td>0.723124</td>\n",
       "      <td>0.682474</td>\n",
       "      <td>0.719400</td>\n",
       "      <td>0.736606</td>\n",
       "      <td>0.712051</td>\n",
       "      <td>0.019152</td>\n",
       "      <td>41</td>\n",
       "    </tr>\n",
       "    <tr>\n",
       "      <th>2</th>\n",
       "      <td>0.221207</td>\n",
       "      <td>0.014319</td>\n",
       "      <td>0.002394</td>\n",
       "      <td>0.000489</td>\n",
       "      <td>exponential</td>\n",
       "      <td>4</td>\n",
       "      <td>0.887507</td>\n",
       "      <td>82</td>\n",
       "      <td>{'loss': 'exponential', 'max_depth': 4, 'min_s...</td>\n",
       "      <td>0.725797</td>\n",
       "      <td>0.718916</td>\n",
       "      <td>0.674275</td>\n",
       "      <td>0.734825</td>\n",
       "      <td>0.749335</td>\n",
       "      <td>0.720630</td>\n",
       "      <td>0.025314</td>\n",
       "      <td>3</td>\n",
       "    </tr>\n",
       "    <tr>\n",
       "      <th>3</th>\n",
       "      <td>0.066024</td>\n",
       "      <td>0.002309</td>\n",
       "      <td>0.001795</td>\n",
       "      <td>0.000399</td>\n",
       "      <td>exponential</td>\n",
       "      <td>1</td>\n",
       "      <td>0.236408</td>\n",
       "      <td>41</td>\n",
       "      <td>{'loss': 'exponential', 'max_depth': 1, 'min_s...</td>\n",
       "      <td>0.694466</td>\n",
       "      <td>0.726912</td>\n",
       "      <td>0.681587</td>\n",
       "      <td>0.710447</td>\n",
       "      <td>0.731595</td>\n",
       "      <td>0.709001</td>\n",
       "      <td>0.018953</td>\n",
       "      <td>46</td>\n",
       "    </tr>\n",
       "    <tr>\n",
       "      <th>4</th>\n",
       "      <td>0.037899</td>\n",
       "      <td>0.002821</td>\n",
       "      <td>0.001995</td>\n",
       "      <td>0.000631</td>\n",
       "      <td>deviance</td>\n",
       "      <td>2</td>\n",
       "      <td>0.305617</td>\n",
       "      <td>13</td>\n",
       "      <td>{'loss': 'deviance', 'max_depth': 2, 'min_samp...</td>\n",
       "      <td>0.688932</td>\n",
       "      <td>0.726480</td>\n",
       "      <td>0.658235</td>\n",
       "      <td>0.705935</td>\n",
       "      <td>0.717607</td>\n",
       "      <td>0.699438</td>\n",
       "      <td>0.024131</td>\n",
       "      <td>55</td>\n",
       "    </tr>\n",
       "  </tbody>\n",
       "</table>\n",
       "</div>"
      ],
      "text/plain": [
       "   mean_fit_time  std_fit_time  mean_score_time  std_score_time   param_loss  \\\n",
       "0       0.031116      0.002919         0.002791        0.000745     deviance   \n",
       "1       0.082579      0.008704         0.001595        0.000488  exponential   \n",
       "2       0.221207      0.014319         0.002394        0.000489  exponential   \n",
       "3       0.066024      0.002309         0.001795        0.000399  exponential   \n",
       "4       0.037899      0.002821         0.001995        0.000631     deviance   \n",
       "\n",
       "  param_max_depth param_min_samples_split param_n_estimators  \\\n",
       "0               4                 0.94612                 10   \n",
       "1               4                0.877253                 29   \n",
       "2               4                0.887507                 82   \n",
       "3               1                0.236408                 41   \n",
       "4               2                0.305617                 13   \n",
       "\n",
       "                                              params  split0_test_score  \\\n",
       "0  {'loss': 'deviance', 'max_depth': 4, 'min_samp...           0.677414   \n",
       "1  {'loss': 'exponential', 'max_depth': 4, 'min_s...           0.698649   \n",
       "2  {'loss': 'exponential', 'max_depth': 4, 'min_s...           0.725797   \n",
       "3  {'loss': 'exponential', 'max_depth': 1, 'min_s...           0.694466   \n",
       "4  {'loss': 'deviance', 'max_depth': 2, 'min_samp...           0.688932   \n",
       "\n",
       "   split1_test_score  split2_test_score  split3_test_score  split4_test_score  \\\n",
       "0           0.727188           0.651570           0.687268           0.707217   \n",
       "1           0.723124           0.682474           0.719400           0.736606   \n",
       "2           0.718916           0.674275           0.734825           0.749335   \n",
       "3           0.726912           0.681587           0.710447           0.731595   \n",
       "4           0.726480           0.658235           0.705935           0.717607   \n",
       "\n",
       "   mean_test_score  std_test_score  rank_test_score  \n",
       "0         0.690132        0.025776               59  \n",
       "1         0.712051        0.019152               41  \n",
       "2         0.720630        0.025314                3  \n",
       "3         0.709001        0.018953               46  \n",
       "4         0.699438        0.024131               55  "
      ]
     },
     "execution_count": 9,
     "metadata": {},
     "output_type": "execute_result"
    }
   ],
   "source": [
    "results = pd.DataFrame(search.cv_results_)\n",
    "print(results.shape)\n",
    "results.head()"
   ]
  },
  {
   "cell_type": "code",
   "execution_count": 10,
   "id": "4a19f997",
   "metadata": {},
   "outputs": [],
   "source": [
    "results.sort_values(by='mean_test_score', ascending=False, inplace=True)\n",
    "results.reset_index(drop=True, inplace=True)"
   ]
  },
  {
   "cell_type": "code",
   "execution_count": 11,
   "id": "3ad2c392",
   "metadata": {},
   "outputs": [
    {
     "data": {
      "text/html": [
       "<div>\n",
       "<style scoped>\n",
       "    .dataframe tbody tr th:only-of-type {\n",
       "        vertical-align: middle;\n",
       "    }\n",
       "\n",
       "    .dataframe tbody tr th {\n",
       "        vertical-align: top;\n",
       "    }\n",
       "\n",
       "    .dataframe thead th {\n",
       "        text-align: right;\n",
       "    }\n",
       "</style>\n",
       "<table border=\"1\" class=\"dataframe\">\n",
       "  <thead>\n",
       "    <tr style=\"text-align: right;\">\n",
       "      <th></th>\n",
       "      <th>mean_fit_time</th>\n",
       "      <th>std_fit_time</th>\n",
       "      <th>mean_score_time</th>\n",
       "      <th>std_score_time</th>\n",
       "      <th>param_loss</th>\n",
       "      <th>param_max_depth</th>\n",
       "      <th>param_min_samples_split</th>\n",
       "      <th>param_n_estimators</th>\n",
       "      <th>params</th>\n",
       "      <th>split0_test_score</th>\n",
       "      <th>split1_test_score</th>\n",
       "      <th>split2_test_score</th>\n",
       "      <th>split3_test_score</th>\n",
       "      <th>split4_test_score</th>\n",
       "      <th>mean_test_score</th>\n",
       "      <th>std_test_score</th>\n",
       "      <th>rank_test_score</th>\n",
       "    </tr>\n",
       "  </thead>\n",
       "  <tbody>\n",
       "    <tr>\n",
       "      <th>0</th>\n",
       "      <td>0.184906</td>\n",
       "      <td>0.007532</td>\n",
       "      <td>0.001795</td>\n",
       "      <td>3.988028e-04</td>\n",
       "      <td>deviance</td>\n",
       "      <td>1</td>\n",
       "      <td>0.749234</td>\n",
       "      <td>119</td>\n",
       "      <td>{'loss': 'deviance', 'max_depth': 1, 'min_samp...</td>\n",
       "      <td>0.719588</td>\n",
       "      <td>0.728219</td>\n",
       "      <td>0.681120</td>\n",
       "      <td>0.729184</td>\n",
       "      <td>0.749858</td>\n",
       "      <td>0.721594</td>\n",
       "      <td>0.022550</td>\n",
       "      <td>1</td>\n",
       "    </tr>\n",
       "    <tr>\n",
       "      <th>1</th>\n",
       "      <td>0.143018</td>\n",
       "      <td>0.008844</td>\n",
       "      <td>0.001995</td>\n",
       "      <td>6.306004e-04</td>\n",
       "      <td>deviance</td>\n",
       "      <td>3</td>\n",
       "      <td>0.862502</td>\n",
       "      <td>57</td>\n",
       "      <td>{'loss': 'deviance', 'max_depth': 3, 'min_samp...</td>\n",
       "      <td>0.719054</td>\n",
       "      <td>0.729417</td>\n",
       "      <td>0.673544</td>\n",
       "      <td>0.731144</td>\n",
       "      <td>0.752838</td>\n",
       "      <td>0.721199</td>\n",
       "      <td>0.026242</td>\n",
       "      <td>2</td>\n",
       "    </tr>\n",
       "    <tr>\n",
       "      <th>2</th>\n",
       "      <td>0.221207</td>\n",
       "      <td>0.014319</td>\n",
       "      <td>0.002394</td>\n",
       "      <td>4.886166e-04</td>\n",
       "      <td>exponential</td>\n",
       "      <td>4</td>\n",
       "      <td>0.887507</td>\n",
       "      <td>82</td>\n",
       "      <td>{'loss': 'exponential', 'max_depth': 4, 'min_s...</td>\n",
       "      <td>0.725797</td>\n",
       "      <td>0.718916</td>\n",
       "      <td>0.674275</td>\n",
       "      <td>0.734825</td>\n",
       "      <td>0.749335</td>\n",
       "      <td>0.720630</td>\n",
       "      <td>0.025314</td>\n",
       "      <td>3</td>\n",
       "    </tr>\n",
       "    <tr>\n",
       "      <th>3</th>\n",
       "      <td>0.156184</td>\n",
       "      <td>0.004991</td>\n",
       "      <td>0.001995</td>\n",
       "      <td>5.519789e-07</td>\n",
       "      <td>exponential</td>\n",
       "      <td>2</td>\n",
       "      <td>0.814031</td>\n",
       "      <td>70</td>\n",
       "      <td>{'loss': 'exponential', 'max_depth': 2, 'min_s...</td>\n",
       "      <td>0.722254</td>\n",
       "      <td>0.720942</td>\n",
       "      <td>0.679861</td>\n",
       "      <td>0.730669</td>\n",
       "      <td>0.749181</td>\n",
       "      <td>0.720581</td>\n",
       "      <td>0.022719</td>\n",
       "      <td>4</td>\n",
       "    </tr>\n",
       "    <tr>\n",
       "      <th>4</th>\n",
       "      <td>0.156383</td>\n",
       "      <td>0.009634</td>\n",
       "      <td>0.001795</td>\n",
       "      <td>3.991605e-04</td>\n",
       "      <td>deviance</td>\n",
       "      <td>1</td>\n",
       "      <td>0.32878</td>\n",
       "      <td>96</td>\n",
       "      <td>{'loss': 'deviance', 'max_depth': 1, 'min_samp...</td>\n",
       "      <td>0.717893</td>\n",
       "      <td>0.727979</td>\n",
       "      <td>0.677356</td>\n",
       "      <td>0.730336</td>\n",
       "      <td>0.747910</td>\n",
       "      <td>0.720295</td>\n",
       "      <td>0.023546</td>\n",
       "      <td>5</td>\n",
       "    </tr>\n",
       "  </tbody>\n",
       "</table>\n",
       "</div>"
      ],
      "text/plain": [
       "   mean_fit_time  std_fit_time  mean_score_time  std_score_time   param_loss  \\\n",
       "0       0.184906      0.007532         0.001795    3.988028e-04     deviance   \n",
       "1       0.143018      0.008844         0.001995    6.306004e-04     deviance   \n",
       "2       0.221207      0.014319         0.002394    4.886166e-04  exponential   \n",
       "3       0.156184      0.004991         0.001995    5.519789e-07  exponential   \n",
       "4       0.156383      0.009634         0.001795    3.991605e-04     deviance   \n",
       "\n",
       "  param_max_depth param_min_samples_split param_n_estimators  \\\n",
       "0               1                0.749234                119   \n",
       "1               3                0.862502                 57   \n",
       "2               4                0.887507                 82   \n",
       "3               2                0.814031                 70   \n",
       "4               1                 0.32878                 96   \n",
       "\n",
       "                                              params  split0_test_score  \\\n",
       "0  {'loss': 'deviance', 'max_depth': 1, 'min_samp...           0.719588   \n",
       "1  {'loss': 'deviance', 'max_depth': 3, 'min_samp...           0.719054   \n",
       "2  {'loss': 'exponential', 'max_depth': 4, 'min_s...           0.725797   \n",
       "3  {'loss': 'exponential', 'max_depth': 2, 'min_s...           0.722254   \n",
       "4  {'loss': 'deviance', 'max_depth': 1, 'min_samp...           0.717893   \n",
       "\n",
       "   split1_test_score  split2_test_score  split3_test_score  split4_test_score  \\\n",
       "0           0.728219           0.681120           0.729184           0.749858   \n",
       "1           0.729417           0.673544           0.731144           0.752838   \n",
       "2           0.718916           0.674275           0.734825           0.749335   \n",
       "3           0.720942           0.679861           0.730669           0.749181   \n",
       "4           0.727979           0.677356           0.730336           0.747910   \n",
       "\n",
       "   mean_test_score  std_test_score  rank_test_score  \n",
       "0         0.721594        0.022550                1  \n",
       "1         0.721199        0.026242                2  \n",
       "2         0.720630        0.025314                3  \n",
       "3         0.720581        0.022719                4  \n",
       "4         0.720295        0.023546                5  "
      ]
     },
     "execution_count": 11,
     "metadata": {},
     "output_type": "execute_result"
    }
   ],
   "source": [
    "results.head()"
   ]
  },
  {
   "cell_type": "code",
   "execution_count": 12,
   "id": "f2d15580",
   "metadata": {},
   "outputs": [
    {
     "data": {
      "text/html": [
       "<div>\n",
       "<style scoped>\n",
       "    .dataframe tbody tr th:only-of-type {\n",
       "        vertical-align: middle;\n",
       "    }\n",
       "\n",
       "    .dataframe tbody tr th {\n",
       "        vertical-align: top;\n",
       "    }\n",
       "\n",
       "    .dataframe thead th {\n",
       "        text-align: right;\n",
       "    }\n",
       "</style>\n",
       "<table border=\"1\" class=\"dataframe\">\n",
       "  <thead>\n",
       "    <tr style=\"text-align: right;\">\n",
       "      <th></th>\n",
       "      <th>param_max_depth</th>\n",
       "      <th>param_min_samples_split</th>\n",
       "      <th>param_n_estimators</th>\n",
       "      <th>mean_test_score</th>\n",
       "      <th>std_test_score</th>\n",
       "    </tr>\n",
       "  </thead>\n",
       "  <tbody>\n",
       "    <tr>\n",
       "      <th>0</th>\n",
       "      <td>1</td>\n",
       "      <td>0.749234</td>\n",
       "      <td>119</td>\n",
       "      <td>0.721594</td>\n",
       "      <td>0.022550</td>\n",
       "    </tr>\n",
       "    <tr>\n",
       "      <th>1</th>\n",
       "      <td>3</td>\n",
       "      <td>0.862502</td>\n",
       "      <td>57</td>\n",
       "      <td>0.721199</td>\n",
       "      <td>0.026242</td>\n",
       "    </tr>\n",
       "    <tr>\n",
       "      <th>2</th>\n",
       "      <td>4</td>\n",
       "      <td>0.887507</td>\n",
       "      <td>82</td>\n",
       "      <td>0.720630</td>\n",
       "      <td>0.025314</td>\n",
       "    </tr>\n",
       "    <tr>\n",
       "      <th>3</th>\n",
       "      <td>2</td>\n",
       "      <td>0.814031</td>\n",
       "      <td>70</td>\n",
       "      <td>0.720581</td>\n",
       "      <td>0.022719</td>\n",
       "    </tr>\n",
       "    <tr>\n",
       "      <th>4</th>\n",
       "      <td>1</td>\n",
       "      <td>0.32878</td>\n",
       "      <td>96</td>\n",
       "      <td>0.720295</td>\n",
       "      <td>0.023546</td>\n",
       "    </tr>\n",
       "  </tbody>\n",
       "</table>\n",
       "</div>"
      ],
      "text/plain": [
       "  param_max_depth param_min_samples_split param_n_estimators  mean_test_score  \\\n",
       "0               1                0.749234                119         0.721594   \n",
       "1               3                0.862502                 57         0.721199   \n",
       "2               4                0.887507                 82         0.720630   \n",
       "3               2                0.814031                 70         0.720581   \n",
       "4               1                 0.32878                 96         0.720295   \n",
       "\n",
       "   std_test_score  \n",
       "0        0.022550  \n",
       "1        0.026242  \n",
       "2        0.025314  \n",
       "3        0.022719  \n",
       "4        0.023546  "
      ]
     },
     "execution_count": 12,
     "metadata": {},
     "output_type": "execute_result"
    }
   ],
   "source": [
    "results[['param_max_depth','param_min_samples_split','param_n_estimators','mean_test_score',\n",
    "         'std_test_score']].head()"
   ]
  },
  {
   "cell_type": "code",
   "execution_count": 13,
   "id": "c1d15d41",
   "metadata": {},
   "outputs": [
    {
     "data": {
      "text/plain": [
       "Text(0.5, 0, 'Hyperparameter Combinations')"
      ]
     },
     "execution_count": 13,
     "metadata": {},
     "output_type": "execute_result"
    },
    {
     "data": {
      "image/png": "[encoded data removed]",
      "text/plain": [
       "<Figure size 432x288 with 1 Axes>"
      ]
     },
     "metadata": {
      "needs_background": "light"
     },
     "output_type": "display_data"
    }
   ],
   "source": [
    "results['mean_test_score'].plot(yerr=[results['std_test_score'],results[\n",
    "    'std_test_score']], subplots=True)\n",
    "\n",
    "plt.ylabel('Mean test score')\n",
    "plt.xlabel('Hyperparameter Combinations')"
   ]
  },
  {
   "cell_type": "code",
   "execution_count": 14,
   "id": "06fc72b3",
   "metadata": {},
   "outputs": [
    {
     "name": "stdout",
     "output_type": "stream",
     "text": [
      "Train roc_auc 0.7573151447969279\n",
      "Train roc_auc 0.7000461491666928\n"
     ]
    }
   ],
   "source": [
    "X_train_preds = search.predict_proba(X_train)[:,1]\n",
    "X_test_preds = search.predict_proba(X_test)[:,1]\n",
    "\n",
    "print('Train roc_auc', roc_auc_score(y_train,X_train_preds))\n",
    "print('Train roc_auc', roc_auc_score(y_test, X_test_preds))"
   ]
  },
  {
   "cell_type": "code",
   "execution_count": 20,
   "id": "64cc5856",
   "metadata": {},
   "outputs": [],
   "source": [
    "def summ_by_para(hpara):\n",
    "    tmp = pd.concat([\n",
    "        results.groupby(hpara)['mean_test_score'].mean(),\n",
    "        results.groupby(hpara)['mean_test_score'].std()\n",
    "    ],axis=1)\n",
    "    tmp.columns = ['mean_test_score', 'std_test_score']\n",
    "    return tmp"
   ]
  },
  {
   "cell_type": "code",
   "execution_count": 21,
   "id": "14090355",
   "metadata": {},
   "outputs": [
    {
     "data": {
      "text/html": [
       "<div>\n",
       "<style scoped>\n",
       "    .dataframe tbody tr th:only-of-type {\n",
       "        vertical-align: middle;\n",
       "    }\n",
       "\n",
       "    .dataframe tbody tr th {\n",
       "        vertical-align: top;\n",
       "    }\n",
       "\n",
       "    .dataframe thead th {\n",
       "        text-align: right;\n",
       "    }\n",
       "</style>\n",
       "<table border=\"1\" class=\"dataframe\">\n",
       "  <thead>\n",
       "    <tr style=\"text-align: right;\">\n",
       "      <th></th>\n",
       "      <th>mean_test_score</th>\n",
       "      <th>std_test_score</th>\n",
       "    </tr>\n",
       "    <tr>\n",
       "      <th>param_n_estimators</th>\n",
       "      <th></th>\n",
       "      <th></th>\n",
       "    </tr>\n",
       "  </thead>\n",
       "  <tbody>\n",
       "    <tr>\n",
       "      <th>10</th>\n",
       "      <td>0.688966</td>\n",
       "      <td>0.001649</td>\n",
       "    </tr>\n",
       "    <tr>\n",
       "      <th>11</th>\n",
       "      <td>0.701424</td>\n",
       "      <td>0.005004</td>\n",
       "    </tr>\n",
       "    <tr>\n",
       "      <th>12</th>\n",
       "      <td>0.692019</td>\n",
       "      <td>NaN</td>\n",
       "    </tr>\n",
       "    <tr>\n",
       "      <th>13</th>\n",
       "      <td>0.699438</td>\n",
       "      <td>NaN</td>\n",
       "    </tr>\n",
       "    <tr>\n",
       "      <th>19</th>\n",
       "      <td>0.704820</td>\n",
       "      <td>0.006534</td>\n",
       "    </tr>\n",
       "  </tbody>\n",
       "</table>\n",
       "</div>"
      ],
      "text/plain": [
       "                    mean_test_score  std_test_score\n",
       "param_n_estimators                                 \n",
       "10                         0.688966        0.001649\n",
       "11                         0.701424        0.005004\n",
       "12                         0.692019             NaN\n",
       "13                         0.699438             NaN\n",
       "19                         0.704820        0.006534"
      ]
     },
     "execution_count": 21,
     "metadata": {},
     "output_type": "execute_result"
    }
   ],
   "source": [
    "tmp = summ_by_para('param_n_estimators')\n",
    "tmp.head()"
   ]
  },
  {
   "cell_type": "code",
   "execution_count": 22,
   "id": "6363930c",
   "metadata": {},
   "outputs": [
    {
     "data": {
      "text/plain": [
       "Text(0, 0.5, 'roc_auc')"
      ]
     },
     "execution_count": 22,
     "metadata": {},
     "output_type": "execute_result"
    },
    {
     "data": {
      "image/png": "[encoded data removed]",
      "text/plain": [
       "<Figure size 432x288 with 1 Axes>"
      ]
     },
     "metadata": {
      "needs_background": "light"
     },
     "output_type": "display_data"
    }
   ],
   "source": [
    "tmp['mean_test_score'].plot(yerr=[tmp['std_test_score'],\n",
    "                                  tmp['std_test_score']], subplots=True)\n",
    "\n",
    "plt.ylabel('roc_auc')"
   ]
  },
  {
   "cell_type": "code",
   "execution_count": 23,
   "id": "f2efa600",
   "metadata": {},
   "outputs": [
    {
     "data": {
      "text/plain": [
       "Text(0, 0.5, 'roc_auc')"
      ]
     },
     "execution_count": 23,
     "metadata": {},
     "output_type": "execute_result"
    },
    {
     "data": {
      "image/png": "[encoded data removed]",
      "text/plain": [
       "<Figure size 432x288 with 1 Axes>"
      ]
     },
     "metadata": {
      "needs_background": "light"
     },
     "output_type": "display_data"
    }
   ],
   "source": [
    "tmp = summ_by_para('param_max_depth')\n",
    "tmp['mean_test_score'].plot(yerr=[tmp['std_test_score'],\n",
    "                                  tmp['std_test_score']], subplots=True)\n",
    "\n",
    "plt.ylabel('roc_auc')"
   ]
  },
  {
   "cell_type": "code",
   "execution_count": 24,
   "id": "d9796b9f",
   "metadata": {},
   "outputs": [
    {
     "name": "stderr",
     "output_type": "stream",
     "text": [
      "C:\\Users\\james\\anaconda3\\lib\\site-packages\\numpy\\core\\_asarray.py:83: UserWarning: Warning: converting a masked element to nan.\n",
      "  return array(a, dtype, copy=False, order=order)\n"
     ]
    },
    {
     "data": {
      "text/plain": [
       "Text(0, 0.5, 'roc_auc')"
      ]
     },
     "execution_count": 24,
     "metadata": {},
     "output_type": "execute_result"
    },
    {
     "data": {
      "image/png": "[encoded data removed]",
      "text/plain": [
       "<Figure size 432x288 with 1 Axes>"
      ]
     },
     "metadata": {
      "needs_background": "light"
     },
     "output_type": "display_data"
    }
   ],
   "source": [
    "tmp = summ_by_para('param_min_samples_split')\n",
    "tmp['mean_test_score'].plot(yerr=[tmp['std_test_score'],\n",
    "                                  tmp['std_test_score']], subplots=True)\n",
    "\n",
    "plt.ylabel('roc_auc')"
   ]
  },
  {
   "cell_type": "code",
   "execution_count": 28,
   "id": "d4675b5f",
   "metadata": {},
   "outputs": [
    {
     "data": {
      "text/plain": [
       "(0.1, 1.0)"
      ]
     },
     "execution_count": 28,
     "metadata": {},
     "output_type": "execute_result"
    },
    {
     "data": {
      "image/png": "[encoded data removed]",
      "text/plain": [
       "<Figure size 432x288 with 1 Axes>"
      ]
     },
     "metadata": {
      "needs_background": "light"
     },
     "output_type": "display_data"
    }
   ],
   "source": [
    "tmp = summ_by_para('param_loss')\n",
    "tmp['mean_test_score'].plot.bar(yerr=[tmp['std_test_score'],\n",
    "                                  tmp['std_test_score']], subplots=True)\n",
    "plt.ylim(0.1,1)\n"
   ]
  },
  {
   "cell_type": "code",
   "execution_count": null,
   "id": "7bfcf7a9",
   "metadata": {},
   "outputs": [],
   "source": []
  }
 ],
 "metadata": {
  "kernelspec": {
   "display_name": "Python 3",
   "language": "python",
   "name": "python3"
  },
  "language_info": {
   "codemirror_mode": {
    "name": "ipython",
    "version": 3
   },
   "file_extension": ".py",
   "mimetype": "text/x-python",
   "name": "python",
   "nbconvert_exporter": "python",
   "pygments_lexer": "ipython3",
   "version": "3.8.8"
  }
 },
 "nbformat": 4,
 "nbformat_minor": 5
}
