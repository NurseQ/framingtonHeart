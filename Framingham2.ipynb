{
 "cells": [
  {
   "cell_type": "code",
   "execution_count": 1,
   "id": "8fdc2dcb",
   "metadata": {
    "scrolled": false
   },
   "outputs": [],
   "source": [
    "import numpy as np\n",
    "import pandas as pd\n",
    "import matplotlib.pyplot as plt\n",
    "\n",
    "# this classifier usually outperforms most off the shelf classifier\n",
    "from sklearn.ensemble import GradientBoostingClassifier\n",
    "# metric for optimization\n",
    "from sklearn.metrics import roc_auc_score\n",
    "\n",
    "from sklearn.model_selection import train_test_split, RandomizedSearchCV\n",
    "\n",
    "from sklearn.pipeline import Pipeline\n",
    "\n",
    "# some methods we need to work with imbalanced data are sensitive to the magnitude of features\n",
    "# such as KNN\n",
    "from sklearn.preprocessing import MinMaxScaler\n",
    "\n",
    "# reduce no. of features\n",
    "from feature_engine.selection import (DropDuplicateFeatures,\n",
    "                                     DropConstantFeatures,\n",
    "                                     DropCorrelatedFeatures)\n",
    "\n",
    "# over sampling\n",
    "from imblearn.over_sampling import (RandomOverSampler, SMOTENC)\n",
    "\n",
    "# under sampling\n",
    "\n",
    "from imblearn.under_sampling import (InstanceHardnessThreshold,\n",
    "                                    RandomUnderSampler)\n",
    "\n",
    "# ensemble methods with boosting which tend to work better\n",
    "\n",
    "from imblearn.ensemble import (RUSBoostClassifier,\n",
    "                              EasyEnsembleClassifier)\n"
   ]
  },
  {
   "cell_type": "code",
   "execution_count": 2,
   "id": "bef6c563",
   "metadata": {},
   "outputs": [
    {
     "data": {
      "text/plain": [
       "(3680, 16)"
      ]
     },
     "execution_count": 2,
     "metadata": {},
     "output_type": "execute_result"
    }
   ],
   "source": [
    "df = pd.read_csv('framingham_clean.csv')\n",
    "df.shape"
   ]
  },
  {
   "cell_type": "code",
   "execution_count": 3,
   "id": "6fc7bf93",
   "metadata": {},
   "outputs": [
    {
     "data": {
      "text/html": [
       "<div>\n",
       "<style scoped>\n",
       "    .dataframe tbody tr th:only-of-type {\n",
       "        vertical-align: middle;\n",
       "    }\n",
       "\n",
       "    .dataframe tbody tr th {\n",
       "        vertical-align: top;\n",
       "    }\n",
       "\n",
       "    .dataframe thead th {\n",
       "        text-align: right;\n",
       "    }\n",
       "</style>\n",
       "<table border=\"1\" class=\"dataframe\">\n",
       "  <thead>\n",
       "    <tr style=\"text-align: right;\">\n",
       "      <th></th>\n",
       "      <th>age</th>\n",
       "      <th>education</th>\n",
       "      <th>cigsPerDay</th>\n",
       "      <th>BPMeds</th>\n",
       "      <th>prevalentStroke</th>\n",
       "      <th>prevalentHyp</th>\n",
       "      <th>totChol</th>\n",
       "      <th>sysBP</th>\n",
       "      <th>diaBP</th>\n",
       "      <th>BMI</th>\n",
       "      <th>heartRate</th>\n",
       "      <th>glucose</th>\n",
       "      <th>TenYearCHD</th>\n",
       "      <th>Sex_male</th>\n",
       "      <th>currentSmoker_Yes</th>\n",
       "      <th>diabetes_Yes</th>\n",
       "    </tr>\n",
       "  </thead>\n",
       "  <tbody>\n",
       "    <tr>\n",
       "      <th>0</th>\n",
       "      <td>39</td>\n",
       "      <td>4.0</td>\n",
       "      <td>0.0</td>\n",
       "      <td>0.0</td>\n",
       "      <td>0</td>\n",
       "      <td>0</td>\n",
       "      <td>195.0</td>\n",
       "      <td>106.0</td>\n",
       "      <td>70.0</td>\n",
       "      <td>26.97</td>\n",
       "      <td>80.0</td>\n",
       "      <td>77.0</td>\n",
       "      <td>0</td>\n",
       "      <td>1</td>\n",
       "      <td>0</td>\n",
       "      <td>0</td>\n",
       "    </tr>\n",
       "    <tr>\n",
       "      <th>1</th>\n",
       "      <td>46</td>\n",
       "      <td>2.0</td>\n",
       "      <td>0.0</td>\n",
       "      <td>0.0</td>\n",
       "      <td>0</td>\n",
       "      <td>0</td>\n",
       "      <td>250.0</td>\n",
       "      <td>121.0</td>\n",
       "      <td>81.0</td>\n",
       "      <td>28.73</td>\n",
       "      <td>95.0</td>\n",
       "      <td>76.0</td>\n",
       "      <td>0</td>\n",
       "      <td>0</td>\n",
       "      <td>0</td>\n",
       "      <td>0</td>\n",
       "    </tr>\n",
       "    <tr>\n",
       "      <th>2</th>\n",
       "      <td>48</td>\n",
       "      <td>1.0</td>\n",
       "      <td>20.0</td>\n",
       "      <td>0.0</td>\n",
       "      <td>0</td>\n",
       "      <td>0</td>\n",
       "      <td>245.0</td>\n",
       "      <td>127.5</td>\n",
       "      <td>80.0</td>\n",
       "      <td>25.34</td>\n",
       "      <td>75.0</td>\n",
       "      <td>70.0</td>\n",
       "      <td>0</td>\n",
       "      <td>1</td>\n",
       "      <td>1</td>\n",
       "      <td>0</td>\n",
       "    </tr>\n",
       "    <tr>\n",
       "      <th>3</th>\n",
       "      <td>61</td>\n",
       "      <td>3.0</td>\n",
       "      <td>30.0</td>\n",
       "      <td>0.0</td>\n",
       "      <td>0</td>\n",
       "      <td>1</td>\n",
       "      <td>225.0</td>\n",
       "      <td>150.0</td>\n",
       "      <td>95.0</td>\n",
       "      <td>28.58</td>\n",
       "      <td>65.0</td>\n",
       "      <td>103.0</td>\n",
       "      <td>1</td>\n",
       "      <td>0</td>\n",
       "      <td>1</td>\n",
       "      <td>0</td>\n",
       "    </tr>\n",
       "    <tr>\n",
       "      <th>4</th>\n",
       "      <td>46</td>\n",
       "      <td>3.0</td>\n",
       "      <td>23.0</td>\n",
       "      <td>0.0</td>\n",
       "      <td>0</td>\n",
       "      <td>0</td>\n",
       "      <td>285.0</td>\n",
       "      <td>130.0</td>\n",
       "      <td>84.0</td>\n",
       "      <td>23.10</td>\n",
       "      <td>85.0</td>\n",
       "      <td>85.0</td>\n",
       "      <td>0</td>\n",
       "      <td>0</td>\n",
       "      <td>1</td>\n",
       "      <td>0</td>\n",
       "    </tr>\n",
       "  </tbody>\n",
       "</table>\n",
       "</div>"
      ],
      "text/plain": [
       "   age  education  cigsPerDay  BPMeds  prevalentStroke  prevalentHyp  totChol  \\\n",
       "0   39        4.0         0.0     0.0                0             0    195.0   \n",
       "1   46        2.0         0.0     0.0                0             0    250.0   \n",
       "2   48        1.0        20.0     0.0                0             0    245.0   \n",
       "3   61        3.0        30.0     0.0                0             1    225.0   \n",
       "4   46        3.0        23.0     0.0                0             0    285.0   \n",
       "\n",
       "   sysBP  diaBP    BMI  heartRate  glucose  TenYearCHD  Sex_male  \\\n",
       "0  106.0   70.0  26.97       80.0     77.0           0         1   \n",
       "1  121.0   81.0  28.73       95.0     76.0           0         0   \n",
       "2  127.5   80.0  25.34       75.0     70.0           0         1   \n",
       "3  150.0   95.0  28.58       65.0    103.0           1         0   \n",
       "4  130.0   84.0  23.10       85.0     85.0           0         0   \n",
       "\n",
       "   currentSmoker_Yes  diabetes_Yes  \n",
       "0                  0             0  \n",
       "1                  0             0  \n",
       "2                  1             0  \n",
       "3                  1             0  \n",
       "4                  1             0  "
      ]
     },
     "execution_count": 3,
     "metadata": {},
     "output_type": "execute_result"
    }
   ],
   "source": [
    "df.head()"
   ]
  },
  {
   "cell_type": "code",
   "execution_count": 4,
   "id": "22e2471e",
   "metadata": {},
   "outputs": [
    {
     "name": "stderr",
     "output_type": "stream",
     "text": [
      "<ipython-input-4-191f37f7c07e>:4: UserWarning: To output multiple subplots, the figure containing the passed axes is being cleared\n",
      "  df.hist(ax=ax)\n"
     ]
    },
    {
     "data": {
      "text/plain": [
       "array([[<AxesSubplot:title={'center':'age'}>,\n",
       "        <AxesSubplot:title={'center':'education'}>,\n",
       "        <AxesSubplot:title={'center':'cigsPerDay'}>,\n",
       "        <AxesSubplot:title={'center':'BPMeds'}>],\n",
       "       [<AxesSubplot:title={'center':'prevalentStroke'}>,\n",
       "        <AxesSubplot:title={'center':'prevalentHyp'}>,\n",
       "        <AxesSubplot:title={'center':'totChol'}>,\n",
       "        <AxesSubplot:title={'center':'sysBP'}>],\n",
       "       [<AxesSubplot:title={'center':'diaBP'}>,\n",
       "        <AxesSubplot:title={'center':'BMI'}>,\n",
       "        <AxesSubplot:title={'center':'heartRate'}>,\n",
       "        <AxesSubplot:title={'center':'glucose'}>],\n",
       "       [<AxesSubplot:title={'center':'TenYearCHD'}>,\n",
       "        <AxesSubplot:title={'center':'Sex_male'}>,\n",
       "        <AxesSubplot:title={'center':'currentSmoker_Yes'}>,\n",
       "        <AxesSubplot:title={'center':'diabetes_Yes'}>]], dtype=object)"
      ]
     },
     "execution_count": 4,
     "metadata": {},
     "output_type": "execute_result"
    },
    {
     "data": {
      "image/png": "[encoded data removed]",
      "text/plain": [
       "<Figure size 1080x1440 with 16 Axes>"
      ]
     },
     "metadata": {
      "needs_background": "light"
     },
     "output_type": "display_data"
    }
   ],
   "source": [
    "# Since we only have a few features, we can visualize them all in plots\n",
    "fig = plt.figure(figsize=(15,20))\n",
    "ax = fig.gca()\n",
    "df.hist(ax=ax)\n"
   ]
  },
  {
   "cell_type": "markdown",
   "id": "412c3c1e",
   "metadata": {},
   "source": [
    "We can see some binary, dicrete and continous variables. Some of the binary variables are imbalanced, we also see that our target variable is imbalanced. Most of the continous data are right tailed. "
   ]
  },
  {
   "cell_type": "code",
   "execution_count": 5,
   "id": "8c1487c5",
   "metadata": {},
   "outputs": [
    {
     "data": {
      "text/plain": [
       "(0    0.846467\n",
       " 1    0.153533\n",
       " Name: TenYearCHD, dtype: float64,\n",
       " 0    3115\n",
       " 1     565\n",
       " Name: TenYearCHD, dtype: int64)"
      ]
     },
     "execution_count": 5,
     "metadata": {},
     "output_type": "execute_result"
    }
   ],
   "source": [
    "# We can see the imbalance, but it doesn't seem to be too severe, about 6 to 1.\n",
    "df.TenYearCHD.value_counts(normalize=True), df.TenYearCHD.value_counts()"
   ]
  },
  {
   "cell_type": "code",
   "execution_count": 6,
   "id": "42828958",
   "metadata": {},
   "outputs": [
    {
     "data": {
      "text/plain": [
       "((2576, 15), (1104, 15))"
      ]
     },
     "execution_count": 6,
     "metadata": {},
     "output_type": "execute_result"
    }
   ],
   "source": [
    "from sklearn.model_selection import train_test_split\n",
    "\n",
    "X_train,X_test,y_train,y_test=train_test_split(\n",
    "                                df.drop(['TenYearCHD'], axis=1), df['TenYearCHD'], test_size=0.3)\n",
    "\n",
    "X_train.shape, X_test.shape"
   ]
  },
  {
   "cell_type": "code",
   "execution_count": 7,
   "id": "c00ed76a",
   "metadata": {
    "scrolled": true
   },
   "outputs": [
    {
     "data": {
      "text/plain": [
       "GradientBoostingClassifier(loss='exponential', max_depth=1,\n",
       "                           min_samples_split=0.8)"
      ]
     },
     "execution_count": 7,
     "metadata": {},
     "output_type": "execute_result"
    }
   ],
   "source": [
    "# Run a gradient boosting model for benchmarks\n",
    "\n",
    "gbm = GradientBoostingClassifier(loss='exponential',\n",
    "                                 max_depth=1,\n",
    "                                 min_samples_split= 0.80,\n",
    "                                 n_estimators=100)\n",
    "\n",
    "gbm.fit(X_train, y_train)\n",
    "\n"
   ]
  },
  {
   "cell_type": "code",
   "execution_count": 8,
   "id": "ad801bb4",
   "metadata": {},
   "outputs": [
    {
     "name": "stdout",
     "output_type": "stream",
     "text": [
      "Train roc_auc score 0.7675738106431261\n",
      "Test roc_auc score 0.6957677289331149\n"
     ]
    }
   ],
   "source": [
    "# benchmark roc_auc_score\n",
    "\n",
    "X_train_pred = gbm.predict_proba(X_train)[:,1]\n",
    "X_test_pred = gbm.predict_proba(X_test)[:,1]\n",
    "\n",
    "print('Train roc_auc score', roc_auc_score(y_train, X_train_pred))\n",
    "print('Test roc_auc score', roc_auc_score(y_test, X_test_pred))"
   ]
  },
  {
   "cell_type": "code",
   "execution_count": 9,
   "id": "513d9f7d",
   "metadata": {},
   "outputs": [
    {
     "name": "stdout",
     "output_type": "stream",
     "text": [
      "Accuracy of Random Forest on test set: 0.85\n"
     ]
    }
   ],
   "source": [
    "predictions = gbm.predict(X_test)\n",
    "print('Accuracy of Random Forest on test set: {:.2f}'.format(gbm.score(X_test, y_test)))"
   ]
  },
  {
   "cell_type": "code",
   "execution_count": 10,
   "id": "1fc15f7d",
   "metadata": {},
   "outputs": [
    {
     "name": "stdout",
     "output_type": "stream",
     "text": [
      "              precision    recall  f1-score   support\n",
      "\n",
      "           0       0.85      1.00      0.92       934\n",
      "           1       0.78      0.04      0.08       170\n",
      "\n",
      "    accuracy                           0.85      1104\n",
      "   macro avg       0.81      0.52      0.50      1104\n",
      "weighted avg       0.84      0.85      0.79      1104\n",
      "\n"
     ]
    }
   ],
   "source": [
    "from sklearn.metrics import classification_report,confusion_matrix\n",
    "print(classification_report(y_test,predictions))"
   ]
  },
  {
   "cell_type": "code",
   "execution_count": 11,
   "id": "346d0c98",
   "metadata": {},
   "outputs": [
    {
     "name": "stdout",
     "output_type": "stream",
     "text": [
      "Train roc_auc score 0.7675738106431261\n",
      "Test roc_auc score 0.6957677289331149\n"
     ]
    }
   ],
   "source": [
    "# benchmark roc_auc_score\n",
    "\n",
    "X_train_pred = gbm.predict_proba(X_train)[:,1]\n",
    "X_test_pred = gbm.predict_proba(X_test)[:,1]\n",
    "\n",
    "print('Train roc_auc score', roc_auc_score(y_train, X_train_pred))\n",
    "print('Test roc_auc score', roc_auc_score(y_test, X_test_pred))"
   ]
  },
  {
   "cell_type": "markdown",
   "id": "ee4c17bf",
   "metadata": {},
   "source": [
    "### Handling Imbalanced data"
   ]
  },
  {
   "cell_type": "code",
   "execution_count": 12,
   "id": "1c7daf1b",
   "metadata": {},
   "outputs": [],
   "source": [
    "# SMOTENC - handles discrete data for sampling\n",
    "\n",
    "# First we need to know which are the discrete features\n",
    "\n",
    "cat_feats = [feat for feat in X_train.columns if X_train[feat].nunique() <=5]"
   ]
  },
  {
   "cell_type": "code",
   "execution_count": 13,
   "id": "f5a1a395",
   "metadata": {},
   "outputs": [
    {
     "data": {
      "text/plain": [
       "[0, 1, 2, 3, 4]"
      ]
     },
     "execution_count": 13,
     "metadata": {},
     "output_type": "execute_result"
    }
   ],
   "source": [
    "# capture the index in the dataframe columns\n",
    "cat_feat_index = [cat_feats.index(x) for x in cat_feats]\n",
    "\n",
    "cat_feat_index[:5]"
   ]
  },
  {
   "cell_type": "code",
   "execution_count": 14,
   "id": "c5bb26f9",
   "metadata": {},
   "outputs": [
    {
     "data": {
      "text/plain": [
       "((2576, 15), (4362, 15))"
      ]
     },
     "execution_count": 14,
     "metadata": {},
     "output_type": "execute_result"
    }
   ],
   "source": [
    "smnc = SMOTENC(\n",
    "    sampling_strategy='auto', # samples only the minority class\n",
    "    random_state=0,  # for reproducibility\n",
    "    k_neighbors=3,\n",
    "    categorical_features=cat_feat_index # indeces of the columns of discrete variables\n",
    ")  \n",
    "\n",
    "# because SMOTE uses KNN, and KNN is sensible to variable magnitude, we re-scale the data\n",
    "\n",
    "# this procedure will take a while, it also caused memory problems so train/test ratio was increased for test\n",
    "X_resampled, y_resampled = smnc.fit_resample(MinMaxScaler().fit_transform(X_train), y_train)\n",
    "\n",
    "X_train.shape, X_resampled.shape"
   ]
  },
  {
   "cell_type": "code",
   "execution_count": 15,
   "id": "903fbb82",
   "metadata": {},
   "outputs": [
    {
     "data": {
      "text/plain": [
       "0    0.5\n",
       "1    0.5\n",
       "Name: TenYearCHD, dtype: float64"
      ]
     },
     "execution_count": 15,
     "metadata": {},
     "output_type": "execute_result"
    }
   ],
   "source": [
    "# check the distribution of the resampled target\n",
    "# we should have 50:50 now\n",
    "\n",
    "y_resampled.value_counts(normalize=True)"
   ]
  },
  {
   "cell_type": "code",
   "execution_count": 16,
   "id": "d6dfec64",
   "metadata": {},
   "outputs": [
    {
     "data": {
      "text/plain": [
       "GradientBoostingClassifier(loss='exponential', max_depth=1,\n",
       "                           min_samples_split=0.8)"
      ]
     },
     "execution_count": 16,
     "metadata": {},
     "output_type": "execute_result"
    }
   ],
   "source": [
    "# train the model \n",
    "\n",
    "gbm.fit(X_resampled, y_resampled)"
   ]
  },
  {
   "cell_type": "code",
   "execution_count": 17,
   "id": "0cd79408",
   "metadata": {
    "scrolled": true
   },
   "outputs": [
    {
     "name": "stdout",
     "output_type": "stream",
     "text": [
      "Train roc_auc:  0.7799059065612084\n",
      "Test roc_auc:  0.47707834739891675\n"
     ]
    }
   ],
   "source": [
    "# Now let's get the performance on train and test\n",
    "\n",
    "X_train_preds = gbm.predict_proba(X_resampled)[:,1]\n",
    "X_test_preds = gbm.predict_proba(X_test)[:,1]\n",
    "\n",
    "print('Train roc_auc: ', roc_auc_score(y_resampled, X_train_preds))\n",
    "print('Test roc_auc: ', roc_auc_score(y_test, X_test_preds))"
   ]
  },
  {
   "cell_type": "markdown",
   "id": "ef5c4c51",
   "metadata": {},
   "source": [
    "This model is overfitting the data"
   ]
  },
  {
   "cell_type": "markdown",
   "id": "0667bf2d",
   "metadata": {},
   "source": [
    "### Cost sensitive "
   ]
  },
  {
   "cell_type": "code",
   "execution_count": 18,
   "id": "b5991e22",
   "metadata": {},
   "outputs": [
    {
     "data": {
      "text/plain": [
       "((2576, 15), (1104, 15))"
      ]
     },
     "execution_count": 18,
     "metadata": {},
     "output_type": "execute_result"
    }
   ],
   "source": [
    "df = pd.read_csv('framingham_clean.csv')\n",
    "X_train,X_test,y_train,y_test=train_test_split(\n",
    "                                df.drop(['TenYearCHD'], axis=1), df['TenYearCHD'], test_size=0.3)\n",
    "\n",
    "X_train.shape, X_test.shape"
   ]
  },
  {
   "cell_type": "code",
   "execution_count": 19,
   "id": "bab4fe1a",
   "metadata": {},
   "outputs": [
    {
     "data": {
      "text/plain": [
       "GradientBoostingClassifier(loss='exponential', max_depth=1,\n",
       "                           min_samples_split=0.8)"
      ]
     },
     "execution_count": 19,
     "metadata": {},
     "output_type": "execute_result"
    }
   ],
   "source": [
    "# we have an imbalance of 85 to 15, so we use those as weights\n",
    "sample_weight = np.where(y_train==1, 85, 15)\n",
    "\n",
    "# train model\n",
    "gbm.fit(X_train, y_train, sample_weight)"
   ]
  },
  {
   "cell_type": "code",
   "execution_count": 20,
   "id": "a362d23e",
   "metadata": {},
   "outputs": [
    {
     "name": "stdout",
     "output_type": "stream",
     "text": [
      "Train roc_auc:  0.7490485141466637\n",
      "Test roc_auc:  0.7493904464627089\n"
     ]
    }
   ],
   "source": [
    "# Now let's get the performance on train and test\n",
    "\n",
    "X_train_preds = gbm.predict_proba(X_train)[:,1]\n",
    "X_test_preds = gbm.predict_proba(X_test)[:,1]\n",
    "\n",
    "print('Train roc_auc: ', roc_auc_score(y_train, X_train_preds))\n",
    "print('Test roc_auc: ', roc_auc_score(y_test, X_test_preds))"
   ]
  },
  {
   "cell_type": "markdown",
   "id": "e6096522",
   "metadata": {},
   "source": [
    "It looks like a very small improvement on the baseline"
   ]
  },
  {
   "cell_type": "code",
   "execution_count": 21,
   "id": "1abf82d8",
   "metadata": {},
   "outputs": [],
   "source": [
    "from sklearn.linear_model import LogisticRegression"
   ]
  },
  {
   "cell_type": "code",
   "execution_count": 22,
   "id": "3eba88d1",
   "metadata": {},
   "outputs": [],
   "source": [
    "logit = LogisticRegression(penalty='l2',\n",
    "                          solver='newton-cg',\n",
    "                          C=1, max_iter=100).fit(X_train, y_train)"
   ]
  },
  {
   "cell_type": "code",
   "execution_count": 23,
   "id": "05dba226",
   "metadata": {},
   "outputs": [
    {
     "name": "stdout",
     "output_type": "stream",
     "text": [
      "Train roc_auc:  0.7319973758531966\n",
      "Test roc_auc:  0.748901550052337\n"
     ]
    }
   ],
   "source": [
    "# Now let's get the performance on train and test\n",
    "\n",
    "X_train_preds = logit.predict_proba(X_train)[:,1]\n",
    "X_test_preds = logit.predict_proba(X_test)[:,1]\n",
    "\n",
    "print('Train roc_auc: ', roc_auc_score(y_train, X_train_preds))\n",
    "print('Test roc_auc: ', roc_auc_score(y_test, X_test_preds))"
   ]
  },
  {
   "cell_type": "markdown",
   "id": "1f60277a",
   "metadata": {},
   "source": [
    "### Calibration curves"
   ]
  },
  {
   "cell_type": "code",
   "execution_count": 24,
   "id": "e1811fc3",
   "metadata": {},
   "outputs": [],
   "source": [
    "from sklearn.calibration import calibration_curve, CalibratedClassifierCV"
   ]
  },
  {
   "cell_type": "code",
   "execution_count": 25,
   "id": "3d93acba",
   "metadata": {},
   "outputs": [
    {
     "data": {
      "text/plain": [
       "(8, 8)"
      ]
     },
     "execution_count": 25,
     "metadata": {},
     "output_type": "execute_result"
    }
   ],
   "source": [
    "fraction_of_positives, mean_predicted_value = calibration_curve(\n",
    "    y_test, X_test_preds, n_bins=11, strategy='uniform') # setting strategy to uniform means interval is of equal width\n",
    "\n",
    "len(mean_predicted_value), len(fraction_of_positives)"
   ]
  },
  {
   "cell_type": "code",
   "execution_count": 26,
   "id": "ed9f7ed0",
   "metadata": {},
   "outputs": [
    {
     "data": {
      "text/plain": [
       "array([0.05703001, 0.130999  , 0.22014344, 0.31573094, 0.39535337,\n",
       "       0.49119128, 0.57557833, 0.67648533])"
      ]
     },
     "execution_count": 26,
     "metadata": {},
     "output_type": "execute_result"
    }
   ],
   "source": [
    "# mean probability of each interval/bin\n",
    "\n",
    "mean_predicted_value"
   ]
  },
  {
   "cell_type": "code",
   "execution_count": 27,
   "id": "b801767a",
   "metadata": {},
   "outputs": [
    {
     "data": {
      "text/plain": [
       "array([0.04368932, 0.13350785, 0.27439024, 0.3452381 , 0.44117647,\n",
       "       0.28571429, 1.        , 1.        ])"
      ]
     },
     "execution_count": 27,
     "metadata": {},
     "output_type": "execute_result"
    }
   ],
   "source": [
    "# fraction of observations of the minority class in each interval of possibility\n",
    "\n",
    "fraction_of_positives"
   ]
  },
  {
   "cell_type": "code",
   "execution_count": 28,
   "id": "d1ace8de",
   "metadata": {},
   "outputs": [
    {
     "data": {
      "image/png": "[encoded data removed]",
      "text/plain": [
       "<Figure size 432x288 with 1 Axes>"
      ]
     },
     "metadata": {
      "needs_background": "light"
     },
     "output_type": "display_data"
    }
   ],
   "source": [
    "plt.plot(mean_predicted_value, fraction_of_positives, label='Logistic Regression')\n",
    "\n",
    "# plot a red line\n",
    "plt.plot(np.linspace(0,1,10), np.linspace(0,1,10),\n",
    "        linestyle='--', color='red', label='Perfect Calibration')\n",
    "\n",
    "#add labels\n",
    "plt.xlabel('Probability Predictions')\n",
    "plt.ylabel('Fraction of Positive Examples')\n",
    "plt.legend(loc='upper left')\n",
    "plt.show()"
   ]
  },
  {
   "cell_type": "code",
   "execution_count": 29,
   "id": "3e2bbd09",
   "metadata": {
    "scrolled": true
   },
   "outputs": [
    {
     "data": {
      "image/png": "[encoded data removed]",
      "text/plain": [
       "<Figure size 432x288 with 1 Axes>"
      ]
     },
     "metadata": {
      "needs_background": "light"
     },
     "output_type": "display_data"
    }
   ],
   "source": [
    "plt.hist(X_test_preds, range=(0,1), bins=10, density=True, stacked=True,\n",
    "        alpha=0.3)\n",
    "plt.show()"
   ]
  },
  {
   "cell_type": "code",
   "execution_count": null,
   "id": "df3901b6",
   "metadata": {},
   "outputs": [],
   "source": []
  },
  {
   "cell_type": "code",
   "execution_count": 30,
   "id": "79345aae",
   "metadata": {},
   "outputs": [
    {
     "name": "stdout",
     "output_type": "stream",
     "text": [
      "Train roc_auc score 0.7451279846361109\n",
      "Test roc_auc score 0.7595679813181111\n"
     ]
    }
   ],
   "source": [
    "df = pd.read_csv('framingham_clean.csv')\n",
    "X_train,X_test,y_train,y_test=train_test_split(\n",
    "                                df.drop(['TenYearCHD'], axis=1), df['TenYearCHD'], test_size=0.3)\n",
    "\n",
    "\n",
    "X_train_pred_gbm = gbm.predict_proba(X_train)[:,1]\n",
    "X_test_pred_gbm = gbm.predict_proba(X_test)[:,1]\n",
    "\n",
    "print('Train roc_auc score', roc_auc_score(y_train, X_train_pred_gbm))\n",
    "print('Test roc_auc score', roc_auc_score(y_test, X_test_pred_gbm))\n",
    "\n"
   ]
  },
  {
   "cell_type": "code",
   "execution_count": 31,
   "id": "5e2534c1",
   "metadata": {},
   "outputs": [
    {
     "data": {
      "text/plain": [
       "(10, 10)"
      ]
     },
     "execution_count": 31,
     "metadata": {},
     "output_type": "execute_result"
    }
   ],
   "source": [
    "fraction_of_positives, mean_predicted_value = calibration_curve(\n",
    "    y_test, X_test_pred_gbm, n_bins=11, strategy='uniform') # setting strategy to uniform means interval is of equal width\n",
    "\n",
    "len(mean_predicted_value), len(fraction_of_positives)"
   ]
  },
  {
   "cell_type": "code",
   "execution_count": 32,
   "id": "87b0b288",
   "metadata": {
    "scrolled": true
   },
   "outputs": [
    {
     "data": {
      "image/png": "[encoded data removed]",
      "text/plain": [
       "<Figure size 432x288 with 1 Axes>"
      ]
     },
     "metadata": {
      "needs_background": "light"
     },
     "output_type": "display_data"
    }
   ],
   "source": [
    "plt.plot(mean_predicted_value, fraction_of_positives, label='Gradient Boosting')\n",
    "\n",
    "# plot a red line\n",
    "plt.plot(np.linspace(0,1,10), np.linspace(0,1,10),\n",
    "        linestyle='--', color='red', label='Perfect Calibration')\n",
    "\n",
    "#add labels\n",
    "plt.xlabel('Probability Predictions')\n",
    "plt.ylabel('Fraction of Positive Examples')\n",
    "plt.legend(loc='upper left')\n",
    "plt.show()"
   ]
  },
  {
   "cell_type": "code",
   "execution_count": 33,
   "id": "ee119434",
   "metadata": {
    "scrolled": true
   },
   "outputs": [
    {
     "data": {
      "image/png": "[encoded data removed]",
      "text/plain": [
       "<Figure size 432x288 with 1 Axes>"
      ]
     },
     "metadata": {
      "needs_background": "light"
     },
     "output_type": "display_data"
    }
   ],
   "source": [
    "plt.hist(X_test_pred_gbm, range=(0,1), bins=10, density=True, stacked=True,\n",
    "        alpha=0.3)\n",
    "plt.show()"
   ]
  },
  {
   "cell_type": "code",
   "execution_count": null,
   "id": "5d7f99bb",
   "metadata": {},
   "outputs": [],
   "source": []
  },
  {
   "cell_type": "markdown",
   "id": "765b30fd",
   "metadata": {},
   "source": [
    "### Recalibration"
   ]
  },
  {
   "cell_type": "code",
   "execution_count": 34,
   "id": "ceb40cd0",
   "metadata": {},
   "outputs": [],
   "source": [
    "# Isotonic Calibration for Gradient Boosting\n",
    "clf_isotonic = CalibratedClassifierCV(gbm, cv=5, method='isotonic')\n",
    "clf_isotonic.fit(X_test, y_test)\n",
    "prob_isotonic = clf_isotonic.predict_proba(X_test)[:,1]\n"
   ]
  },
  {
   "cell_type": "code",
   "execution_count": 35,
   "id": "c131c563",
   "metadata": {},
   "outputs": [
    {
     "name": "stdout",
     "output_type": "stream",
     "text": [
      "Test roc_auc score 0.8106901920083031\n"
     ]
    }
   ],
   "source": [
    "print('Test roc_auc score', roc_auc_score(y_test, prob_isotonic))"
   ]
  },
  {
   "cell_type": "code",
   "execution_count": 36,
   "id": "8c3be9f1",
   "metadata": {},
   "outputs": [
    {
     "data": {
      "image/png": "[encoded data removed]",
      "text/plain": [
       "<Figure size 432x288 with 1 Axes>"
      ]
     },
     "metadata": {
      "needs_background": "light"
     },
     "output_type": "display_data"
    }
   ],
   "source": [
    "fraction_of_positives, mean_predicted_value = calibration_curve(\n",
    "    y_test, prob_isotonic, n_bins=11, strategy='uniform')\n",
    "\n",
    "plt.plot(mean_predicted_value, fraction_of_positives, label='Gradient Boosting')\n",
    "\n",
    "# plot a red line\n",
    "plt.plot(np.linspace(0,1,10), np.linspace(0,1,10),\n",
    "        linestyle='--', color='red', label='Perfect Calibration')\n",
    "\n",
    "#add labels\n",
    "plt.xlabel('Probability Predictions')\n",
    "plt.ylabel('Fraction of Positive Examples')\n",
    "plt.legend(loc='upper left')\n",
    "plt.show()"
   ]
  },
  {
   "cell_type": "code",
   "execution_count": 37,
   "id": "67aede60",
   "metadata": {
    "scrolled": true
   },
   "outputs": [
    {
     "data": {
      "image/png": "[encoded data removed]",
      "text/plain": [
       "<Figure size 432x288 with 1 Axes>"
      ]
     },
     "metadata": {
      "needs_background": "light"
     },
     "output_type": "display_data"
    }
   ],
   "source": [
    "plt.hist(prob_isotonic, range=(0,1), bins=10, density=True, stacked=True,\n",
    "        alpha=0.3)\n",
    "plt.show()"
   ]
  },
  {
   "cell_type": "markdown",
   "id": "df85ffef",
   "metadata": {},
   "source": [
    "### Hyperparameter Optimization"
   ]
  },
  {
   "cell_type": "code",
   "execution_count": 38,
   "id": "d03f330d",
   "metadata": {},
   "outputs": [
    {
     "data": {
      "text/plain": [
       "((2576, 15), (1104, 15))"
      ]
     },
     "execution_count": 38,
     "metadata": {},
     "output_type": "execute_result"
    }
   ],
   "source": [
    "df = pd.read_csv('framingham_clean.csv')\n",
    "X_train,X_test,y_train,y_test=train_test_split(\n",
    "                                df.drop(['TenYearCHD'], axis=1), df['TenYearCHD'], test_size=0.3)\n",
    "\n",
    "X_train.shape, X_test.shape"
   ]
  },
  {
   "cell_type": "code",
   "execution_count": 39,
   "id": "27a13b76",
   "metadata": {},
   "outputs": [],
   "source": [
    "from scipy import stats"
   ]
  },
  {
   "cell_type": "code",
   "execution_count": 40,
   "id": "6e0bf109",
   "metadata": {},
   "outputs": [
    {
     "data": {
      "text/plain": [
       "RandomizedSearchCV(cv=5, estimator=GradientBoostingClassifier(), n_iter=60,\n",
       "                   param_distributions={'loss': ('deviance', 'exponential'),\n",
       "                                        'max_depth': <scipy.stats._distn_infrastructure.rv_frozen object at 0x00000197A9F35FA0>,\n",
       "                                        'min_samples_split': <scipy.stats._distn_infrastructure.rv_frozen object at 0x00000197A9D3E700>,\n",
       "                                        'n_estimators': <scipy.stats._distn_infrastructure.rv_frozen object at 0x00000197A9F35CA0>},\n",
       "                   random_state=5, scoring='roc_auc')"
      ]
     },
     "execution_count": 40,
     "metadata": {},
     "output_type": "execute_result"
    }
   ],
   "source": [
    "gbm = GradientBoostingClassifier()\n",
    "\n",
    "param_grid = dict(n_estimators=stats.randint(10, 200),\n",
    "    min_samples_split=stats.uniform(0, 1),\n",
    "    max_depth=stats.randint(1, 5),\n",
    "    loss=('deviance', 'exponential'),)\n",
    "\n",
    "search = RandomizedSearchCV(\n",
    "    gbm, # the model\n",
    "    param_grid, # hyperparam space\n",
    "    scoring='roc_auc', # metric to optimize\n",
    "    cv=5, # I do 2 to speed things up, 5 would be better as the dataset is quite small\n",
    "    n_iter = 60, # I do 5 to speed things up, but for randomized search 60 has been shown to find the optimal hyperparameters\n",
    "    random_state=5, # reproducibility\n",
    "    refit=True, # this fits the model with the best hyperparams to the entire training set after the hyperparam search\n",
    ")\n",
    "\n",
    "search.fit(X_resampled,y_resampled)"
   ]
  },
  {
   "cell_type": "code",
   "execution_count": 41,
   "id": "720055d6",
   "metadata": {},
   "outputs": [
    {
     "data": {
      "text/plain": [
       "{'loss': 'exponential',\n",
       " 'max_depth': 4,\n",
       " 'min_samples_split': 0.17296183099226237,\n",
       " 'n_estimators': 193}"
      ]
     },
     "execution_count": 41,
     "metadata": {},
     "output_type": "execute_result"
    }
   ],
   "source": [
    "search.best_params_"
   ]
  },
  {
   "cell_type": "code",
   "execution_count": 42,
   "id": "3d7362b6",
   "metadata": {},
   "outputs": [
    {
     "name": "stdout",
     "output_type": "stream",
     "text": [
      "Train roc_auc:  0.948298852937955\n",
      "Test roc_auc:  0.541691945543233\n"
     ]
    }
   ],
   "source": [
    "# Now let's get the performance on train and test\n",
    "\n",
    "X_train_preds = search.predict_proba(X_resampled)[:,1]\n",
    "X_test_preds = search.predict_proba(X_test)[:,1]\n",
    "\n",
    "print('Train roc_auc: ', roc_auc_score(y_resampled, X_train_preds))\n",
    "print('Test roc_auc: ', roc_auc_score(y_test, X_test_preds))"
   ]
  },
  {
   "cell_type": "code",
   "execution_count": null,
   "id": "de6472c3",
   "metadata": {},
   "outputs": [],
   "source": []
  },
  {
   "cell_type": "code",
   "execution_count": null,
   "id": "66d28d51",
   "metadata": {},
   "outputs": [],
   "source": []
  }
 ],
 "metadata": {
  "kernelspec": {
   "display_name": "Python 3",
   "language": "python",
   "name": "python3"
  },
  "language_info": {
   "codemirror_mode": {
    "name": "ipython",
    "version": 3
   },
   "file_extension": ".py",
   "mimetype": "text/x-python",
   "name": "python",
   "nbconvert_exporter": "python",
   "pygments_lexer": "ipython3",
   "version": "3.8.8"
  }
 },
 "nbformat": 4,
 "nbformat_minor": 5
}
