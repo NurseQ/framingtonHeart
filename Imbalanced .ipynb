{
 "cells": [
  {
   "cell_type": "code",
   "execution_count": 1,
   "id": "810fdc6e",
   "metadata": {},
   "outputs": [],
   "source": [
    "# following the steps https://www.kaggle.com/solegalli/feature-selection-with-feature-engine"
   ]
  },
  {
   "cell_type": "code",
   "execution_count": 2,
   "id": "a4a335f5",
   "metadata": {},
   "outputs": [],
   "source": [
    "# import necessary libraries\n",
    "import numpy as np\n",
    "import matplotlib.pyplot as plt\n",
    "import pandas as pd\n",
    "\n",
    "from sklearn.ensemble import RandomForestClassifier\n",
    "from sklearn.linear_model import LogisticRegression\n",
    "from sklearn.metrics import roc_auc_score\n",
    "from sklearn.model_selection import train_test_split, cross_validate\n",
    "from sklearn.pipeline import Pipeline\n",
    "from sklearn.preprocessing import StandardScaler"
   ]
  },
  {
   "cell_type": "code",
   "execution_count": 3,
   "id": "9b9247ad",
   "metadata": {
    "scrolled": false
   },
   "outputs": [],
   "source": [
    "df = pd.read_csv(\"..\\\\train.csv\")"
   ]
  },
  {
   "cell_type": "code",
   "execution_count": 4,
   "id": "7fad48bd",
   "metadata": {},
   "outputs": [
    {
     "data": {
      "text/html": [
       "<div>\n",
       "<style scoped>\n",
       "    .dataframe tbody tr th:only-of-type {\n",
       "        vertical-align: middle;\n",
       "    }\n",
       "\n",
       "    .dataframe tbody tr th {\n",
       "        vertical-align: top;\n",
       "    }\n",
       "\n",
       "    .dataframe thead th {\n",
       "        text-align: right;\n",
       "    }\n",
       "</style>\n",
       "<table border=\"1\" class=\"dataframe\">\n",
       "  <thead>\n",
       "    <tr style=\"text-align: right;\">\n",
       "      <th></th>\n",
       "      <th>ID</th>\n",
       "      <th>var3</th>\n",
       "      <th>var15</th>\n",
       "      <th>imp_ent_var16_ult1</th>\n",
       "      <th>imp_op_var39_comer_ult1</th>\n",
       "      <th>imp_op_var39_comer_ult3</th>\n",
       "      <th>imp_op_var40_comer_ult1</th>\n",
       "      <th>imp_op_var40_comer_ult3</th>\n",
       "      <th>imp_op_var40_efect_ult1</th>\n",
       "      <th>imp_op_var40_efect_ult3</th>\n",
       "      <th>...</th>\n",
       "      <th>saldo_medio_var33_hace2</th>\n",
       "      <th>saldo_medio_var33_hace3</th>\n",
       "      <th>saldo_medio_var33_ult1</th>\n",
       "      <th>saldo_medio_var33_ult3</th>\n",
       "      <th>saldo_medio_var44_hace2</th>\n",
       "      <th>saldo_medio_var44_hace3</th>\n",
       "      <th>saldo_medio_var44_ult1</th>\n",
       "      <th>saldo_medio_var44_ult3</th>\n",
       "      <th>var38</th>\n",
       "      <th>TARGET</th>\n",
       "    </tr>\n",
       "  </thead>\n",
       "  <tbody>\n",
       "    <tr>\n",
       "      <th>0</th>\n",
       "      <td>1</td>\n",
       "      <td>2</td>\n",
       "      <td>23</td>\n",
       "      <td>0.0</td>\n",
       "      <td>0.0</td>\n",
       "      <td>0.0</td>\n",
       "      <td>0.0</td>\n",
       "      <td>0.0</td>\n",
       "      <td>0.0</td>\n",
       "      <td>0.0</td>\n",
       "      <td>...</td>\n",
       "      <td>0.0</td>\n",
       "      <td>0.0</td>\n",
       "      <td>0.0</td>\n",
       "      <td>0.0</td>\n",
       "      <td>0.0</td>\n",
       "      <td>0.0</td>\n",
       "      <td>0.0</td>\n",
       "      <td>0.0</td>\n",
       "      <td>39205.170000</td>\n",
       "      <td>0</td>\n",
       "    </tr>\n",
       "    <tr>\n",
       "      <th>1</th>\n",
       "      <td>3</td>\n",
       "      <td>2</td>\n",
       "      <td>34</td>\n",
       "      <td>0.0</td>\n",
       "      <td>0.0</td>\n",
       "      <td>0.0</td>\n",
       "      <td>0.0</td>\n",
       "      <td>0.0</td>\n",
       "      <td>0.0</td>\n",
       "      <td>0.0</td>\n",
       "      <td>...</td>\n",
       "      <td>0.0</td>\n",
       "      <td>0.0</td>\n",
       "      <td>0.0</td>\n",
       "      <td>0.0</td>\n",
       "      <td>0.0</td>\n",
       "      <td>0.0</td>\n",
       "      <td>0.0</td>\n",
       "      <td>0.0</td>\n",
       "      <td>49278.030000</td>\n",
       "      <td>0</td>\n",
       "    </tr>\n",
       "    <tr>\n",
       "      <th>2</th>\n",
       "      <td>4</td>\n",
       "      <td>2</td>\n",
       "      <td>23</td>\n",
       "      <td>0.0</td>\n",
       "      <td>0.0</td>\n",
       "      <td>0.0</td>\n",
       "      <td>0.0</td>\n",
       "      <td>0.0</td>\n",
       "      <td>0.0</td>\n",
       "      <td>0.0</td>\n",
       "      <td>...</td>\n",
       "      <td>0.0</td>\n",
       "      <td>0.0</td>\n",
       "      <td>0.0</td>\n",
       "      <td>0.0</td>\n",
       "      <td>0.0</td>\n",
       "      <td>0.0</td>\n",
       "      <td>0.0</td>\n",
       "      <td>0.0</td>\n",
       "      <td>67333.770000</td>\n",
       "      <td>0</td>\n",
       "    </tr>\n",
       "    <tr>\n",
       "      <th>3</th>\n",
       "      <td>8</td>\n",
       "      <td>2</td>\n",
       "      <td>37</td>\n",
       "      <td>0.0</td>\n",
       "      <td>195.0</td>\n",
       "      <td>195.0</td>\n",
       "      <td>0.0</td>\n",
       "      <td>0.0</td>\n",
       "      <td>0.0</td>\n",
       "      <td>0.0</td>\n",
       "      <td>...</td>\n",
       "      <td>0.0</td>\n",
       "      <td>0.0</td>\n",
       "      <td>0.0</td>\n",
       "      <td>0.0</td>\n",
       "      <td>0.0</td>\n",
       "      <td>0.0</td>\n",
       "      <td>0.0</td>\n",
       "      <td>0.0</td>\n",
       "      <td>64007.970000</td>\n",
       "      <td>0</td>\n",
       "    </tr>\n",
       "    <tr>\n",
       "      <th>4</th>\n",
       "      <td>10</td>\n",
       "      <td>2</td>\n",
       "      <td>39</td>\n",
       "      <td>0.0</td>\n",
       "      <td>0.0</td>\n",
       "      <td>0.0</td>\n",
       "      <td>0.0</td>\n",
       "      <td>0.0</td>\n",
       "      <td>0.0</td>\n",
       "      <td>0.0</td>\n",
       "      <td>...</td>\n",
       "      <td>0.0</td>\n",
       "      <td>0.0</td>\n",
       "      <td>0.0</td>\n",
       "      <td>0.0</td>\n",
       "      <td>0.0</td>\n",
       "      <td>0.0</td>\n",
       "      <td>0.0</td>\n",
       "      <td>0.0</td>\n",
       "      <td>117310.979016</td>\n",
       "      <td>0</td>\n",
       "    </tr>\n",
       "  </tbody>\n",
       "</table>\n",
       "<p>5 rows × 371 columns</p>\n",
       "</div>"
      ],
      "text/plain": [
       "   ID  var3  var15  imp_ent_var16_ult1  imp_op_var39_comer_ult1  \\\n",
       "0   1     2     23                 0.0                      0.0   \n",
       "1   3     2     34                 0.0                      0.0   \n",
       "2   4     2     23                 0.0                      0.0   \n",
       "3   8     2     37                 0.0                    195.0   \n",
       "4  10     2     39                 0.0                      0.0   \n",
       "\n",
       "   imp_op_var39_comer_ult3  imp_op_var40_comer_ult1  imp_op_var40_comer_ult3  \\\n",
       "0                      0.0                      0.0                      0.0   \n",
       "1                      0.0                      0.0                      0.0   \n",
       "2                      0.0                      0.0                      0.0   \n",
       "3                    195.0                      0.0                      0.0   \n",
       "4                      0.0                      0.0                      0.0   \n",
       "\n",
       "   imp_op_var40_efect_ult1  imp_op_var40_efect_ult3  ...  \\\n",
       "0                      0.0                      0.0  ...   \n",
       "1                      0.0                      0.0  ...   \n",
       "2                      0.0                      0.0  ...   \n",
       "3                      0.0                      0.0  ...   \n",
       "4                      0.0                      0.0  ...   \n",
       "\n",
       "   saldo_medio_var33_hace2  saldo_medio_var33_hace3  saldo_medio_var33_ult1  \\\n",
       "0                      0.0                      0.0                     0.0   \n",
       "1                      0.0                      0.0                     0.0   \n",
       "2                      0.0                      0.0                     0.0   \n",
       "3                      0.0                      0.0                     0.0   \n",
       "4                      0.0                      0.0                     0.0   \n",
       "\n",
       "   saldo_medio_var33_ult3  saldo_medio_var44_hace2  saldo_medio_var44_hace3  \\\n",
       "0                     0.0                      0.0                      0.0   \n",
       "1                     0.0                      0.0                      0.0   \n",
       "2                     0.0                      0.0                      0.0   \n",
       "3                     0.0                      0.0                      0.0   \n",
       "4                     0.0                      0.0                      0.0   \n",
       "\n",
       "   saldo_medio_var44_ult1  saldo_medio_var44_ult3          var38  TARGET  \n",
       "0                     0.0                     0.0   39205.170000       0  \n",
       "1                     0.0                     0.0   49278.030000       0  \n",
       "2                     0.0                     0.0   67333.770000       0  \n",
       "3                     0.0                     0.0   64007.970000       0  \n",
       "4                     0.0                     0.0  117310.979016       0  \n",
       "\n",
       "[5 rows x 371 columns]"
      ]
     },
     "execution_count": 4,
     "metadata": {},
     "output_type": "execute_result"
    }
   ],
   "source": [
    "df.head()"
   ]
  },
  {
   "cell_type": "code",
   "execution_count": 5,
   "id": "9d5b50da",
   "metadata": {
    "scrolled": true
   },
   "outputs": [
    {
     "data": {
      "text/plain": [
       "(76020, 371)"
      ]
     },
     "execution_count": 5,
     "metadata": {},
     "output_type": "execute_result"
    }
   ],
   "source": [
    "df.shape"
   ]
  },
  {
   "cell_type": "code",
   "execution_count": 6,
   "id": "0c135e56",
   "metadata": {},
   "outputs": [
    {
     "data": {
      "text/plain": [
       "0    0.960431\n",
       "1    0.039569\n",
       "Name: TARGET, dtype: float64"
      ]
     },
     "execution_count": 6,
     "metadata": {},
     "output_type": "execute_result"
    }
   ],
   "source": [
    "df.TARGET.value_counts()/len(df.TARGET)"
   ]
  },
  {
   "cell_type": "code",
   "execution_count": 7,
   "id": "b2e75dd5",
   "metadata": {},
   "outputs": [
    {
     "data": {
      "text/plain": [
       "ID                           int64\n",
       "var3                         int64\n",
       "var15                        int64\n",
       "imp_ent_var16_ult1         float64\n",
       "imp_op_var39_comer_ult1    float64\n",
       "                            ...   \n",
       "saldo_medio_var44_hace3    float64\n",
       "saldo_medio_var44_ult1     float64\n",
       "saldo_medio_var44_ult3     float64\n",
       "var38                      float64\n",
       "TARGET                       int64\n",
       "Length: 371, dtype: object"
      ]
     },
     "execution_count": 7,
     "metadata": {},
     "output_type": "execute_result"
    }
   ],
   "source": [
    "df.dtypes"
   ]
  },
  {
   "cell_type": "code",
   "execution_count": 8,
   "id": "ef5f2429",
   "metadata": {},
   "outputs": [],
   "source": [
    "from sklearn.model_selection import train_test_split"
   ]
  },
  {
   "cell_type": "code",
   "execution_count": 9,
   "id": "0328db23",
   "metadata": {},
   "outputs": [
    {
     "data": {
      "text/plain": [
       "((53214, 369), (22806, 369))"
      ]
     },
     "execution_count": 9,
     "metadata": {},
     "output_type": "execute_result"
    }
   ],
   "source": [
    "X_train, X_test, y_train, y_test = train_test_split(\n",
    "    df.drop(labels=['ID','TARGET'],axis=1), df.TARGET, test_size=0.3)\n",
    "\n",
    "X_train.shape, X_test.shape"
   ]
  },
  {
   "cell_type": "code",
   "execution_count": 10,
   "id": "04ea979f",
   "metadata": {
    "scrolled": true
   },
   "outputs": [
    {
     "data": {
      "text/plain": [
       "(0    0.960612\n",
       " 1    0.039388\n",
       " Name: TARGET, dtype: float64,\n",
       " 0    51118\n",
       " 1     2096\n",
       " Name: TARGET, dtype: int64)"
      ]
     },
     "execution_count": 10,
     "metadata": {},
     "output_type": "execute_result"
    }
   ],
   "source": [
    "y_train.value_counts(normalize=True), y_train.value_counts()"
   ]
  },
  {
   "cell_type": "markdown",
   "id": "e787fd86",
   "metadata": {},
   "source": [
    "## Feature Engineering"
   ]
  },
  {
   "cell_type": "code",
   "execution_count": 11,
   "id": "1e134503",
   "metadata": {},
   "outputs": [],
   "source": [
    "# import feature selection libraries\n",
    "from feature_engine.selection import (\n",
    "    DropDuplicateFeatures,\n",
    "    DropConstantFeatures,\n",
    "    DropDuplicateFeatures,\n",
    "    DropCorrelatedFeatures,\n",
    "    SmartCorrelatedSelection,\n",
    "    SelectByShuffling,\n",
    "    SelectBySingleFeaturePerformance,\n",
    "    RecursiveFeatureElimination,\n",
    ")"
   ]
  },
  {
   "cell_type": "code",
   "execution_count": 12,
   "id": "149501ef",
   "metadata": {},
   "outputs": [
    {
     "data": {
      "text/plain": [
       "ID                         0\n",
       "var3                       0\n",
       "var15                      0\n",
       "imp_ent_var16_ult1         0\n",
       "imp_op_var39_comer_ult1    0\n",
       "                          ..\n",
       "saldo_medio_var44_hace3    0\n",
       "saldo_medio_var44_ult1     0\n",
       "saldo_medio_var44_ult3     0\n",
       "var38                      0\n",
       "TARGET                     0\n",
       "Length: 371, dtype: int64"
      ]
     },
     "execution_count": 12,
     "metadata": {},
     "output_type": "execute_result"
    }
   ],
   "source": [
    "# check for any missing values\n",
    "df.isnull().sum() # difficult to see because of the number of columns"
   ]
  },
  {
   "cell_type": "code",
   "execution_count": 13,
   "id": "29596a21",
   "metadata": {},
   "outputs": [
    {
     "name": "stdout",
     "output_type": "stream",
     "text": [
      "[]\n"
     ]
    }
   ],
   "source": [
    "# check for any null values, and none found \n",
    "nullCols = []\n",
    "for i in X_train.columns:\n",
    "    if X_train[i].isnull().sum()>0:\n",
    "        append.nullCols\n",
    "print(nullCols)  \n",
    "\n",
    "# [x for x in X_train.columns if X_train[x].isnull().sum() > 0]"
   ]
  },
  {
   "cell_type": "code",
   "execution_count": 14,
   "id": "464b982d",
   "metadata": {},
   "outputs": [
    {
     "data": {
      "text/plain": [
       "Index(['ind_var2_0', 'ind_var2', 'ind_var27_0', 'ind_var28_0', 'ind_var28',\n",
       "       'ind_var27', 'ind_var41', 'ind_var46_0', 'ind_var46', 'num_var27_0',\n",
       "       'num_var28_0', 'num_var28', 'num_var27', 'num_var41', 'num_var46_0',\n",
       "       'num_var46', 'saldo_var28', 'saldo_var27', 'saldo_var41', 'saldo_var46',\n",
       "       'delta_imp_trasp_var33_out_1y3', 'delta_num_trasp_var33_out_1y3',\n",
       "       'imp_amort_var18_hace3', 'imp_amort_var34_hace3',\n",
       "       'imp_reemb_var13_hace3', 'imp_reemb_var33_hace3',\n",
       "       'imp_trasp_var17_out_hace3', 'imp_trasp_var33_out_hace3',\n",
       "       'imp_trasp_var33_out_ult1', 'num_var2_0_ult1', 'num_var2_ult1',\n",
       "       'num_reemb_var13_hace3', 'num_reemb_var33_hace3',\n",
       "       'num_trasp_var17_out_hace3', 'num_trasp_var33_out_hace3',\n",
       "       'num_trasp_var33_out_ult1', 'saldo_var2_ult1',\n",
       "       'saldo_medio_var13_medio_hace3', 'saldo_medio_var29_hace3'],\n",
       "      dtype='object')"
      ]
     },
     "execution_count": 14,
     "metadata": {},
     "output_type": "execute_result"
    }
   ],
   "source": [
    "# we can see that these columns only have one value \n",
    "X_train.columns[X_train.nunique()==1]"
   ]
  },
  {
   "cell_type": "code",
   "execution_count": 15,
   "id": "9aeafa5e",
   "metadata": {},
   "outputs": [
    {
     "data": {
      "text/plain": [
       "0    53214\n",
       "Name: ind_var2_0, dtype: int64"
      ]
     },
     "execution_count": 15,
     "metadata": {},
     "output_type": "execute_result"
    }
   ],
   "source": [
    "X_train.ind_var2_0.value_counts()"
   ]
  },
  {
   "cell_type": "markdown",
   "id": "6cdd182d",
   "metadata": {},
   "source": [
    "### Check for constant Features"
   ]
  },
  {
   "cell_type": "code",
   "execution_count": 16,
   "id": "6535793e",
   "metadata": {},
   "outputs": [
    {
     "data": {
      "text/plain": [
       "DropConstantFeatures()"
      ]
     },
     "execution_count": 16,
     "metadata": {},
     "output_type": "execute_result"
    }
   ],
   "source": [
    "# tol=1, means to remove constant features\n",
    "constant = DropConstantFeatures(tol=1)\n",
    "# thenwe fit to find the features\n",
    "constant.fit(X_train)"
   ]
  },
  {
   "cell_type": "code",
   "execution_count": 17,
   "id": "e7455a2f",
   "metadata": {
    "scrolled": false
   },
   "outputs": [
    {
     "data": {
      "text/plain": [
       "['ind_var2_0',\n",
       " 'ind_var2',\n",
       " 'ind_var27_0',\n",
       " 'ind_var28_0',\n",
       " 'ind_var28',\n",
       " 'ind_var27',\n",
       " 'ind_var41',\n",
       " 'ind_var46_0',\n",
       " 'ind_var46',\n",
       " 'num_var27_0',\n",
       " 'num_var28_0',\n",
       " 'num_var28',\n",
       " 'num_var27',\n",
       " 'num_var41',\n",
       " 'num_var46_0',\n",
       " 'num_var46',\n",
       " 'saldo_var28',\n",
       " 'saldo_var27',\n",
       " 'saldo_var41',\n",
       " 'saldo_var46',\n",
       " 'delta_imp_trasp_var33_out_1y3',\n",
       " 'delta_num_trasp_var33_out_1y3',\n",
       " 'imp_amort_var18_hace3',\n",
       " 'imp_amort_var34_hace3',\n",
       " 'imp_reemb_var13_hace3',\n",
       " 'imp_reemb_var33_hace3',\n",
       " 'imp_trasp_var17_out_hace3',\n",
       " 'imp_trasp_var33_out_hace3',\n",
       " 'imp_trasp_var33_out_ult1',\n",
       " 'num_var2_0_ult1',\n",
       " 'num_var2_ult1',\n",
       " 'num_reemb_var13_hace3',\n",
       " 'num_reemb_var33_hace3',\n",
       " 'num_trasp_var17_out_hace3',\n",
       " 'num_trasp_var33_out_hace3',\n",
       " 'num_trasp_var33_out_ult1',\n",
       " 'saldo_var2_ult1',\n",
       " 'saldo_medio_var13_medio_hace3',\n",
       " 'saldo_medio_var29_hace3']"
      ]
     },
     "execution_count": 17,
     "metadata": {},
     "output_type": "execute_result"
    }
   ],
   "source": [
    "constant.features_to_drop_"
   ]
  },
  {
   "cell_type": "code",
   "execution_count": 18,
   "id": "bc626fa0",
   "metadata": {},
   "outputs": [
    {
     "data": {
      "text/plain": [
       "39"
      ]
     },
     "execution_count": 18,
     "metadata": {},
     "output_type": "execute_result"
    }
   ],
   "source": [
    "len(constant.features_to_drop_)"
   ]
  },
  {
   "cell_type": "code",
   "execution_count": 19,
   "id": "6c6e1b88",
   "metadata": {},
   "outputs": [
    {
     "data": {
      "text/plain": [
       "array([0], dtype=int64)"
      ]
     },
     "execution_count": 19,
     "metadata": {},
     "output_type": "execute_result"
    }
   ],
   "source": [
    "# check one feature to see if it really has a constant feature\n",
    "df.ind_var2_0.unique()"
   ]
  },
  {
   "cell_type": "code",
   "execution_count": 20,
   "id": "422cdaba",
   "metadata": {
    "scrolled": true
   },
   "outputs": [
    {
     "name": "stdout",
     "output_type": "stream",
     "text": [
      "The number of features before dropping constants:  369\n",
      "The number of feature after dropping constants:  330\n"
     ]
    }
   ],
   "source": [
    "print('The number of features before dropping constants: ', X_train.shape[1])\n",
    "\n",
    "X_train = constant.transform(X_train)\n",
    "X_test = constant.transform(X_test)\n",
    "\n",
    "print('The number of feature after dropping constants: ', X_train.shape[1])"
   ]
  },
  {
   "cell_type": "markdown",
   "id": "6050fdea",
   "metadata": {},
   "source": [
    "### Check for quasiconstant features"
   ]
  },
  {
   "cell_type": "code",
   "execution_count": 21,
   "id": "01cd52a2",
   "metadata": {},
   "outputs": [
    {
     "data": {
      "text/plain": [
       "DropConstantFeatures(tol=0.998)"
      ]
     },
     "execution_count": 21,
     "metadata": {},
     "output_type": "execute_result"
    }
   ],
   "source": [
    "quasi_cons = DropConstantFeatures(tol=0.998)\n",
    "quasi_cons.fit(X_train)"
   ]
  },
  {
   "cell_type": "code",
   "execution_count": 22,
   "id": "0cdb3f9a",
   "metadata": {},
   "outputs": [
    {
     "data": {
      "text/plain": [
       "['imp_op_var40_efect_ult1',\n",
       " 'imp_op_var40_efect_ult3',\n",
       " 'imp_sal_var16_ult1',\n",
       " 'ind_var6_0',\n",
       " 'ind_var6',\n",
       " 'ind_var13_medio_0',\n",
       " 'ind_var13_medio',\n",
       " 'ind_var17_0',\n",
       " 'ind_var17',\n",
       " 'ind_var18_0',\n",
       " 'ind_var18',\n",
       " 'ind_var29_0',\n",
       " 'ind_var29',\n",
       " 'ind_var32_cte',\n",
       " 'ind_var32_0',\n",
       " 'ind_var32',\n",
       " 'ind_var33_0',\n",
       " 'ind_var33',\n",
       " 'ind_var34_0',\n",
       " 'ind_var34',\n",
       " 'ind_var44_0',\n",
       " 'ind_var44',\n",
       " 'num_var6_0',\n",
       " 'num_var6',\n",
       " 'num_var13_medio_0',\n",
       " 'num_var13_medio',\n",
       " 'num_var17_0',\n",
       " 'num_var17',\n",
       " 'num_var18_0',\n",
       " 'num_var18',\n",
       " 'num_op_var40_hace2',\n",
       " 'num_op_var40_hace3',\n",
       " 'num_var29_0',\n",
       " 'num_var29',\n",
       " 'num_var32_0',\n",
       " 'num_var32',\n",
       " 'num_var33_0',\n",
       " 'num_var33',\n",
       " 'num_var34_0',\n",
       " 'num_var34',\n",
       " 'num_var44_0',\n",
       " 'num_var44',\n",
       " 'saldo_var6',\n",
       " 'saldo_var13_medio',\n",
       " 'saldo_var17',\n",
       " 'saldo_var18',\n",
       " 'saldo_var29',\n",
       " 'saldo_var32',\n",
       " 'saldo_var33',\n",
       " 'saldo_var34',\n",
       " 'saldo_var44',\n",
       " 'delta_imp_amort_var18_1y3',\n",
       " 'delta_imp_amort_var34_1y3',\n",
       " 'delta_imp_aport_var17_1y3',\n",
       " 'delta_imp_aport_var33_1y3',\n",
       " 'delta_imp_compra_var44_1y3',\n",
       " 'delta_imp_reemb_var13_1y3',\n",
       " 'delta_imp_reemb_var17_1y3',\n",
       " 'delta_imp_reemb_var33_1y3',\n",
       " 'delta_imp_trasp_var17_in_1y3',\n",
       " 'delta_imp_trasp_var17_out_1y3',\n",
       " 'delta_imp_trasp_var33_in_1y3',\n",
       " 'delta_imp_venta_var44_1y3',\n",
       " 'delta_num_aport_var17_1y3',\n",
       " 'delta_num_aport_var33_1y3',\n",
       " 'delta_num_compra_var44_1y3',\n",
       " 'delta_num_reemb_var13_1y3',\n",
       " 'delta_num_reemb_var17_1y3',\n",
       " 'delta_num_reemb_var33_1y3',\n",
       " 'delta_num_trasp_var17_in_1y3',\n",
       " 'delta_num_trasp_var17_out_1y3',\n",
       " 'delta_num_trasp_var33_in_1y3',\n",
       " 'delta_num_venta_var44_1y3',\n",
       " 'imp_amort_var18_ult1',\n",
       " 'imp_amort_var34_ult1',\n",
       " 'imp_aport_var17_hace3',\n",
       " 'imp_aport_var17_ult1',\n",
       " 'imp_aport_var33_hace3',\n",
       " 'imp_aport_var33_ult1',\n",
       " 'imp_var7_emit_ult1',\n",
       " 'imp_compra_var44_hace3',\n",
       " 'imp_compra_var44_ult1',\n",
       " 'imp_reemb_var13_ult1',\n",
       " 'imp_reemb_var17_hace3',\n",
       " 'imp_reemb_var17_ult1',\n",
       " 'imp_reemb_var33_ult1',\n",
       " 'imp_trasp_var17_in_hace3',\n",
       " 'imp_trasp_var17_in_ult1',\n",
       " 'imp_trasp_var17_out_ult1',\n",
       " 'imp_trasp_var33_in_hace3',\n",
       " 'imp_trasp_var33_in_ult1',\n",
       " 'imp_venta_var44_hace3',\n",
       " 'imp_venta_var44_ult1',\n",
       " 'ind_var7_emit_ult1',\n",
       " 'num_aport_var17_hace3',\n",
       " 'num_aport_var17_ult1',\n",
       " 'num_aport_var33_hace3',\n",
       " 'num_aport_var33_ult1',\n",
       " 'num_var7_emit_ult1',\n",
       " 'num_compra_var44_hace3',\n",
       " 'num_compra_var44_ult1',\n",
       " 'num_meses_var13_medio_ult3',\n",
       " 'num_meses_var17_ult3',\n",
       " 'num_meses_var29_ult3',\n",
       " 'num_meses_var33_ult3',\n",
       " 'num_meses_var44_ult3',\n",
       " 'num_op_var40_efect_ult1',\n",
       " 'num_op_var40_efect_ult3',\n",
       " 'num_reemb_var13_ult1',\n",
       " 'num_reemb_var17_hace3',\n",
       " 'num_reemb_var17_ult1',\n",
       " 'num_reemb_var33_ult1',\n",
       " 'num_sal_var16_ult1',\n",
       " 'num_trasp_var17_in_hace3',\n",
       " 'num_trasp_var17_in_ult1',\n",
       " 'num_trasp_var17_out_ult1',\n",
       " 'num_trasp_var33_in_hace3',\n",
       " 'num_trasp_var33_in_ult1',\n",
       " 'num_venta_var44_hace3',\n",
       " 'num_venta_var44_ult1',\n",
       " 'saldo_medio_var13_medio_hace2',\n",
       " 'saldo_medio_var13_medio_ult1',\n",
       " 'saldo_medio_var13_medio_ult3',\n",
       " 'saldo_medio_var17_hace2',\n",
       " 'saldo_medio_var17_hace3',\n",
       " 'saldo_medio_var17_ult1',\n",
       " 'saldo_medio_var17_ult3',\n",
       " 'saldo_medio_var29_hace2',\n",
       " 'saldo_medio_var29_ult1',\n",
       " 'saldo_medio_var29_ult3',\n",
       " 'saldo_medio_var33_hace2',\n",
       " 'saldo_medio_var33_hace3',\n",
       " 'saldo_medio_var33_ult1',\n",
       " 'saldo_medio_var33_ult3',\n",
       " 'saldo_medio_var44_hace2',\n",
       " 'saldo_medio_var44_hace3',\n",
       " 'saldo_medio_var44_ult1',\n",
       " 'saldo_medio_var44_ult3']"
      ]
     },
     "execution_count": 22,
     "metadata": {},
     "output_type": "execute_result"
    }
   ],
   "source": [
    "quasi_cons.features_to_drop_"
   ]
  },
  {
   "cell_type": "code",
   "execution_count": 23,
   "id": "8beaba47",
   "metadata": {},
   "outputs": [
    {
     "data": {
      "text/plain": [
       "138"
      ]
     },
     "execution_count": 23,
     "metadata": {},
     "output_type": "execute_result"
    }
   ],
   "source": [
    "len(quasi_cons.features_to_drop_)"
   ]
  },
  {
   "cell_type": "code",
   "execution_count": 24,
   "id": "63fcaf81",
   "metadata": {
    "scrolled": true
   },
   "outputs": [
    {
     "data": {
      "text/plain": [
       "0.00        0.998779\n",
       "11106.33    0.000019\n",
       "14666.43    0.000019\n",
       "18198.87    0.000019\n",
       "10969.26    0.000019\n",
       "              ...   \n",
       "24078.72    0.000019\n",
       "12491.91    0.000019\n",
       "11184.33    0.000019\n",
       "1409.22     0.000019\n",
       "27781.50    0.000019\n",
       "Name: saldo_medio_var44_hace2, Length: 66, dtype: float64"
      ]
     },
     "execution_count": 24,
     "metadata": {},
     "output_type": "execute_result"
    }
   ],
   "source": [
    "# percentage of observation for each value \n",
    "X_train.saldo_medio_var44_hace2.value_counts()/len(X_train)"
   ]
  },
  {
   "cell_type": "code",
   "execution_count": 25,
   "id": "54dbec47",
   "metadata": {},
   "outputs": [
    {
     "name": "stdout",
     "output_type": "stream",
     "text": [
      "The number of features before dropping quasi-constants:  330\n",
      "The number of feature after dropping quasi-constants:  192\n"
     ]
    }
   ],
   "source": [
    "print('The number of features before dropping quasi-constants: ', X_train.shape[1])\n",
    "\n",
    "X_train = quasi_cons.transform(X_train)\n",
    "X_test = quasi_cons.transform(X_test)\n",
    "\n",
    "print('The number of feature after dropping quasi-constants: ', X_train.shape[1])"
   ]
  },
  {
   "cell_type": "markdown",
   "id": "af96e7e3",
   "metadata": {},
   "source": [
    "### Check for duplicated features"
   ]
  },
  {
   "cell_type": "code",
   "execution_count": 26,
   "id": "a23b98a8",
   "metadata": {},
   "outputs": [
    {
     "data": {
      "text/plain": [
       "DropDuplicateFeatures()"
      ]
     },
     "execution_count": 26,
     "metadata": {},
     "output_type": "execute_result"
    }
   ],
   "source": [
    "dups = DropDuplicateFeatures()\n",
    "\n",
    "dups.fit(X_train)"
   ]
  },
  {
   "cell_type": "code",
   "execution_count": 27,
   "id": "12ac266c",
   "metadata": {
    "scrolled": false
   },
   "outputs": [
    {
     "data": {
      "text/plain": [
       "[{'ind_var26', 'ind_var26_0'},\n",
       " {'ind_var25', 'ind_var25_0'},\n",
       " {'ind_var37', 'ind_var37_0'},\n",
       " {'ind_var39', 'ind_var40'},\n",
       " {'num_var26', 'num_var26_0'},\n",
       " {'num_var25', 'num_var25_0'},\n",
       " {'num_var37', 'num_var37_0'},\n",
       " {'num_var39', 'num_var40'}]"
      ]
     },
     "execution_count": 27,
     "metadata": {},
     "output_type": "execute_result"
    }
   ],
   "source": [
    "# here we see the group of identical variables\n",
    "dups.duplicated_feature_sets_"
   ]
  },
  {
   "cell_type": "code",
   "execution_count": 28,
   "id": "d79fd0cd",
   "metadata": {},
   "outputs": [
    {
     "data": {
      "text/plain": [
       "True"
      ]
     },
     "execution_count": 28,
     "metadata": {},
     "output_type": "execute_result"
    }
   ],
   "source": [
    "# check if it is indeed the case\n",
    "X_train.ind_var26.equals(X_train.ind_var26_0)"
   ]
  },
  {
   "cell_type": "code",
   "execution_count": 29,
   "id": "13905255",
   "metadata": {},
   "outputs": [
    {
     "data": {
      "text/html": [
       "<div>\n",
       "<style scoped>\n",
       "    .dataframe tbody tr th:only-of-type {\n",
       "        vertical-align: middle;\n",
       "    }\n",
       "\n",
       "    .dataframe tbody tr th {\n",
       "        vertical-align: top;\n",
       "    }\n",
       "\n",
       "    .dataframe thead th {\n",
       "        text-align: right;\n",
       "    }\n",
       "</style>\n",
       "<table border=\"1\" class=\"dataframe\">\n",
       "  <thead>\n",
       "    <tr style=\"text-align: right;\">\n",
       "      <th></th>\n",
       "      <th>ind_var26</th>\n",
       "      <th>ind_var26_0</th>\n",
       "    </tr>\n",
       "  </thead>\n",
       "  <tbody>\n",
       "    <tr>\n",
       "      <th>57051</th>\n",
       "      <td>0</td>\n",
       "      <td>0</td>\n",
       "    </tr>\n",
       "    <tr>\n",
       "      <th>36855</th>\n",
       "      <td>0</td>\n",
       "      <td>0</td>\n",
       "    </tr>\n",
       "    <tr>\n",
       "      <th>15474</th>\n",
       "      <td>0</td>\n",
       "      <td>0</td>\n",
       "    </tr>\n",
       "    <tr>\n",
       "      <th>17966</th>\n",
       "      <td>0</td>\n",
       "      <td>0</td>\n",
       "    </tr>\n",
       "    <tr>\n",
       "      <th>65795</th>\n",
       "      <td>0</td>\n",
       "      <td>0</td>\n",
       "    </tr>\n",
       "  </tbody>\n",
       "</table>\n",
       "</div>"
      ],
      "text/plain": [
       "       ind_var26  ind_var26_0\n",
       "57051          0            0\n",
       "36855          0            0\n",
       "15474          0            0\n",
       "17966          0            0\n",
       "65795          0            0"
      ]
     },
     "execution_count": 29,
     "metadata": {},
     "output_type": "execute_result"
    }
   ],
   "source": [
    "# inspect actual variables\n",
    "X_train[['ind_var26', 'ind_var26_0']].head()"
   ]
  },
  {
   "cell_type": "code",
   "execution_count": 30,
   "id": "6ba78dd0",
   "metadata": {},
   "outputs": [
    {
     "name": "stdout",
     "output_type": "stream",
     "text": [
      "Number of features before dropping:  192\n",
      "N0. of features after dropping:  184\n"
     ]
    }
   ],
   "source": [
    "print('Number of features before dropping: ', X_train.shape[1])\n",
    "\n",
    "X_train = dups.transform(X_train)\n",
    "X_test = dups.transform(X_test)\n",
    "\n",
    "print('N0. of features after dropping: ', X_train.shape[1])"
   ]
  },
  {
   "cell_type": "markdown",
   "id": "c426d5b4",
   "metadata": {},
   "source": [
    "### Drop Correlated Features"
   ]
  },
  {
   "cell_type": "code",
   "execution_count": 31,
   "id": "acf605fe",
   "metadata": {},
   "outputs": [
    {
     "data": {
      "text/plain": [
       "DropCorrelatedFeatures()"
      ]
     },
     "execution_count": 31,
     "metadata": {},
     "output_type": "execute_result"
    }
   ],
   "source": [
    "# if the variables is set to none, it will examine all variables\n",
    "correlated = DropCorrelatedFeatures(variables=None, method='pearson', threshold=0.8)\n",
    "correlated.fit(X_train)"
   ]
  },
  {
   "cell_type": "code",
   "execution_count": 32,
   "id": "dcb25468",
   "metadata": {},
   "outputs": [
    {
     "data": {
      "text/plain": [
       "[{'imp_op_var39_comer_ult1',\n",
       "  'imp_op_var39_comer_ult3',\n",
       "  'imp_op_var41_comer_ult1',\n",
       "  'imp_op_var41_comer_ult3'},\n",
       " {'imp_op_var40_comer_ult1', 'imp_op_var40_comer_ult3'},\n",
       " {'imp_op_var40_ult1', 'saldo_var40'},\n",
       " {'imp_op_var39_efect_ult1',\n",
       "  'imp_op_var39_ult1',\n",
       "  'imp_op_var41_efect_ult1',\n",
       "  'imp_op_var41_ult1'},\n",
       " {'imp_op_var39_efect_ult3', 'imp_op_var41_efect_ult3'},\n",
       " {'ind_var1_0', 'ind_var40_0', 'num_var1_0', 'num_var40_0'},\n",
       " {'ind_var1', 'ind_var40', 'num_var1', 'num_var40'},\n",
       " {'ind_var5_0',\n",
       "  'ind_var8',\n",
       "  'ind_var8_0',\n",
       "  'num_var5_0',\n",
       "  'num_var8',\n",
       "  'num_var8_0'},\n",
       " {'ind_var30', 'ind_var5', 'num_meses_var5_ult3', 'num_var42', 'num_var5'},\n",
       " {'ind_var12', 'ind_var12_0', 'num_var12_0'},\n",
       " {'ind_var13',\n",
       "  'ind_var13_0',\n",
       "  'ind_var13_corto',\n",
       "  'ind_var13_corto_0',\n",
       "  'num_meses_var13_corto_ult3',\n",
       "  'num_var13',\n",
       "  'num_var13_0',\n",
       "  'num_var13_corto',\n",
       "  'num_var13_corto_0'},\n",
       " {'ind_var13_largo',\n",
       "  'ind_var13_largo_0',\n",
       "  'num_meses_var13_largo_ult3',\n",
       "  'num_var13_largo',\n",
       "  'num_var13_largo_0'},\n",
       " {'ind_var14', 'num_var14'},\n",
       " {'ind_var20', 'ind_var20_0', 'num_var20', 'num_var20_0'},\n",
       " {'ind_var24',\n",
       "  'ind_var24_0',\n",
       "  'num_meses_var12_ult3',\n",
       "  'num_var12',\n",
       "  'num_var24',\n",
       "  'num_var24_0'},\n",
       " {'ind_var25_0',\n",
       "  'ind_var25_cte',\n",
       "  'ind_var26_0',\n",
       "  'ind_var26_cte',\n",
       "  'num_var25_0',\n",
       "  'num_var26_0'},\n",
       " {'ind_var31', 'ind_var31_0', 'num_var31_0'},\n",
       " {'ind_var10_ult1',\n",
       "  'ind_var10cte_ult1',\n",
       "  'ind_var37_0',\n",
       "  'ind_var37_cte',\n",
       "  'ind_var9_cte_ult1',\n",
       "  'ind_var9_ult1'},\n",
       " {'ind_var39_0',\n",
       "  'ind_var41_0',\n",
       "  'num_meses_var39_vig_ult3',\n",
       "  'num_var39_0',\n",
       "  'num_var41_0'},\n",
       " {'num_var35', 'num_var4'},\n",
       " {'num_op_var40_ult1', 'num_op_var40_ult3'},\n",
       " {'num_op_var39_hace2',\n",
       "  'num_op_var39_ult3',\n",
       "  'num_op_var41_comer_ult3',\n",
       "  'num_op_var41_hace2',\n",
       "  'num_op_var41_ult3'},\n",
       " {'num_op_var39_hace3', 'num_op_var41_hace3'},\n",
       " {'num_op_var39_comer_ult1',\n",
       "  'num_op_var39_comer_ult3',\n",
       "  'num_op_var39_ult1',\n",
       "  'num_op_var41_comer_ult1',\n",
       "  'num_op_var41_ult1'},\n",
       " {'num_var30_0', 'num_var42_0'},\n",
       " {'num_var37_0', 'num_var37_med_ult2'},\n",
       " {'saldo_medio_var5_ult1', 'saldo_var5'},\n",
       " {'saldo_medio_var8_ult1', 'saldo_medio_var8_ult3', 'saldo_var8'},\n",
       " {'saldo_medio_var12_hace2',\n",
       "  'saldo_medio_var12_ult1',\n",
       "  'saldo_medio_var12_ult3',\n",
       "  'saldo_var12',\n",
       "  'saldo_var24',\n",
       "  'saldo_var42'},\n",
       " {'saldo_medio_var13_corto_hace2',\n",
       "  'saldo_medio_var13_corto_ult1',\n",
       "  'saldo_medio_var13_corto_ult3',\n",
       "  'saldo_var13',\n",
       "  'saldo_var13_corto'},\n",
       " {'saldo_medio_var13_largo_ult1',\n",
       "  'saldo_medio_var13_largo_ult3',\n",
       "  'saldo_var13_largo'},\n",
       " {'saldo_var25', 'saldo_var26'},\n",
       " {'delta_imp_aport_var13_1y3', 'delta_num_aport_var13_1y3'},\n",
       " {'ind_var7_recib_ult1', 'num_var7_recib_ult1'},\n",
       " {'num_med_var22_ult3', 'num_var22_ult3'},\n",
       " {'num_med_var45_ult3', 'num_var45_hace2', 'num_var45_ult1', 'num_var45_ult3'},\n",
       " {'num_op_var40_comer_ult1', 'num_op_var40_comer_ult3'},\n",
       " {'num_op_var39_efect_ult1',\n",
       "  'num_op_var39_efect_ult3',\n",
       "  'num_op_var41_efect_ult1',\n",
       "  'num_op_var41_efect_ult3'}]"
      ]
     },
     "execution_count": 32,
     "metadata": {},
     "output_type": "execute_result"
    }
   ],
   "source": [
    "# Here we see features that are correlated, other items are correlated with multiple\n",
    "correlated.correlated_feature_sets_"
   ]
  },
  {
   "cell_type": "code",
   "execution_count": 33,
   "id": "8600d7c1",
   "metadata": {},
   "outputs": [],
   "source": [
    "import seaborn as sns"
   ]
  },
  {
   "cell_type": "code",
   "execution_count": 34,
   "id": "8c6656c8",
   "metadata": {},
   "outputs": [
    {
     "data": {
      "text/plain": [
       "<AxesSubplot:>"
      ]
     },
     "execution_count": 34,
     "metadata": {},
     "output_type": "execute_result"
    },
    {
     "data": {
      "image/png": "[encoded data removed]",
      "text/plain": [
       "<Figure size 360x360 with 2 Axes>"
      ]
     },
     "metadata": {
      "needs_background": "light"
     },
     "output_type": "display_data"
    }
   ],
   "source": [
    "# plot a correlation map with some of the features \n",
    "\n",
    "corrmat = X_train[['ind_var13',\n",
    "  'ind_var13_0',\n",
    "  'ind_var13_corto',\n",
    "  'ind_var13_corto_0',\n",
    "  'num_meses_var13_corto_ult3',\n",
    "  'num_var13',\n",
    "  'num_var13_0',\n",
    "  'num_var13_corto',\n",
    "  'num_var13_corto_0']].corr(method='pearson')\n",
    "\n",
    "cmap = sns.diverging_palette(220, 20, as_cmap=True)\n",
    "\n",
    "fig,ax=plt.subplots()\n",
    "fig.set_size_inches(5,5)\n",
    "\n",
    "sns.heatmap(corrmat, cmap=cmap)"
   ]
  },
  {
   "cell_type": "markdown",
   "id": "0ffccfdd",
   "metadata": {},
   "source": [
    "the plot shows correlation over 0.8"
   ]
  },
  {
   "cell_type": "code",
   "execution_count": 35,
   "id": "cdcd4d15",
   "metadata": {},
   "outputs": [
    {
     "data": {
      "text/plain": [
       "101"
      ]
     },
     "execution_count": 35,
     "metadata": {},
     "output_type": "execute_result"
    }
   ],
   "source": [
    "len(correlated.features_to_drop_)"
   ]
  },
  {
   "cell_type": "code",
   "execution_count": 36,
   "id": "5a684481",
   "metadata": {},
   "outputs": [
    {
     "name": "stdout",
     "output_type": "stream",
     "text": [
      "No. of features before removal:  184\n",
      "No. of features after removal:  83\n"
     ]
    }
   ],
   "source": [
    "print('No. of features before removal: ', X_train.shape[1])\n",
    "\n",
    "X_train = correlated.transform(X_train)\n",
    "X_test = correlated.transform(X_test)\n",
    "\n",
    "print('No. of features after removal: ', X_test.shape[1])"
   ]
  },
  {
   "cell_type": "markdown",
   "id": "19705a30",
   "metadata": {},
   "source": [
    "### Smart selection of correlated features\n",
    "\n"
   ]
  },
  {
   "cell_type": "code",
   "execution_count": 37,
   "id": "692be35a",
   "metadata": {},
   "outputs": [
    {
     "data": {
      "text/plain": [
       "SmartCorrelatedSelection(estimator=RandomForestClassifier(n_estimators=10,\n",
       "                                                          random_state=1),\n",
       "                         selection_method='model_performance', threshold=0.7)"
      ]
     },
     "execution_count": 37,
     "metadata": {},
     "output_type": "execute_result"
    }
   ],
   "source": [
    "smart_corr = SmartCorrelatedSelection(variables=None, # examines all variables\n",
    "                                     method='pearson', # correlation method\n",
    "                                     threshold=0.7, # correlation coefficient threshold\n",
    "                                     missing_values='ignore', #\n",
    "                                     selection_method='model_performance', # how features are selected\n",
    "                                     estimator=RandomForestClassifier(n_estimators=10,random_state=1)) # model for deriving importance\n",
    "\n",
    "# This method simply finds correlated features and select the best from each group\n",
    "# It builds a random forrest from each correlated feature and retains the feature with best performance\n",
    "\n",
    "smart_corr.fit(X_train, y_train)"
   ]
  },
  {
   "cell_type": "code",
   "execution_count": 38,
   "id": "0f6a7844",
   "metadata": {
    "scrolled": true
   },
   "outputs": [
    {
     "data": {
      "text/plain": [
       "[{'imp_op_var39_comer_ult1', 'num_op_var41_ult1'},\n",
       " {'imp_op_var40_comer_ult1', 'num_op_var40_comer_ult1'},\n",
       " {'imp_op_var40_ult1', 'num_op_var40_ult1'},\n",
       " {'imp_op_var41_efect_ult1', 'imp_op_var41_efect_ult3'},\n",
       " {'ind_var1_0', 'var21'},\n",
       " {'ind_var5_0', 'num_meses_var8_ult3'},\n",
       " {'ind_var5', 'num_var30'},\n",
       " {'ind_var12_0', 'ind_var24_0', 'num_var30_0'},\n",
       " {'ind_var13_largo_0', 'saldo_var13_largo'},\n",
       " {'ind_var14_0', 'num_var14_0'},\n",
       " {'ind_var31_0', 'num_var31'},\n",
       " {'saldo_var12', 'saldo_var30'},\n",
       " {'delta_imp_aport_var13_1y3', 'imp_aport_var13_ult1', 'num_aport_var13_ult1'},\n",
       " {'imp_aport_var13_hace3', 'num_aport_var13_hace3'},\n",
       " {'imp_trans_var37_ult1', 'imp_var43_emit_ult1'},\n",
       " {'num_var22_hace2', 'num_var22_ult3'},\n",
       " {'num_med_var45_ult3', 'num_var45_hace3'},\n",
       " {'saldo_medio_var5_hace2', 'saldo_medio_var5_ult3'}]"
      ]
     },
     "execution_count": 38,
     "metadata": {},
     "output_type": "execute_result"
    }
   ],
   "source": [
    "smart_corr.correlated_feature_sets_"
   ]
  },
  {
   "cell_type": "code",
   "execution_count": 39,
   "id": "d3e6e744",
   "metadata": {
    "scrolled": true
   },
   "outputs": [
    {
     "name": "stdout",
     "output_type": "stream",
     "text": [
      "ind_var5_0 0.516052546886892\n",
      "num_meses_var8_ult3 0.5116273780859176\n"
     ]
    }
   ],
   "source": [
    "# Here we examine the performance of RF based on each of the features that we select to understand what is happening\n",
    "\n",
    "group = smart_corr.correlated_feature_sets_[5] # select the 6th group\n",
    "\n",
    "for f in group:\n",
    "    model=cross_validate(RandomForestClassifier(n_estimators=10,\n",
    "                                random_state=1),\n",
    "                        X_train[f].to_frame(),\n",
    "                        y_train, cv=3,\n",
    "                        return_estimator=False,\n",
    "                        scoring='roc_auc')\n",
    "    print(f,model['test_score'].mean())"
   ]
  },
  {
   "cell_type": "markdown",
   "id": "a3e985dc",
   "metadata": {},
   "source": [
    "num_var30_0 returns the highest score so it will be retained"
   ]
  },
  {
   "cell_type": "code",
   "execution_count": 40,
   "id": "8bda20b1",
   "metadata": {},
   "outputs": [
    {
     "data": {
      "text/plain": [
       "False"
      ]
     },
     "execution_count": 40,
     "metadata": {},
     "output_type": "execute_result"
    }
   ],
   "source": [
    "# Check to see if it will be dropped\n",
    "\n",
    "'num_var30_0' in smart_corr.features_to_drop_"
   ]
  },
  {
   "cell_type": "code",
   "execution_count": 41,
   "id": "6359da69",
   "metadata": {},
   "outputs": [
    {
     "data": {
      "text/plain": [
       "True"
      ]
     },
     "execution_count": 41,
     "metadata": {},
     "output_type": "execute_result"
    }
   ],
   "source": [
    "# Check to see if it will be dropped\n",
    "\n",
    "'ind_var12_0' in smart_corr.features_to_drop_"
   ]
  },
  {
   "cell_type": "code",
   "execution_count": 42,
   "id": "b325cb1d",
   "metadata": {},
   "outputs": [
    {
     "name": "stdout",
     "output_type": "stream",
     "text": [
      "No. of features before:  83\n",
      "No. of features after:  63\n"
     ]
    }
   ],
   "source": [
    "print('No. of features before: ', X_train.shape[1])\n",
    "\n",
    "X_train = smart_corr.transform(X_train)\n",
    "X_test = smart_corr.transform(X_test)\n",
    "\n",
    "print('No. of features after: ', X_train.shape[1])"
   ]
  },
  {
   "cell_type": "markdown",
   "id": "8f2417ce",
   "metadata": {},
   "source": [
    "### Use pipeline to select features"
   ]
  },
  {
   "cell_type": "code",
   "execution_count": 43,
   "id": "cfa9538a",
   "metadata": {},
   "outputs": [
    {
     "data": {
      "text/plain": [
       "((53214, 369), (22806, 369))"
      ]
     },
     "execution_count": 43,
     "metadata": {},
     "output_type": "execute_result"
    }
   ],
   "source": [
    "data = pd.read_csv(\"..\\\\train.csv\")\n",
    "\n",
    "X_train, X_test, y_train, y_test = train_test_split(\n",
    "    data.drop(labels=['ID','TARGET'], axis=1),\n",
    "    data['TARGET'],\n",
    "    test_size=0.3,\n",
    "    random_state=0)\n",
    "\n",
    "X_train.shape, X_test.shape"
   ]
  },
  {
   "cell_type": "code",
   "execution_count": 44,
   "id": "18b42efe",
   "metadata": {},
   "outputs": [
    {
     "data": {
      "text/plain": [
       "Pipeline(steps=[('constant', DropConstantFeatures(tol=0.998)),\n",
       "                ('duplicated', DropDuplicateFeatures()),\n",
       "                ('correlation',\n",
       "                 SmartCorrelatedSelection(estimator=RandomForestClassifier(n_estimators=10,\n",
       "                                                                           random_state=1),\n",
       "                                          selection_method='model_performance'))])"
      ]
     },
     "execution_count": 44,
     "metadata": {},
     "output_type": "execute_result"
    }
   ],
   "source": [
    "pipe = Pipeline([\n",
    "    ('constant', DropConstantFeatures(tol=0.998)), # drops constand and quasi-constant altogether\n",
    "    ('duplicated', DropDuplicateFeatures()), # drops duplicates\n",
    "    ('correlation', SmartCorrelatedSelection( # drops correlated\n",
    "        threshold=0.8,\n",
    "        selection_method=\"model_performance\",\n",
    "        estimator=RandomForestClassifier(n_estimators=10, random_state=1),\n",
    "    )),\n",
    "])\n",
    "\n",
    "# find features to remove\n",
    "\n",
    "pipe.fit(X_train, y_train)"
   ]
  },
  {
   "cell_type": "code",
   "execution_count": 45,
   "id": "a220cfe4",
   "metadata": {},
   "outputs": [
    {
     "name": "stdout",
     "output_type": "stream",
     "text": [
      "No. of features before:  369\n",
      "No. of features after:  81\n"
     ]
    }
   ],
   "source": [
    "print('No. of features before: ', X_train.shape[1])\n",
    "\n",
    "X_train = pipe.transform(X_train)\n",
    "X_test = pipe.transform(X_test)\n",
    "\n",
    "print('No. of features after: ', X_train.shape[1])"
   ]
  },
  {
   "cell_type": "markdown",
   "id": "c153ebd1",
   "metadata": {},
   "source": [
    "### Selecting Features by Shuffling\n",
    "\n",
    "Trains a model using all features then shuffles the values of 1 feature to obtain a prediction. It determines if there is a performance drop. If there is a drop larger than a pre determined threshold, the feature will be dropped, otherwise it is retained."
   ]
  },
  {
   "cell_type": "code",
   "execution_count": 46,
   "id": "374ec40b",
   "metadata": {},
   "outputs": [
    {
     "data": {
      "text/plain": [
       "((53214, 369), (22806, 369))"
      ]
     },
     "execution_count": 46,
     "metadata": {},
     "output_type": "execute_result"
    }
   ],
   "source": [
    "# reload the data\n",
    "data = pd.read_csv(\"..\\\\train.csv\")\n",
    "\n",
    "X_train, X_test, y_train, y_test = train_test_split(\n",
    "    data.drop(labels=['ID','TARGET'], axis=1),\n",
    "    data['TARGET'],\n",
    "    test_size=0.3,\n",
    "    random_state=0)\n",
    "\n",
    "X_train.shape, X_test.shape"
   ]
  },
  {
   "cell_type": "code",
   "execution_count": 47,
   "id": "cf0d5a41",
   "metadata": {},
   "outputs": [],
   "source": [
    "# remove constant, quasi-constant and duplicates\n",
    "\n",
    "pipe = Pipeline([\n",
    "    ('constant', DropConstantFeatures(tol=0.998)),\n",
    "    ('duplicated', DropDuplicateFeatures()),\n",
    "])\n",
    "\n",
    "# fit to find the features to remove\n",
    "\n",
    "pipe.fit(X_train, y_train)\n",
    "\n",
    "# remove \n",
    "\n",
    "X_train = pipe.transform(X_train)\n",
    "X_test = pipe.transform(X_test)"
   ]
  },
  {
   "cell_type": "code",
   "execution_count": 50,
   "id": "a0fb7342",
   "metadata": {},
   "outputs": [
    {
     "data": {
      "text/plain": [
       "(53214, 184)"
      ]
     },
     "execution_count": 50,
     "metadata": {},
     "output_type": "execute_result"
    }
   ],
   "source": [
    "X_train.shape"
   ]
  },
  {
   "cell_type": "code",
   "execution_count": 48,
   "id": "04b56586",
   "metadata": {},
   "outputs": [
    {
     "data": {
      "text/plain": [
       "SelectByShuffling(estimator=RandomForestClassifier(max_depth=2, n_estimators=10,\n",
       "                                                   random_state=1))"
      ]
     },
     "execution_count": 48,
     "metadata": {},
     "output_type": "execute_result"
    }
   ],
   "source": [
    "shuffle = SelectByShuffling(\n",
    "    estimator = RandomForestClassifier(n_estimators=10, max_depth=2, random_state=1), # the model\n",
    "    scoring=\"roc_auc\", # the metric to determine model performance\n",
    "    cv=3, # the cross-validation fold\n",
    ")\n",
    "\n",
    "shuffle.fit(X_train, y_train)"
   ]
  },
  {
   "cell_type": "code",
   "execution_count": 49,
   "id": "f07f323d",
   "metadata": {},
   "outputs": [
    {
     "data": {
      "text/plain": [
       "0.7675761929904802"
      ]
     },
     "execution_count": 49,
     "metadata": {},
     "output_type": "execute_result"
    }
   ],
   "source": [
    "# this is the performace of the model (roc-auc) using all the features\n",
    "\n",
    "shuffle.initial_model_performance_"
   ]
  },
  {
   "cell_type": "code",
   "execution_count": 51,
   "id": "837e5baa",
   "metadata": {},
   "outputs": [
    {
     "data": {
      "text/plain": [
       "{'var3': -0.0031821144597253825,\n",
       " 'var15': 0.05320940509162719,\n",
       " 'imp_ent_var16_ult1': -0.0039048335433380377,\n",
       " 'imp_op_var39_comer_ult1': -0.0039048335433380377,\n",
       " 'imp_op_var39_comer_ult3': -0.0039048335433380377,\n",
       " 'imp_op_var40_comer_ult1': -0.0039048335433380377,\n",
       " 'imp_op_var40_comer_ult3': -0.0039048335433380377,\n",
       " 'imp_op_var40_ult1': -0.0039048335433380377,\n",
       " 'imp_op_var41_comer_ult1': -0.0039048335433380377,\n",
       " 'imp_op_var41_comer_ult3': -0.0035510050824598682,\n",
       " 'imp_op_var41_efect_ult1': -0.0035926510102393117,\n",
       " 'imp_op_var41_efect_ult3': -0.0010283031629233497,\n",
       " 'imp_op_var41_ult1': -0.003916347362536765,\n",
       " 'imp_op_var39_efect_ult1': -0.0039048335433380377,\n",
       " 'imp_op_var39_efect_ult3': -0.002026788725917328,\n",
       " 'imp_op_var39_ult1': -0.0039048335433380377,\n",
       " 'ind_var1_0': -0.0039048335433380377,\n",
       " 'ind_var1': -0.0039048335433380377,\n",
       " 'ind_var5_0': -0.0039048335433380377,\n",
       " 'ind_var5': 0.019424550993747625,\n",
       " 'ind_var8_0': -0.0039048335433380377,\n",
       " 'ind_var8': -0.0039048335433380377,\n",
       " 'ind_var12_0': -0.0039048335433380377,\n",
       " 'ind_var12': -0.0039048335433380377,\n",
       " 'ind_var13_0': -0.0039048335433380377,\n",
       " 'ind_var13_corto_0': -0.0039048335433380377,\n",
       " 'ind_var13_corto': -0.0039048335433380377,\n",
       " 'ind_var13_largo_0': -0.0039048335433380377,\n",
       " 'ind_var13_largo': -0.0039048335433380377,\n",
       " 'ind_var13': -0.0039048335433380377,\n",
       " 'ind_var14_0': -0.0039048335433380377,\n",
       " 'ind_var14': -0.0039048335433380377,\n",
       " 'ind_var19': -0.0039048335433380377,\n",
       " 'ind_var20_0': -0.0039048335433380377,\n",
       " 'ind_var20': -0.0039048335433380377,\n",
       " 'ind_var24_0': -0.0039048335433380377,\n",
       " 'ind_var24': -0.0039048335433380377,\n",
       " 'ind_var25_cte': -0.003461177052053843,\n",
       " 'ind_var26_0': -0.0039048335433380377,\n",
       " 'ind_var26_cte': -0.0039048335433380377,\n",
       " 'ind_var25_0': -0.0039048335433380377,\n",
       " 'ind_var30_0': -0.0039048335433380377,\n",
       " 'ind_var30': -0.0039048335433380377,\n",
       " 'ind_var31_0': -0.0039048335433380377,\n",
       " 'ind_var31': -0.0039048335433380377,\n",
       " 'ind_var37_cte': -0.0039048335433380377,\n",
       " 'ind_var37_0': -0.0039048335433380377,\n",
       " 'ind_var39_0': -0.0039048335433380377,\n",
       " 'ind_var40_0': -0.0039048335433380377,\n",
       " 'ind_var40': -0.0038571776977618377,\n",
       " 'ind_var41_0': -0.0039048335433380377,\n",
       " 'num_var1_0': -0.0039048335433380377,\n",
       " 'num_var1': -0.0039048335433380377,\n",
       " 'num_var4': 0.009694864640458656,\n",
       " 'num_var5_0': -0.0039048335433380377,\n",
       " 'num_var5': 0.0017533592637930528,\n",
       " 'num_var8_0': -0.0039048335433380377,\n",
       " 'num_var8': -0.0039048335433380377,\n",
       " 'num_var12_0': -0.004148023465708528,\n",
       " 'num_var12': -0.0039048335433380377,\n",
       " 'num_var13_0': -0.0039048335433380377,\n",
       " 'num_var13_corto_0': -0.0039048335433380377,\n",
       " 'num_var13_corto': -0.0039048335433380377,\n",
       " 'num_var13_largo_0': -0.0039048335433380377,\n",
       " 'num_var13_largo': -0.0039048335433380377,\n",
       " 'num_var13': -0.0039048335433380377,\n",
       " 'num_var14_0': -0.0039048335433380377,\n",
       " 'num_var14': -0.0039048335433380377,\n",
       " 'num_var20_0': -0.0039048335433380377,\n",
       " 'num_var20': -0.0039048335433380377,\n",
       " 'num_var24_0': -0.0039048335433380377,\n",
       " 'num_var24': -0.0039048335433380377,\n",
       " 'num_var26_0': -0.0039048335433380377,\n",
       " 'num_var25_0': -0.0039048335433380377,\n",
       " 'num_op_var40_ult1': -0.0039048335433380377,\n",
       " 'num_op_var40_ult3': -0.0039048335433380377,\n",
       " 'num_op_var41_hace2': -0.0039048335433380377,\n",
       " 'num_op_var41_hace3': -0.0039048335433380377,\n",
       " 'num_op_var41_ult1': -0.0039048335433380377,\n",
       " 'num_op_var41_ult3': -0.0039048335433380377,\n",
       " 'num_op_var39_hace2': -0.0039048335433380377,\n",
       " 'num_op_var39_hace3': -0.0039048335433380377,\n",
       " 'num_op_var39_ult1': -0.0039048335433380377,\n",
       " 'num_op_var39_ult3': -0.0039048335433380377,\n",
       " 'num_var30_0': 0.002715294873346985,\n",
       " 'num_var30': 0.02491425124022273,\n",
       " 'num_var31_0': -0.0039048335433380377,\n",
       " 'num_var31': -0.0039048335433380377,\n",
       " 'num_var35': -0.003829670646540162,\n",
       " 'num_var37_med_ult2': -0.0038661131688073613,\n",
       " 'num_var37_0': -0.0039048335433380377,\n",
       " 'num_var39_0': -0.0039048335433380377,\n",
       " 'num_var40_0': -0.0039048335433380377,\n",
       " 'num_var40': -0.0039048335433380377,\n",
       " 'num_var41_0': -0.0039048335433380377,\n",
       " 'num_var42_0': -0.0039048335433380377,\n",
       " 'num_var42': -0.0039048335433380377,\n",
       " 'saldo_var1': -0.0039048335433380377,\n",
       " 'saldo_var5': -0.0039048335433380377,\n",
       " 'saldo_var8': -0.0039048335433380377,\n",
       " 'saldo_var12': -0.0039048335433380377,\n",
       " 'saldo_var13_corto': -0.0039048335433380377,\n",
       " 'saldo_var13_largo': -0.0039048335433380377,\n",
       " 'saldo_var13': -0.0039048335433380377,\n",
       " 'saldo_var14': -0.0039048335433380377,\n",
       " 'saldo_var20': -0.0039048335433380377,\n",
       " 'saldo_var24': -0.0039048335433380377,\n",
       " 'saldo_var26': -0.0039048335433380377,\n",
       " 'saldo_var25': -0.0039048335433380377,\n",
       " 'saldo_var30': 0.0025272809786660577,\n",
       " 'saldo_var31': -0.0039048335433380377,\n",
       " 'saldo_var37': -0.003833581764028704,\n",
       " 'saldo_var40': -0.0039048335433380377,\n",
       " 'saldo_var42': 0.0034222589418855254,\n",
       " 'var36': 0.00948890818290471,\n",
       " 'delta_imp_aport_var13_1y3': -0.0039048335433380377,\n",
       " 'delta_num_aport_var13_1y3': -0.0039048335433380377,\n",
       " 'imp_aport_var13_hace3': -0.0039048335433380377,\n",
       " 'imp_aport_var13_ult1': -0.0039048335433380377,\n",
       " 'imp_var7_recib_ult1': -0.0039048335433380377,\n",
       " 'imp_var43_emit_ult1': -0.0039048335433380377,\n",
       " 'imp_trans_var37_ult1': -0.003794908098703753,\n",
       " 'ind_var7_recib_ult1': -0.0039048335433380377,\n",
       " 'ind_var10_ult1': -0.0039048335433380377,\n",
       " 'ind_var10cte_ult1': -0.0039048335433380377,\n",
       " 'ind_var9_cte_ult1': -0.0039048335433380377,\n",
       " 'ind_var9_ult1': -0.0039048335433380377,\n",
       " 'ind_var43_emit_ult1': -0.0039048335433380377,\n",
       " 'ind_var43_recib_ult1': -0.0039048335433380377,\n",
       " 'var21': -0.0039048335433380377,\n",
       " 'num_aport_var13_hace3': -0.0039048335433380377,\n",
       " 'num_aport_var13_ult1': -0.0039048335433380377,\n",
       " 'num_var7_recib_ult1': -0.0039048335433380377,\n",
       " 'num_ent_var16_ult1': -0.0039048335433380377,\n",
       " 'num_var22_hace2': -0.0039048335433380377,\n",
       " 'num_var22_hace3': -0.0039048335433380377,\n",
       " 'num_var22_ult1': -0.0039048335433380377,\n",
       " 'num_var22_ult3': -0.0025411178023606595,\n",
       " 'num_med_var22_ult3': -0.0038079960181337524,\n",
       " 'num_med_var45_ult3': -0.003928600744158572,\n",
       " 'num_meses_var5_ult3': -0.0039048335433380377,\n",
       " 'num_meses_var8_ult3': -0.0039048335433380377,\n",
       " 'num_meses_var12_ult3': -0.0020375614257195362,\n",
       " 'num_meses_var13_corto_ult3': -0.0039048335433380377,\n",
       " 'num_meses_var13_largo_ult3': -0.0039048335433380377,\n",
       " 'num_meses_var39_vig_ult3': -0.0039048335433380377,\n",
       " 'num_op_var39_comer_ult1': -0.0037224621207025965,\n",
       " 'num_op_var39_comer_ult3': -0.0039048335433380377,\n",
       " 'num_op_var40_comer_ult1': -0.0039048335433380377,\n",
       " 'num_op_var40_comer_ult3': -0.0039048335433380377,\n",
       " 'num_op_var41_comer_ult1': -0.0039048335433380377,\n",
       " 'num_op_var41_comer_ult3': -0.0039048335433380377,\n",
       " 'num_op_var41_efect_ult1': -0.0039048335433380377,\n",
       " 'num_op_var41_efect_ult3': -0.0039048335433380377,\n",
       " 'num_op_var39_efect_ult1': -0.0039048335433380377,\n",
       " 'num_op_var39_efect_ult3': -0.0039048335433380377,\n",
       " 'num_var43_emit_ult1': -0.0039048335433380377,\n",
       " 'num_var43_recib_ult1': -0.0039048335433380377,\n",
       " 'num_trasp_var11_ult1': -0.0039048335433380377,\n",
       " 'num_var45_hace2': -0.0039048335433380377,\n",
       " 'num_var45_hace3': -0.0038929678481232077,\n",
       " 'num_var45_ult1': -0.004375062901730398,\n",
       " 'num_var45_ult3': -0.0039048335433380377,\n",
       " 'saldo_medio_var5_hace2': -0.0039048335433380377,\n",
       " 'saldo_medio_var5_hace3': -0.003178060100672786,\n",
       " 'saldo_medio_var5_ult1': 0.007158982940054237,\n",
       " 'saldo_medio_var5_ult3': -0.0039048335433380377,\n",
       " 'saldo_medio_var8_hace2': -0.0039048335433380377,\n",
       " 'saldo_medio_var8_hace3': -0.0039048335433380377,\n",
       " 'saldo_medio_var8_ult1': -0.003838459762074642,\n",
       " 'saldo_medio_var8_ult3': -0.0039048335433380377,\n",
       " 'saldo_medio_var12_hace2': -0.0039048335433380377,\n",
       " 'saldo_medio_var12_hace3': -0.0039048335433380377,\n",
       " 'saldo_medio_var12_ult1': -0.0039048335433380377,\n",
       " 'saldo_medio_var12_ult3': -0.0039048335433380377,\n",
       " 'saldo_medio_var13_corto_hace2': -0.0039048335433380377,\n",
       " 'saldo_medio_var13_corto_hace3': -0.0039048335433380377,\n",
       " 'saldo_medio_var13_corto_ult1': -0.0039048335433380377,\n",
       " 'saldo_medio_var13_corto_ult3': -0.0039048335433380377,\n",
       " 'saldo_medio_var13_largo_hace2': -0.0039048335433380377,\n",
       " 'saldo_medio_var13_largo_hace3': -0.0039048335433380377,\n",
       " 'saldo_medio_var13_largo_ult1': -0.0039048335433380377,\n",
       " 'saldo_medio_var13_largo_ult3': -0.0039048335433380377,\n",
       " 'var38': 0.009088685025003707}"
      ]
     },
     "execution_count": 51,
     "metadata": {},
     "output_type": "execute_result"
    }
   ],
   "source": [
    "# performance drift caused by shuffling each feature\n",
    "\n",
    "shuffle.performance_drifts_"
   ]
  },
  {
   "cell_type": "code",
   "execution_count": 52,
   "id": "e7f3430e",
   "metadata": {},
   "outputs": [
    {
     "data": {
      "image/png": "[encoded data removed]",
      "text/plain": [
       "<Figure size 1440x360 with 1 Axes>"
      ]
     },
     "metadata": {
      "needs_background": "light"
     },
     "output_type": "display_data"
    }
   ],
   "source": [
    "# plot the drift\n",
    "pd.Series(shuffle.performance_drifts_).plot.bar(figsize=(20,5))\n",
    "plt.ylabel('Performance drift after shuffling')\n",
    "plt.show()"
   ]
  },
  {
   "cell_type": "code",
   "execution_count": 55,
   "id": "6ec13dd1",
   "metadata": {},
   "outputs": [
    {
     "data": {
      "text/plain": [
       "169"
      ]
     },
     "execution_count": 55,
     "metadata": {},
     "output_type": "execute_result"
    }
   ],
   "source": [
    "len(shuffle.features_to_drop_)"
   ]
  },
  {
   "cell_type": "code",
   "execution_count": 56,
   "id": "e194c752",
   "metadata": {},
   "outputs": [
    {
     "name": "stdout",
     "output_type": "stream",
     "text": [
      "No. of features before drop:  184\n",
      "No. of festures after drop:  15\n"
     ]
    }
   ],
   "source": [
    "print('No. of features before drop: ', X_train.shape[1])\n",
    "\n",
    "X_train = shuffle.transform(X_train)\n",
    "X_test = shuffle.transform(X_test)\n",
    "\n",
    "print('No. of festures after drop: ', X_train.shape[1])"
   ]
  },
  {
   "cell_type": "code",
   "execution_count": 57,
   "id": "b12025e2",
   "metadata": {},
   "outputs": [
    {
     "name": "stdout",
     "output_type": "stream",
     "text": [
      "Train roc-auc: 0.7889585136308672\n",
      "Text roc-auc: 0.7869414943700146\n"
     ]
    }
   ],
   "source": [
    "# Compare performance using RF\n",
    "\n",
    "rf = RandomForestClassifier(n_estimators=10, max_depth=3)\n",
    "\n",
    "rf.fit(X_train, y_train)\n",
    "\n",
    "pred = rf.predict_proba(X_train)\n",
    "print('Train roc-auc: {}'.format(roc_auc_score(y_train, pred[:,1])))\n",
    "\n",
    "pred = rf.predict_proba(X_test)\n",
    "print('Text roc-auc: {}'.format(roc_auc_score(y_test,pred[:,1])))"
   ]
  },
  {
   "cell_type": "code",
   "execution_count": null,
   "id": "291d9a41",
   "metadata": {},
   "outputs": [],
   "source": []
  },
  {
   "cell_type": "code",
   "execution_count": null,
   "id": "dde1d572",
   "metadata": {},
   "outputs": [],
   "source": []
  },
  {
   "cell_type": "code",
   "execution_count": null,
   "id": "2cfc36d1",
   "metadata": {},
   "outputs": [],
   "source": []
  }
 ],
 "metadata": {
  "kernelspec": {
   "display_name": "Python 3",
   "language": "python",
   "name": "python3"
  },
  "language_info": {
   "codemirror_mode": {
    "name": "ipython",
    "version": 3
   },
   "file_extension": ".py",
   "mimetype": "text/x-python",
   "name": "python",
   "nbconvert_exporter": "python",
   "pygments_lexer": "ipython3",
   "version": "3.8.8"
  }
 },
 "nbformat": 4,
 "nbformat_minor": 5
}
